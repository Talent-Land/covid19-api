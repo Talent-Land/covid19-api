{
  "nbformat": 4,
  "nbformat_minor": 0,
  "metadata": {
    "colab": {
      "name": "Dr_Simi_Title.ipynb",
      "provenance": [],
      "collapsed_sections": []
    },
    "kernelspec": {
      "name": "python3",
      "display_name": "Python 3"
    },
    "language_info": {
      "name": "python"
    },
    "gpuClass": "standard",
    "accelerator": "GPU"
  },
  "cells": [
    {
      "cell_type": "markdown",
      "source": [
        "# Install lib for Semantic Searching"
      ],
      "metadata": {
        "id": "wLtguimXfxTF"
      }
    },
    {
      "cell_type": "code",
      "source": [
        "!pip install pyvis;"
      ],
      "metadata": {
        "colab": {
          "base_uri": "https://localhost:8080/"
        },
        "id": "vP-oLCRVF5rU",
        "outputId": "9c913663-ada0-4553-f1f0-033d4005df39"
      },
      "execution_count": null,
      "outputs": [
        {
          "output_type": "stream",
          "name": "stdout",
          "text": [
            "Looking in indexes: https://pypi.org/simple, https://us-python.pkg.dev/colab-wheels/public/simple/\n",
            "Requirement already satisfied: pyvis in /usr/local/lib/python3.7/dist-packages (0.2.1)\n",
            "Requirement already satisfied: ipython>=5.3.0 in /usr/local/lib/python3.7/dist-packages (from pyvis) (5.5.0)\n",
            "Requirement already satisfied: jinja2>=2.9.6 in /usr/local/lib/python3.7/dist-packages (from pyvis) (2.11.3)\n",
            "Requirement already satisfied: networkx>=1.11 in /usr/local/lib/python3.7/dist-packages (from pyvis) (2.6.3)\n",
            "Requirement already satisfied: jsonpickle>=1.4.1 in /usr/local/lib/python3.7/dist-packages (from pyvis) (2.2.0)\n",
            "Requirement already satisfied: setuptools>=18.5 in /usr/local/lib/python3.7/dist-packages (from ipython>=5.3.0->pyvis) (57.4.0)\n",
            "Requirement already satisfied: decorator in /usr/local/lib/python3.7/dist-packages (from ipython>=5.3.0->pyvis) (4.4.2)\n",
            "Requirement already satisfied: pickleshare in /usr/local/lib/python3.7/dist-packages (from ipython>=5.3.0->pyvis) (0.7.5)\n",
            "Requirement already satisfied: pexpect in /usr/local/lib/python3.7/dist-packages (from ipython>=5.3.0->pyvis) (4.8.0)\n",
            "Requirement already satisfied: simplegeneric>0.8 in /usr/local/lib/python3.7/dist-packages (from ipython>=5.3.0->pyvis) (0.8.1)\n",
            "Requirement already satisfied: pygments in /usr/local/lib/python3.7/dist-packages (from ipython>=5.3.0->pyvis) (2.6.1)\n",
            "Requirement already satisfied: traitlets>=4.2 in /usr/local/lib/python3.7/dist-packages (from ipython>=5.3.0->pyvis) (5.1.1)\n",
            "Requirement already satisfied: prompt-toolkit<2.0.0,>=1.0.4 in /usr/local/lib/python3.7/dist-packages (from ipython>=5.3.0->pyvis) (1.0.18)\n",
            "Requirement already satisfied: MarkupSafe>=0.23 in /usr/local/lib/python3.7/dist-packages (from jinja2>=2.9.6->pyvis) (2.0.1)\n",
            "Requirement already satisfied: importlib-metadata in /usr/local/lib/python3.7/dist-packages (from jsonpickle>=1.4.1->pyvis) (4.12.0)\n",
            "Requirement already satisfied: wcwidth in /usr/local/lib/python3.7/dist-packages (from prompt-toolkit<2.0.0,>=1.0.4->ipython>=5.3.0->pyvis) (0.2.5)\n",
            "Requirement already satisfied: six>=1.9.0 in /usr/local/lib/python3.7/dist-packages (from prompt-toolkit<2.0.0,>=1.0.4->ipython>=5.3.0->pyvis) (1.15.0)\n",
            "Requirement already satisfied: zipp>=0.5 in /usr/local/lib/python3.7/dist-packages (from importlib-metadata->jsonpickle>=1.4.1->pyvis) (3.8.1)\n",
            "Requirement already satisfied: typing-extensions>=3.6.4 in /usr/local/lib/python3.7/dist-packages (from importlib-metadata->jsonpickle>=1.4.1->pyvis) (4.1.1)\n",
            "Requirement already satisfied: ptyprocess>=0.5 in /usr/local/lib/python3.7/dist-packages (from pexpect->ipython>=5.3.0->pyvis) (0.7.0)\n"
          ]
        }
      ]
    },
    {
      "cell_type": "code",
      "execution_count": null,
      "metadata": {
        "colab": {
          "base_uri": "https://localhost:8080/"
        },
        "id": "IVd44UCecag8",
        "outputId": "933d003c-6997-47d3-993d-0ae1faefa3f8"
      },
      "outputs": [
        {
          "output_type": "stream",
          "name": "stdout",
          "text": [
            "Looking in indexes: https://pypi.org/simple, https://us-python.pkg.dev/colab-wheels/public/simple/\n",
            "Requirement already satisfied: sentence-transformers in /usr/local/lib/python3.7/dist-packages (2.2.2)\n",
            "Requirement already satisfied: numpy in /usr/local/lib/python3.7/dist-packages (from sentence-transformers) (1.21.6)\n",
            "Requirement already satisfied: transformers<5.0.0,>=4.6.0 in /usr/local/lib/python3.7/dist-packages (from sentence-transformers) (4.20.1)\n",
            "Requirement already satisfied: scikit-learn in /usr/local/lib/python3.7/dist-packages (from sentence-transformers) (1.0.2)\n",
            "Requirement already satisfied: tqdm in /usr/local/lib/python3.7/dist-packages (from sentence-transformers) (4.64.0)\n",
            "Requirement already satisfied: sentencepiece in /usr/local/lib/python3.7/dist-packages (from sentence-transformers) (0.1.96)\n",
            "Requirement already satisfied: huggingface-hub>=0.4.0 in /usr/local/lib/python3.7/dist-packages (from sentence-transformers) (0.8.1)\n",
            "Requirement already satisfied: torch>=1.6.0 in /usr/local/lib/python3.7/dist-packages (from sentence-transformers) (1.12.0+cu113)\n",
            "Requirement already satisfied: torchvision in /usr/local/lib/python3.7/dist-packages (from sentence-transformers) (0.13.0+cu113)\n",
            "Requirement already satisfied: scipy in /usr/local/lib/python3.7/dist-packages (from sentence-transformers) (1.7.3)\n",
            "Requirement already satisfied: nltk in /usr/local/lib/python3.7/dist-packages (from sentence-transformers) (3.7)\n",
            "Requirement already satisfied: pyyaml>=5.1 in /usr/local/lib/python3.7/dist-packages (from huggingface-hub>=0.4.0->sentence-transformers) (6.0)\n",
            "Requirement already satisfied: typing-extensions>=3.7.4.3 in /usr/local/lib/python3.7/dist-packages (from huggingface-hub>=0.4.0->sentence-transformers) (4.1.1)\n",
            "Requirement already satisfied: packaging>=20.9 in /usr/local/lib/python3.7/dist-packages (from huggingface-hub>=0.4.0->sentence-transformers) (21.3)\n",
            "Requirement already satisfied: importlib-metadata in /usr/local/lib/python3.7/dist-packages (from huggingface-hub>=0.4.0->sentence-transformers) (4.12.0)\n",
            "Requirement already satisfied: filelock in /usr/local/lib/python3.7/dist-packages (from huggingface-hub>=0.4.0->sentence-transformers) (3.7.1)\n",
            "Requirement already satisfied: requests in /usr/local/lib/python3.7/dist-packages (from huggingface-hub>=0.4.0->sentence-transformers) (2.23.0)\n",
            "Requirement already satisfied: pyparsing!=3.0.5,>=2.0.2 in /usr/local/lib/python3.7/dist-packages (from packaging>=20.9->huggingface-hub>=0.4.0->sentence-transformers) (3.0.9)\n",
            "Requirement already satisfied: regex!=2019.12.17 in /usr/local/lib/python3.7/dist-packages (from transformers<5.0.0,>=4.6.0->sentence-transformers) (2022.6.2)\n",
            "Requirement already satisfied: tokenizers!=0.11.3,<0.13,>=0.11.1 in /usr/local/lib/python3.7/dist-packages (from transformers<5.0.0,>=4.6.0->sentence-transformers) (0.12.1)\n",
            "Requirement already satisfied: zipp>=0.5 in /usr/local/lib/python3.7/dist-packages (from importlib-metadata->huggingface-hub>=0.4.0->sentence-transformers) (3.8.1)\n",
            "Requirement already satisfied: joblib in /usr/local/lib/python3.7/dist-packages (from nltk->sentence-transformers) (1.1.0)\n",
            "Requirement already satisfied: click in /usr/local/lib/python3.7/dist-packages (from nltk->sentence-transformers) (7.1.2)\n",
            "Requirement already satisfied: chardet<4,>=3.0.2 in /usr/local/lib/python3.7/dist-packages (from requests->huggingface-hub>=0.4.0->sentence-transformers) (3.0.4)\n",
            "Requirement already satisfied: certifi>=2017.4.17 in /usr/local/lib/python3.7/dist-packages (from requests->huggingface-hub>=0.4.0->sentence-transformers) (2022.6.15)\n",
            "Requirement already satisfied: urllib3!=1.25.0,!=1.25.1,<1.26,>=1.21.1 in /usr/local/lib/python3.7/dist-packages (from requests->huggingface-hub>=0.4.0->sentence-transformers) (1.24.3)\n",
            "Requirement already satisfied: idna<3,>=2.5 in /usr/local/lib/python3.7/dist-packages (from requests->huggingface-hub>=0.4.0->sentence-transformers) (2.10)\n",
            "Requirement already satisfied: threadpoolctl>=2.0.0 in /usr/local/lib/python3.7/dist-packages (from scikit-learn->sentence-transformers) (3.1.0)\n",
            "Requirement already satisfied: pillow!=8.3.*,>=5.3.0 in /usr/local/lib/python3.7/dist-packages (from torchvision->sentence-transformers) (7.1.2)\n"
          ]
        }
      ],
      "source": [
        "!pip install -U sentence-transformers;"
      ]
    },
    {
      "cell_type": "markdown",
      "source": [
        "# Imports"
      ],
      "metadata": {
        "id": "9kzA59S2f3Kv"
      }
    },
    {
      "cell_type": "code",
      "source": [
        "# SENTENCE EMBEDINGS\n",
        "\n",
        "# from sentence_transformers import SentenceTransformer\n",
        "# model = SentenceTransformer('all-MiniLM-L6-v2')\n",
        "\n",
        "# #Our sentences we like to encode\n",
        "# sentences = ['This framework generates embeddings for each input sentence',\n",
        "#     'Sentences are passed as a list of string.',\n",
        "#     'The quick brown fox jumps over the lazy dog.']\n",
        "\n",
        "# #Sentences are encoded by calling model.encode()\n",
        "# embeddings = model.encode(sentences)\n",
        "\n",
        "# #Print the embeddings\n",
        "# for sentence, embedding in zip(sentences, embeddings):\n",
        "#     print(\"Sentence:\", sentence)\n",
        "#     print(\"Embedding:\", embedding)\n",
        "#     print(\"\")\n",
        "\n",
        "\n",
        "# SENTENCES SIMILARITIES\n",
        "\n",
        "# from sentence_transformers import SentenceTransformer, util\n",
        "# model = SentenceTransformer('all-MiniLM-L6-v2')\n",
        "\n",
        "# #Sentences are encoded by calling model.encode()\n",
        "# emb1 = model.encode(\"This is a red cat with a hat.\")\n",
        "# emb2 = model.encode(\"Have you seen my red cat?\")\n",
        "\n",
        "# cos_sim = util.cos_sim(emb1, emb2)\n",
        "# print(\"Cosine-Similarity:\", cos_sim)\n",
        "\n",
        "\n",
        "# from sentence_transformers import SentenceTransformer, util\n",
        "# model = SentenceTransformer('all-MiniLM-L6-v2')\n",
        "\n",
        "# sentences = ['A man is eating food.',\n",
        "#           'A man is eating a piece of bread.',\n",
        "#           'The girl is carrying a baby.',\n",
        "#           'A man is riding a horse.',\n",
        "#           'A woman is playing violin.',\n",
        "#           'Two men pushed carts through the woods.',\n",
        "#           'A man is riding a white horse on an enclosed ground.',\n",
        "#           'A monkey is playing drums.',\n",
        "#           'Someone in a gorilla costume is playing a set of drums.'\n",
        "#           ]\n",
        "\n",
        "# #Encode all sentences\n",
        "# embeddings = model.encode(sentences)\n",
        "\n",
        "# #Compute cosine similarity between all pairs\n",
        "# cos_sim = util.cos_sim(embeddings, embeddings)\n",
        "\n",
        "# #Add all pairs to a list with their cosine similarity score\n",
        "# all_sentence_combinations = []\n",
        "# for i in range(len(cos_sim)-1):\n",
        "#     for j in range(i+1, len(cos_sim)):\n",
        "#         all_sentence_combinations.append([cos_sim[i][j], i, j])\n",
        "\n",
        "# #Sort list by the highest cosine similarity score\n",
        "# all_sentence_combinations = sorted(all_sentence_combinations, key=lambda x: x[0], reverse=True)\n",
        "\n",
        "# print(\"Top-5 most similar pairs:\")\n",
        "# for score, i, j in all_sentence_combinations[0:5]:\n",
        "#     print(\"{} \\t {} \\t {:.4f}\".format(sentences[i], sentences[j], cos_sim[i][j]))"
      ],
      "metadata": {
        "id": "Kd-0LOYFWsQn"
      },
      "execution_count": null,
      "outputs": []
    },
    {
      "cell_type": "code",
      "source": [
        "import pandas as pd\n",
        "from sentence_transformers import SentenceTransformer, util\n",
        "from pyvis.network import Network\n",
        "import torch"
      ],
      "metadata": {
        "id": "nEKQI1B0cjO9"
      },
      "execution_count": null,
      "outputs": []
    },
    {
      "cell_type": "markdown",
      "source": [
        "# Load Data (from drive)"
      ],
      "metadata": {
        "id": "avlIgX6Nf5j1"
      }
    },
    {
      "cell_type": "code",
      "source": [
        "# df = pd.read_csv(\"./content/drive/MyDrive/Saruma/data/COVID19-web.csv\")\n",
        "df = pd.read_csv('COVID19_web_CLEAN.csv')"
      ],
      "metadata": {
        "id": "ST9q7E4ncoOH"
      },
      "execution_count": null,
      "outputs": []
    },
    {
      "cell_type": "code",
      "source": [
        "# from google.colab import drive\n",
        "# drive.mount('/content/drive')"
      ],
      "metadata": {
        "id": "pc4Jnn86o0ju"
      },
      "execution_count": null,
      "outputs": []
    },
    {
      "cell_type": "markdown",
      "source": [
        "# Look for best feature for searching"
      ],
      "metadata": {
        "id": "S7zor8k1f939"
      }
    },
    {
      "cell_type": "code",
      "source": [
        "len(df['SCIENTIFIC TITLE'][df['SCIENTIFIC TITLE'].isnull()])"
      ],
      "metadata": {
        "id": "73k-EUhSc85h",
        "colab": {
          "base_uri": "https://localhost:8080/"
        },
        "outputId": "c7336b56-e7ab-472d-8fe0-aec61f017408"
      },
      "execution_count": null,
      "outputs": [
        {
          "output_type": "execute_result",
          "data": {
            "text/plain": [
              "0"
            ]
          },
          "metadata": {},
          "execution_count": 7
        }
      ]
    },
    {
      "cell_type": "code",
      "source": [
        "len(df['PUBLIC TITLE'][df['PUBLIC TITLE'].isnull()])"
      ],
      "metadata": {
        "id": "xlJ1JC9qfQy_",
        "colab": {
          "base_uri": "https://localhost:8080/"
        },
        "outputId": "8be3152c-6cdb-47d0-d160-584df26ef410"
      },
      "execution_count": null,
      "outputs": [
        {
          "output_type": "execute_result",
          "data": {
            "text/plain": [
              "0"
            ]
          },
          "metadata": {},
          "execution_count": 8
        }
      ]
    },
    {
      "cell_type": "code",
      "source": [
        "len(df['PRIMARY OUTCOME'][df['PRIMARY OUTCOME'].isnull()])"
      ],
      "metadata": {
        "id": "6KNUH1Q-dK6T",
        "colab": {
          "base_uri": "https://localhost:8080/"
        },
        "outputId": "336b949a-42bc-41e5-d8dc-510f8f65c423"
      },
      "execution_count": null,
      "outputs": [
        {
          "output_type": "execute_result",
          "data": {
            "text/plain": [
              "0"
            ]
          },
          "metadata": {},
          "execution_count": 9
        }
      ]
    },
    {
      "cell_type": "markdown",
      "source": [
        "# Semantic Search"
      ],
      "metadata": {
        "id": "_pRE2x1QgCvk"
      }
    },
    {
      "cell_type": "markdown",
      "source": [
        "Reference: [Semantic Search Lib](https://sbert.net/docs/installation.html)\n"
      ],
      "metadata": {
        "id": "sT8cwpQyJjwZ"
      }
    },
    {
      "cell_type": "markdown",
      "source": [
        "## General Corpus for searching"
      ],
      "metadata": {
        "id": "JoEHlDingF1r"
      }
    },
    {
      "cell_type": "code",
      "source": [
        "corpus = df['SCIENTIFIC TITLE'].values"
      ],
      "metadata": {
        "id": "7RVeiZEGe53z"
      },
      "execution_count": null,
      "outputs": []
    },
    {
      "cell_type": "markdown",
      "source": [
        "## Model and Embedding"
      ],
      "metadata": {
        "id": "wlDx40-MgJOu"
      }
    },
    {
      "cell_type": "code",
      "source": [
        "model = SentenceTransformer('sentence-transformers/msmarco-MiniLM-L-6-v3')\n",
        "corpus_embeddings = model.encode(corpus, convert_to_tensor=True)"
      ],
      "metadata": {
        "id": "y9vg1gCrfrVX"
      },
      "execution_count": null,
      "outputs": []
    },
    {
      "cell_type": "markdown",
      "source": [
        "## Search function"
      ],
      "metadata": {
        "id": "jFO6L0hMCqfC"
      }
    },
    {
      "cell_type": "code",
      "source": [
        "from numpy.ma.core import append\n",
        "\n",
        "def search(query, answers):\n",
        "  \n",
        "  top_k = min(answers, len(corpus))\n",
        "\n",
        "  query_embedding = model.encode(query, convert_to_tensor=True)\n",
        "\n",
        "  # We use cosine-similarity and torch.topk to find the highest 5 scores\n",
        "  cos_scores = util.cos_sim(query_embedding, corpus_embeddings)[0]\n",
        "  top_results = torch.topk(cos_scores, k=top_k)\n",
        "\n",
        "  index = []\n",
        "  scores = []\n",
        "\n",
        "  for score, idx in zip(top_results[0], top_results[1]):\n",
        "      #print(idx.item())\n",
        "      #print(corpus[idx], \"(Score: {:.4f})\".format(score))\n",
        "      index.append(idx.item())\n",
        "      scores.append(score.item())\n",
        "  return index, scores"
      ],
      "metadata": {
        "id": "yQhNiegygl_P"
      },
      "execution_count": null,
      "outputs": []
    },
    {
      "cell_type": "markdown",
      "source": [
        "# Graph"
      ],
      "metadata": {
        "id": "dJMp-SWAIJxA"
      }
    },
    {
      "cell_type": "markdown",
      "source": [
        "Reference: [Ploting Graphs python](https://pyvis.readthedocs.io/en/latest/tutorial.html)"
      ],
      "metadata": {
        "id": "CaZ_VRf7J4_w"
      }
    },
    {
      "cell_type": "code",
      "source": [
        "\"\"\"\n",
        "Search Query  = vaccines, covid, man 40, hipertesion\n",
        "\"\"\"\n",
        "query = 'vaccines'\n",
        "\n",
        "primary  = 10\n",
        "secondary = 3"
      ],
      "metadata": {
        "id": "JF4F_vU8hFyd"
      },
      "execution_count": null,
      "outputs": []
    },
    {
      "cell_type": "code",
      "source": [
        "search_index, search_scores = search(query, primary)"
      ],
      "metadata": {
        "id": "Iergb0FzhFuh"
      },
      "execution_count": null,
      "outputs": []
    },
    {
      "cell_type": "code",
      "source": [
        "sources = [query for i in range(primary)] \n",
        "targets = [df.iloc[ind]['SCIENTIFIC TITLE'] for ind in search_index]"
      ],
      "metadata": {
        "id": "xRXD7QcLDoyU"
      },
      "execution_count": null,
      "outputs": []
    },
    {
      "cell_type": "code",
      "source": [
        "for i in targets:\n",
        "  print(i)"
      ],
      "metadata": {
        "colab": {
          "base_uri": "https://localhost:8080/"
        },
        "id": "4ziQhCTQef6e",
        "outputId": "4fb2c09e-b20e-4e97-d612-b4325c2a7ba6"
      },
      "execution_count": null,
      "outputs": [
        {
          "output_type": "stream",
          "name": "stdout",
          "text": [
            "A Norwegian Study of Vaccine Response to COVID-19 Vaccines in Patients Using Immunosuppressive Medication Within Rheumatology and Gastroenterology: the Nor-vaC Study\n",
            "National Vaccine Adverse Event Reporting Survey to Determine the Etiology of Vaccine-Induced Injury\n",
            "Human Pilot Test of an Oral Neutralizing Antibody Booster for Post-vaccinated People With COVID19 Vaccine\n",
            "BCG Vaccine to Reduce Unplanned Absenteeism Due to Illness of Health Care Workers During the COVID-19 Pandemic. A Multi-center Randomised Controlled Trial (BCG-COVID-RCT)\n",
            "The safety and efficacy of COVID-19 vaccines among lung transplant recipients: Non-randomised controlled cohort study - The safety and efficacy of COVID-19 vaccines among lung transplant recipients                                                                                                                                                                                                                                                                                                                                                                                                                                                                                                                                                                                                                                                                                                                                                                                                                                                                                                                                                                                                                                                                                                                                                                                                                                                                                                                                                                                                                                                                                                                                                                                                                                                                                                                                                                                                                                                                           \n",
            "Comprehensive evaluations of dynamic changes in the immune system of healthy volunteers after vaccination with inactivated Novel Coronavirus Pneumonia (COVID-19) vaccine (Vero cells) (SARS-CoV-2 Vaccine (Vero Cell), Inactivated)                                                                                                                                                                                                                                                                                                                                                                                                                                                                                                                                                                                                                                                                                                                                                                                                                                                                                                                                                                                                                                                                                                                                                                                                                                                                                                                                                                                                                                                                                                                                                                                                                                                                                                                                                                                                                                            \n",
            "LONGEVITY OF IMMUNE RESPONSE TO COVID-19 VACCINE IN VACCINATED MULTIPLE SCLEROSIS PATIENTS TREATED WITH TERIFLUNOMIDE (AUBAGIO) OR ALEMTUZUMAB (LEMTRADA)\n",
            "A Proof-of-concept Study of Poliovirus Vaccine (IPV) Activity to Induce an Immune Response That Cross-reacts With Severe Acute Respiratory Syndrome Coronavirus 2 (SARS CoV-2)\n",
            "Evaluating Immune Response to COVID-19 Vaccines in Patients With Cancer, Transplant or Cellular Therapy Recipients\n",
            "Vaccine Responses in Patients With B Cell Malignancies\n"
          ]
        }
      ]
    },
    {
      "cell_type": "markdown",
      "source": [
        "The structure for the graph is:\n",
        "\n",
        "source1 -> target1 <br>\n",
        "source1 -> target2 <br>\n",
        "target1 -> target2 <br>\n",
        "\n",
        "You can also add a specific weight for each of the connections."
      ],
      "metadata": {
        "id": "m1QcEVotKHYH"
      }
    },
    {
      "cell_type": "code",
      "source": [
        "got_net = Network(height='750px', width='100%', bgcolor='#222222', font_color='white', notebook=True)\n",
        "edge_data = zip(sources, targets, search_scores)\n",
        "\n",
        "for e in edge_data:\n",
        "    src = e[0]\n",
        "    dst = e[1]\n",
        "    w = e[2]\n",
        "\n",
        "    got_net.add_node(src, src, title=src)\n",
        "    got_net.add_node(dst, dst, title=dst)\n",
        "    got_net.add_edge(src, dst, value=w)\n",
        "\n",
        "# got_net.show('/content/drive/MyDrive/Saruma/data/Search_Graph.html')\n",
        "got_net.show('Search_Graph.html')"
      ],
      "metadata": {
        "id": "IXOj1jGXFmkZ",
        "colab": {
          "base_uri": "https://localhost:8080/",
          "height": 771
        },
        "outputId": "b6a03ce7-9c25-459b-afde-c72afafcca98"
      },
      "execution_count": null,
      "outputs": [
        {
          "output_type": "execute_result",
          "data": {
            "text/plain": [
              "<IPython.lib.display.IFrame at 0x7f908053d8d0>"
            ],
            "text/html": [
              "\n",
              "        <iframe\n",
              "            width=\"100%\"\n",
              "            height=\"750px\"\n",
              "            src=\"Search_Graph.html\"\n",
              "            frameborder=\"0\"\n",
              "            allowfullscreen\n",
              "        ></iframe>\n",
              "        "
            ]
          },
          "metadata": {},
          "execution_count": 17
        }
      ]
    },
    {
      "cell_type": "markdown",
      "source": [
        "No funciona en colab, pueden bajar el html que se genera en drive y correrlo local para ver como se ve el grafo."
      ],
      "metadata": {
        "id": "ksYZ0a-EK3pw"
      }
    }
  ]
}