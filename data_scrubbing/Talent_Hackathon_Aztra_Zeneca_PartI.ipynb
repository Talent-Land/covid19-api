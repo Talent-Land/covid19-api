{
  "cells": [
    {
      "cell_type": "markdown",
      "metadata": {
        "id": "5z3UCkONRY17"
      },
      "source": [
        "# Libraries\n",
        "\n",
        "Useful stuff"
      ]
    },
    {
      "cell_type": "code",
      "execution_count": null,
      "metadata": {
        "id": "Pf3KrPqpQej-"
      },
      "outputs": [],
      "source": [
        "import pandas as pd\n",
        "import numpy as np\n",
        "import datetime\n",
        "from numpy import NaN\n",
        "import re"
      ]
    },
    {
      "cell_type": "markdown",
      "source": [
        "# Import Data"
      ],
      "metadata": {
        "id": "BYRJ8w--coLB"
      }
    },
    {
      "cell_type": "markdown",
      "source": [
        "Data is imported from local cloud file system. \n",
        "\n",
        "Each time this notebook is executed, the file \"COVID19-web.csv\" must be uploaded."
      ],
      "metadata": {
        "id": "4SjLFgUwc0_6"
      }
    },
    {
      "cell_type": "code",
      "execution_count": null,
      "metadata": {
        "id": "zviAShqjRERN"
      },
      "outputs": [],
      "source": [
        "# Data Acquisition\n",
        "df = pd.read_csv('COVID19-web.csv', encoding='utf-8')"
      ]
    },
    {
      "cell_type": "code",
      "source": [
        "df.columns"
      ],
      "metadata": {
        "colab": {
          "base_uri": "https://localhost:8080/"
        },
        "id": "ndS6NkQ8Jeoo",
        "outputId": "c2809383-c7d1-4c58-f855-23ce494b8153"
      },
      "execution_count": null,
      "outputs": [
        {
          "output_type": "execute_result",
          "data": {
            "text/plain": [
              "Index(['TrialID', 'Last Refreshed on', 'Public title', 'Scientific title',\n",
              "       'Acronym', 'Primary sponsor', 'Date registration', 'Date registration3',\n",
              "       'Export date', 'Source Register', 'web address', 'Recruitment Status',\n",
              "       'other records', 'Inclusion agemin', 'Inclusion agemax',\n",
              "       'Inclusion gender', 'Date enrollement', 'Target size', 'Study type',\n",
              "       'Study design', 'Phase', 'Countries', 'Contact Firstname',\n",
              "       'Contact Lastname', 'Contact Address', 'Contact Email', 'Contact Tel',\n",
              "       'Contact Affiliation', 'Inclusion Criteria', 'Exclusion Criteria',\n",
              "       'Condition', 'Intervention', 'Primary outcome', 'results date posted',\n",
              "       'results date completed', 'results url link', 'Retrospective flag',\n",
              "       'Bridging flag truefalse', 'Bridged type', 'results yes no'],\n",
              "      dtype='object')"
            ]
          },
          "metadata": {},
          "execution_count": 3
        }
      ]
    },
    {
      "cell_type": "code",
      "source": [
        "criteria = 'Phase'\n",
        "df[criteria].unique()\n",
        "# len(df[criteria].unique())"
      ],
      "metadata": {
        "colab": {
          "base_uri": "https://localhost:8080/"
        },
        "id": "4WfqJhsBJgvl",
        "outputId": "0e02419a-a172-4082-f75a-379361a575ef"
      },
      "execution_count": null,
      "outputs": [
        {
          "output_type": "execute_result",
          "data": {
            "text/plain": [
              "array([nan, 'Phase 1', 'Phase 4', 'Retrospective study', '0', '4', '3',\n",
              "       'New Treatment Measure Clinical Study', '2', '1-2', '1', '2-3',\n",
              "       'Human pharmacology (Phase I): no\\nTherapeutic exploratory (Phase II): no\\nTherapeutic confirmatory - (Phase III): yes\\nTherapeutic use (Phase IV): no\\n',\n",
              "       'Human pharmacology (Phase I): no\\nTherapeutic exploratory (Phase II): yes\\nTherapeutic confirmatory - (Phase III): no\\nTherapeutic use (Phase IV): no\\n',\n",
              "       'Not Applicable',\n",
              "       'Human pharmacology (Phase I): no\\nTherapeutic exploratory (Phase II): no\\nTherapeutic confirmatory - (Phase III): no\\nTherapeutic use (Phase IV): yes\\n',\n",
              "       'Phase 2', 'Diagnostic New Technique Clincal Study',\n",
              "       'Human pharmacology (Phase I): yes\\nTherapeutic exploratory (Phase II): yes\\nTherapeutic confirmatory - (Phase III): no\\nTherapeutic use (Phase IV): no\\n',\n",
              "       'Phase2/Phase3', 'Phase2', 'Phase II/III', 'Phase 1 / Phase 2',\n",
              "       'Phase II',\n",
              "       'Human pharmacology (Phase I): no\\nTherapeutic exploratory (Phase II): yes\\nTherapeutic confirmatory - (Phase III): yes\\nTherapeutic use (Phase IV): no\\n',\n",
              "       'Not Specified', 'Phase III/IV', '0 (exploratory trials)',\n",
              "       'Phase 3', 'Not applicable', 'Phase I', 'Phase 2/Phase 3',\n",
              "       'Phase 1/Phase 2', 'Early Phase 1', 'Phase 2 / Phase 3',\n",
              "       'Phase IV', 'Phase III',\n",
              "       'Human pharmacology (Phase I): no\\nTherapeutic exploratory (Phase II): no\\nTherapeutic confirmatory - (Phase III): yes\\nTherapeutic use (Phase IV): yes\\n',\n",
              "       'Phase I/II',\n",
              "       'Human pharmacology (Phase I): \\nTherapeutic exploratory (Phase II): yes\\nTherapeutic confirmatory - (Phase III): \\nTherapeutic use (Phase IV): no\\n',\n",
              "       'Human pharmacology (Phase I): yes\\nTherapeutic exploratory (Phase II): no\\nTherapeutic confirmatory - (Phase III): no\\nTherapeutic use (Phase IV): yes\\n',\n",
              "       'Phase 0', 'Phase3', 'Phase1/Phase2', 'Bioequivalence',\n",
              "       'Phase 1/ Phase 2', 'Post Marketing Surveillance',\n",
              "       'Phase 2/ Phase 3', 'Phase 3/ Phase 4', 'Phase1',\n",
              "       'Human pharmacology (Phase I): yes\\nTherapeutic exploratory (Phase II): no\\nTherapeutic confirmatory - (Phase III): no\\nTherapeutic use (Phase IV): no\\n',\n",
              "       'Not selected', 'Phase II,III', 'IIb', 'I', 'III', 'IV', 'II-III',\n",
              "       'II', 'I-II', 'Phase 2-3', 'Phase 1-2', 'Phase-3', 'Phase-2',\n",
              "       'Phase-1'], dtype=object)"
            ]
          },
          "metadata": {},
          "execution_count": 4
        }
      ]
    },
    {
      "cell_type": "code",
      "source": [
        "len(df)"
      ],
      "metadata": {
        "colab": {
          "base_uri": "https://localhost:8080/"
        },
        "id": "q5n9S3IPCk02",
        "outputId": "4601828f-0ed6-4319-d1cb-87d318bdcad8"
      },
      "execution_count": null,
      "outputs": [
        {
          "output_type": "execute_result",
          "data": {
            "text/plain": [
              "14685"
            ]
          },
          "metadata": {},
          "execution_count": 5
        }
      ]
    },
    {
      "cell_type": "markdown",
      "source": [
        "Index starts at 1 for easy Database manipulation."
      ],
      "metadata": {
        "id": "fzXn_dptcsmB"
      }
    },
    {
      "cell_type": "code",
      "source": [
        "# Index starts at 1 \n",
        "df.index = df.index +  1  "
      ],
      "metadata": {
        "id": "1F0CKZiuc1p-"
      },
      "execution_count": null,
      "outputs": []
    },
    {
      "cell_type": "markdown",
      "metadata": {
        "id": "JyGnbYHBwqbQ"
      },
      "source": [
        "# Data Overview"
      ]
    },
    {
      "cell_type": "markdown",
      "source": [
        "All features from the original dataset."
      ],
      "metadata": {
        "id": "HTJLPekRdSLA"
      }
    },
    {
      "cell_type": "code",
      "execution_count": null,
      "metadata": {
        "colab": {
          "base_uri": "https://localhost:8080/"
        },
        "id": "woo46SVQRJ0h",
        "outputId": "f7d1a95c-6136-43b0-d42e-0ed7d259f8f6"
      },
      "outputs": [
        {
          "output_type": "execute_result",
          "data": {
            "text/plain": [
              "Index(['TrialID', 'Last Refreshed on', 'Public title', 'Scientific title',\n",
              "       'Acronym', 'Primary sponsor', 'Date registration', 'Date registration3',\n",
              "       'Export date', 'Source Register', 'web address', 'Recruitment Status',\n",
              "       'other records', 'Inclusion agemin', 'Inclusion agemax',\n",
              "       'Inclusion gender', 'Date enrollement', 'Target size', 'Study type',\n",
              "       'Study design', 'Phase', 'Countries', 'Contact Firstname',\n",
              "       'Contact Lastname', 'Contact Address', 'Contact Email', 'Contact Tel',\n",
              "       'Contact Affiliation', 'Inclusion Criteria', 'Exclusion Criteria',\n",
              "       'Condition', 'Intervention', 'Primary outcome', 'results date posted',\n",
              "       'results date completed', 'results url link', 'Retrospective flag',\n",
              "       'Bridging flag truefalse', 'Bridged type', 'results yes no'],\n",
              "      dtype='object')"
            ]
          },
          "metadata": {},
          "execution_count": 7
        }
      ],
      "source": [
        "df.columns"
      ]
    },
    {
      "cell_type": "markdown",
      "metadata": {
        "id": "Me78PlleEIQT"
      },
      "source": [
        "## ID Column Creation"
      ]
    },
    {
      "cell_type": "markdown",
      "source": [
        "For easy database manipulation in the API, an id (numerical column) is added"
      ],
      "metadata": {
        "id": "O6Jqx5uxd6yr"
      }
    },
    {
      "cell_type": "code",
      "execution_count": null,
      "metadata": {
        "id": "zKlSj7OnEKRZ"
      },
      "outputs": [],
      "source": [
        "df.reset_index(inplace=True)"
      ]
    },
    {
      "cell_type": "markdown",
      "source": [
        "Feature names are transformed to upper case for database manipulation"
      ],
      "metadata": {
        "id": "fx_WxXfHgkmO"
      }
    },
    {
      "cell_type": "code",
      "source": [
        "df.columns = df.columns.str.upper()\n",
        "df.rename(columns = {'INDEX':'ID'}, inplace=True)"
      ],
      "metadata": {
        "id": "dJK_K7xvdRcB"
      },
      "execution_count": null,
      "outputs": []
    },
    {
      "cell_type": "code",
      "source": [
        "df"
      ],
      "metadata": {
        "colab": {
          "base_uri": "https://localhost:8080/",
          "height": 1000
        },
        "id": "CvpRvuMweti0",
        "outputId": "637abe00-3a9b-47a9-8c5f-8e33b31a4bd6"
      },
      "execution_count": null,
      "outputs": [
        {
          "output_type": "execute_result",
          "data": {
            "text/plain": [
              "          ID               TRIALID LAST REFRESHED ON  \\\n",
              "0          1           NCT00173563  19 February 2015   \n",
              "1          2           NCT00523276  19 February 2015   \n",
              "2          3           NCT00533741  19 February 2015   \n",
              "3          4           NCT01376765  19 February 2015   \n",
              "4          5  IRCT20180223038837N1   14 January 2019   \n",
              "...      ...                   ...               ...   \n",
              "14680  14681    JPRN-UMIN000047920       6 July 2022   \n",
              "14681  14682    JPRN-UMIN000047947       6 July 2022   \n",
              "14682  14683    JPRN-UMIN000047978       6 July 2022   \n",
              "14683  14684    JPRN-UMIN000048027       6 July 2022   \n",
              "14684  14685    JPRN-UMIN000048028       6 July 2022   \n",
              "\n",
              "                                            PUBLIC TITLE  \\\n",
              "0      Induction of Cytokines in Human Monocytes by S...   \n",
              "1                              SARS Survivor Evaluations   \n",
              "2                    SARS Coronavirus Vaccine (SARS-CoV)   \n",
              "3      Phase I Dose Escalation SARS-CoV Recombinant S...   \n",
              "4      Comparative study of radiofrequency ablation &...   \n",
              "...                                                  ...   \n",
              "14680  Immune persistence and safety survey (cohort s...   \n",
              "14681  Leading to a satisfying delivery experience fo...   \n",
              "14682  Study of COVID-19-related thromboembolism and ...   \n",
              "14683  Clinical Study Report of\\nSARS-CoV-2 Antigen R...   \n",
              "14684  SARS-CoV-2 Antigen Rapid Test (nasal swab)\\nIN...   \n",
              "\n",
              "                                        SCIENTIFIC TITLE ACRONYM  \\\n",
              "0      Induction of Cytokines in Human Monocytes by S...     NaN   \n",
              "1      Immune Responses, Transmission and Nucleotide ...     NaN   \n",
              "2      Phase I, Double-Blinded, Placebo-Controlled Do...     NaN   \n",
              "3      Phase I, Double-Blinded, Placebo-Controlled, D...     NaN   \n",
              "4      Comparative study of radiofrequency ablation &...     NaN   \n",
              "...                                                  ...     ...   \n",
              "14680  Immune persistence and safety survey (cohort s...     NaN   \n",
              "14681  Leading to a satisfying delivery experience fo...     NaN   \n",
              "14682  Study of COVID-19-related thromboembolism and ...     NaN   \n",
              "14683  SARS-CoV-2 Antigen Rapid Test \\n(nasopharyngea...     NaN   \n",
              "14684  SARS-CoV-2 Antigen Rapid Test (nasal swab)\\nIN...     NaN   \n",
              "\n",
              "                                         PRIMARY SPONSOR DATE REGISTRATION  \\\n",
              "0                    National Taiwan University Hospital        12/09/2005   \n",
              "1      National Institute of Allergy and Infectious D...        30/08/2007   \n",
              "2      National Institute of Allergy and Infectious D...        20/09/2007   \n",
              "3      National Institute of Allergy and Infectious D...        16/06/2011   \n",
              "4              Kermanshah University of Medical Sciences        2018-12-08   \n",
              "...                                                  ...               ...   \n",
              "14680            Juntendo University, School of Medicine        01/06/2022   \n",
              "14681  Osaka Medical and Pharmaceutical University\\nT...        04/06/2022   \n",
              "14682  Nihon University Itabashi  Hospital\\nDepartmen...        07/06/2022   \n",
              "14683                  Hangzhou AllTest Biotech Co., Ltd        10/06/2022   \n",
              "14684                  Hangzhou AllTest Biotech Co., Ltd        10/06/2022   \n",
              "\n",
              "       DATE REGISTRATION3           EXPORT DATE  ...  \\\n",
              "0                20050912  7/7/2022 10:12:07 AM  ...   \n",
              "1                20070830  7/7/2022 10:12:07 AM  ...   \n",
              "2                20070920  7/7/2022 10:12:07 AM  ...   \n",
              "3                20110616  7/7/2022 10:12:07 AM  ...   \n",
              "4                20181208  7/7/2022 10:12:07 AM  ...   \n",
              "...                   ...                   ...  ...   \n",
              "14680            20220601  7/7/2022 10:12:07 AM  ...   \n",
              "14681            20220604  7/7/2022 10:12:07 AM  ...   \n",
              "14682            20220607  7/7/2022 10:12:07 AM  ...   \n",
              "14683            20220610  7/7/2022 10:12:07 AM  ...   \n",
              "14684            20220610  7/7/2022 10:12:07 AM  ...   \n",
              "\n",
              "                                               CONDITION  \\\n",
              "0                                                Healthy   \n",
              "1                                 Coronavirus (SARS-CoV)   \n",
              "2                                 Coronavirus (SARS-CoV)   \n",
              "3                                                   SARS   \n",
              "4      Varicose veins of lower extremities. <br>Varic...   \n",
              "...                                                  ...   \n",
              "14680                                           COVID-19   \n",
              "14681                     Healthy maternals and husbands   \n",
              "14682                                           COVID-19   \n",
              "14683                                           COVID-19   \n",
              "14684                                           COVID-19   \n",
              "\n",
              "                                            INTERVENTION  \\\n",
              "0                                                    NaN   \n",
              "1                                                    NaN   \n",
              "2      Biological: SARS-CoV;Drug: Placebo;Drug: Alumi...   \n",
              "3      Biological: Recombinant S protein SARS vaccine...   \n",
              "4      Intervention 1: Interventional Group 1: This g...   \n",
              "...                                                  ...   \n",
              "14680                                                NaN   \n",
              "14681  eriod:Around September 2022 after the approval...   \n",
              "14682                                                NaN   \n",
              "14683                                                NaN   \n",
              "14684                                                NaN   \n",
              "\n",
              "                                         PRIMARY OUTCOME RESULTS DATE POSTED  \\\n",
              "0                                                    NaN                 NaN   \n",
              "1                            Positive serology, SARS CoV                 NaN   \n",
              "2      Frequency and severity of solicited injection ...                 NaN   \n",
              "3      Occurrence of laboratory abnormalities at 8 da...                 NaN   \n",
              "4      Recurrence of Varicose Veins. Timepoint: One w...                 NaN   \n",
              "...                                                  ...                 ...   \n",
              "14680  1)Prime series<br> Safety up to 4 weeks after ...                 NaN   \n",
              "14681  Evaluation of Development of an online Deliver...                 NaN   \n",
              "14682  Presence or absence of cardiovascular impairme...                 NaN   \n",
              "14683  1. Comparison with approved antigen quantitati...                 NaN   \n",
              "14684  1.Comparison with approved antigen quantitatio...                 NaN   \n",
              "\n",
              "      RESULTS DATE COMPLETED RESULTS URL LINK RETROSPECTIVE FLAG  \\\n",
              "0                        NaN              NaN                Yes   \n",
              "1                        NaN              NaN                 No   \n",
              "2                        NaN              NaN                Yes   \n",
              "3                        NaN              NaN                Yes   \n",
              "4                        NaN              NaN                 No   \n",
              "...                      ...              ...                ...   \n",
              "14680             30/09/2023              NaN                 No   \n",
              "14681             31/03/2024              NaN                Yes   \n",
              "14682             01/03/2023              NaN                 No   \n",
              "14683             31/08/2022              NaN                 No   \n",
              "14684             31/08/2022              NaN                 No   \n",
              "\n",
              "      BRIDGING FLAG TRUEFALSE BRIDGED TYPE RESULTS YES NO  \n",
              "0                       False                         NaN  \n",
              "1                       False                         NaN  \n",
              "2                       False                         NaN  \n",
              "3                       False                         NaN  \n",
              "4                       False                         NaN  \n",
              "...                       ...          ...            ...  \n",
              "14680                   False                         NaN  \n",
              "14681                   False                         NaN  \n",
              "14682                   False                         NaN  \n",
              "14683                   False                         NaN  \n",
              "14684                   False                         NaN  \n",
              "\n",
              "[14685 rows x 41 columns]"
            ],
            "text/html": [
              "\n",
              "  <div id=\"df-9a0db2c3-df3e-4312-b1c8-267cafcd3efd\">\n",
              "    <div class=\"colab-df-container\">\n",
              "      <div>\n",
              "<style scoped>\n",
              "    .dataframe tbody tr th:only-of-type {\n",
              "        vertical-align: middle;\n",
              "    }\n",
              "\n",
              "    .dataframe tbody tr th {\n",
              "        vertical-align: top;\n",
              "    }\n",
              "\n",
              "    .dataframe thead th {\n",
              "        text-align: right;\n",
              "    }\n",
              "</style>\n",
              "<table border=\"1\" class=\"dataframe\">\n",
              "  <thead>\n",
              "    <tr style=\"text-align: right;\">\n",
              "      <th></th>\n",
              "      <th>ID</th>\n",
              "      <th>TRIALID</th>\n",
              "      <th>LAST REFRESHED ON</th>\n",
              "      <th>PUBLIC TITLE</th>\n",
              "      <th>SCIENTIFIC TITLE</th>\n",
              "      <th>ACRONYM</th>\n",
              "      <th>PRIMARY SPONSOR</th>\n",
              "      <th>DATE REGISTRATION</th>\n",
              "      <th>DATE REGISTRATION3</th>\n",
              "      <th>EXPORT DATE</th>\n",
              "      <th>...</th>\n",
              "      <th>CONDITION</th>\n",
              "      <th>INTERVENTION</th>\n",
              "      <th>PRIMARY OUTCOME</th>\n",
              "      <th>RESULTS DATE POSTED</th>\n",
              "      <th>RESULTS DATE COMPLETED</th>\n",
              "      <th>RESULTS URL LINK</th>\n",
              "      <th>RETROSPECTIVE FLAG</th>\n",
              "      <th>BRIDGING FLAG TRUEFALSE</th>\n",
              "      <th>BRIDGED TYPE</th>\n",
              "      <th>RESULTS YES NO</th>\n",
              "    </tr>\n",
              "  </thead>\n",
              "  <tbody>\n",
              "    <tr>\n",
              "      <th>0</th>\n",
              "      <td>1</td>\n",
              "      <td>NCT00173563</td>\n",
              "      <td>19 February 2015</td>\n",
              "      <td>Induction of Cytokines in Human Monocytes by S...</td>\n",
              "      <td>Induction of Cytokines in Human Monocytes by S...</td>\n",
              "      <td>NaN</td>\n",
              "      <td>National Taiwan University Hospital</td>\n",
              "      <td>12/09/2005</td>\n",
              "      <td>20050912</td>\n",
              "      <td>7/7/2022 10:12:07 AM</td>\n",
              "      <td>...</td>\n",
              "      <td>Healthy</td>\n",
              "      <td>NaN</td>\n",
              "      <td>NaN</td>\n",
              "      <td>NaN</td>\n",
              "      <td>NaN</td>\n",
              "      <td>NaN</td>\n",
              "      <td>Yes</td>\n",
              "      <td>False</td>\n",
              "      <td></td>\n",
              "      <td>NaN</td>\n",
              "    </tr>\n",
              "    <tr>\n",
              "      <th>1</th>\n",
              "      <td>2</td>\n",
              "      <td>NCT00523276</td>\n",
              "      <td>19 February 2015</td>\n",
              "      <td>SARS Survivor Evaluations</td>\n",
              "      <td>Immune Responses, Transmission and Nucleotide ...</td>\n",
              "      <td>NaN</td>\n",
              "      <td>National Institute of Allergy and Infectious D...</td>\n",
              "      <td>30/08/2007</td>\n",
              "      <td>20070830</td>\n",
              "      <td>7/7/2022 10:12:07 AM</td>\n",
              "      <td>...</td>\n",
              "      <td>Coronavirus (SARS-CoV)</td>\n",
              "      <td>NaN</td>\n",
              "      <td>Positive serology, SARS CoV</td>\n",
              "      <td>NaN</td>\n",
              "      <td>NaN</td>\n",
              "      <td>NaN</td>\n",
              "      <td>No</td>\n",
              "      <td>False</td>\n",
              "      <td></td>\n",
              "      <td>NaN</td>\n",
              "    </tr>\n",
              "    <tr>\n",
              "      <th>2</th>\n",
              "      <td>3</td>\n",
              "      <td>NCT00533741</td>\n",
              "      <td>19 February 2015</td>\n",
              "      <td>SARS Coronavirus Vaccine (SARS-CoV)</td>\n",
              "      <td>Phase I, Double-Blinded, Placebo-Controlled Do...</td>\n",
              "      <td>NaN</td>\n",
              "      <td>National Institute of Allergy and Infectious D...</td>\n",
              "      <td>20/09/2007</td>\n",
              "      <td>20070920</td>\n",
              "      <td>7/7/2022 10:12:07 AM</td>\n",
              "      <td>...</td>\n",
              "      <td>Coronavirus (SARS-CoV)</td>\n",
              "      <td>Biological: SARS-CoV;Drug: Placebo;Drug: Alumi...</td>\n",
              "      <td>Frequency and severity of solicited injection ...</td>\n",
              "      <td>NaN</td>\n",
              "      <td>NaN</td>\n",
              "      <td>NaN</td>\n",
              "      <td>Yes</td>\n",
              "      <td>False</td>\n",
              "      <td></td>\n",
              "      <td>NaN</td>\n",
              "    </tr>\n",
              "    <tr>\n",
              "      <th>3</th>\n",
              "      <td>4</td>\n",
              "      <td>NCT01376765</td>\n",
              "      <td>19 February 2015</td>\n",
              "      <td>Phase I Dose Escalation SARS-CoV Recombinant S...</td>\n",
              "      <td>Phase I, Double-Blinded, Placebo-Controlled, D...</td>\n",
              "      <td>NaN</td>\n",
              "      <td>National Institute of Allergy and Infectious D...</td>\n",
              "      <td>16/06/2011</td>\n",
              "      <td>20110616</td>\n",
              "      <td>7/7/2022 10:12:07 AM</td>\n",
              "      <td>...</td>\n",
              "      <td>SARS</td>\n",
              "      <td>Biological: Recombinant S protein SARS vaccine...</td>\n",
              "      <td>Occurrence of laboratory abnormalities at 8 da...</td>\n",
              "      <td>NaN</td>\n",
              "      <td>NaN</td>\n",
              "      <td>NaN</td>\n",
              "      <td>Yes</td>\n",
              "      <td>False</td>\n",
              "      <td></td>\n",
              "      <td>NaN</td>\n",
              "    </tr>\n",
              "    <tr>\n",
              "      <th>4</th>\n",
              "      <td>5</td>\n",
              "      <td>IRCT20180223038837N1</td>\n",
              "      <td>14 January 2019</td>\n",
              "      <td>Comparative study of radiofrequency ablation &amp;...</td>\n",
              "      <td>Comparative study of radiofrequency ablation &amp;...</td>\n",
              "      <td>NaN</td>\n",
              "      <td>Kermanshah University of Medical Sciences</td>\n",
              "      <td>2018-12-08</td>\n",
              "      <td>20181208</td>\n",
              "      <td>7/7/2022 10:12:07 AM</td>\n",
              "      <td>...</td>\n",
              "      <td>Varicose veins of lower extremities. &lt;br&gt;Varic...</td>\n",
              "      <td>Intervention 1: Interventional Group 1: This g...</td>\n",
              "      <td>Recurrence of Varicose Veins. Timepoint: One w...</td>\n",
              "      <td>NaN</td>\n",
              "      <td>NaN</td>\n",
              "      <td>NaN</td>\n",
              "      <td>No</td>\n",
              "      <td>False</td>\n",
              "      <td></td>\n",
              "      <td>NaN</td>\n",
              "    </tr>\n",
              "    <tr>\n",
              "      <th>...</th>\n",
              "      <td>...</td>\n",
              "      <td>...</td>\n",
              "      <td>...</td>\n",
              "      <td>...</td>\n",
              "      <td>...</td>\n",
              "      <td>...</td>\n",
              "      <td>...</td>\n",
              "      <td>...</td>\n",
              "      <td>...</td>\n",
              "      <td>...</td>\n",
              "      <td>...</td>\n",
              "      <td>...</td>\n",
              "      <td>...</td>\n",
              "      <td>...</td>\n",
              "      <td>...</td>\n",
              "      <td>...</td>\n",
              "      <td>...</td>\n",
              "      <td>...</td>\n",
              "      <td>...</td>\n",
              "      <td>...</td>\n",
              "      <td>...</td>\n",
              "    </tr>\n",
              "    <tr>\n",
              "      <th>14680</th>\n",
              "      <td>14681</td>\n",
              "      <td>JPRN-UMIN000047920</td>\n",
              "      <td>6 July 2022</td>\n",
              "      <td>Immune persistence and safety survey (cohort s...</td>\n",
              "      <td>Immune persistence and safety survey (cohort s...</td>\n",
              "      <td>NaN</td>\n",
              "      <td>Juntendo University, School of Medicine</td>\n",
              "      <td>01/06/2022</td>\n",
              "      <td>20220601</td>\n",
              "      <td>7/7/2022 10:12:07 AM</td>\n",
              "      <td>...</td>\n",
              "      <td>COVID-19</td>\n",
              "      <td>NaN</td>\n",
              "      <td>1)Prime series&lt;br&gt; Safety up to 4 weeks after ...</td>\n",
              "      <td>NaN</td>\n",
              "      <td>30/09/2023</td>\n",
              "      <td>NaN</td>\n",
              "      <td>No</td>\n",
              "      <td>False</td>\n",
              "      <td></td>\n",
              "      <td>NaN</td>\n",
              "    </tr>\n",
              "    <tr>\n",
              "      <th>14681</th>\n",
              "      <td>14682</td>\n",
              "      <td>JPRN-UMIN000047947</td>\n",
              "      <td>6 July 2022</td>\n",
              "      <td>Leading to a satisfying delivery experience fo...</td>\n",
              "      <td>Leading to a satisfying delivery experience fo...</td>\n",
              "      <td>NaN</td>\n",
              "      <td>Osaka Medical and Pharmaceutical University\\nT...</td>\n",
              "      <td>04/06/2022</td>\n",
              "      <td>20220604</td>\n",
              "      <td>7/7/2022 10:12:07 AM</td>\n",
              "      <td>...</td>\n",
              "      <td>Healthy maternals and husbands</td>\n",
              "      <td>eriod:Around September 2022 after the approval...</td>\n",
              "      <td>Evaluation of Development of an online Deliver...</td>\n",
              "      <td>NaN</td>\n",
              "      <td>31/03/2024</td>\n",
              "      <td>NaN</td>\n",
              "      <td>Yes</td>\n",
              "      <td>False</td>\n",
              "      <td></td>\n",
              "      <td>NaN</td>\n",
              "    </tr>\n",
              "    <tr>\n",
              "      <th>14682</th>\n",
              "      <td>14683</td>\n",
              "      <td>JPRN-UMIN000047978</td>\n",
              "      <td>6 July 2022</td>\n",
              "      <td>Study of COVID-19-related thromboembolism and ...</td>\n",
              "      <td>Study of COVID-19-related thromboembolism and ...</td>\n",
              "      <td>NaN</td>\n",
              "      <td>Nihon University Itabashi  Hospital\\nDepartmen...</td>\n",
              "      <td>07/06/2022</td>\n",
              "      <td>20220607</td>\n",
              "      <td>7/7/2022 10:12:07 AM</td>\n",
              "      <td>...</td>\n",
              "      <td>COVID-19</td>\n",
              "      <td>NaN</td>\n",
              "      <td>Presence or absence of cardiovascular impairme...</td>\n",
              "      <td>NaN</td>\n",
              "      <td>01/03/2023</td>\n",
              "      <td>NaN</td>\n",
              "      <td>No</td>\n",
              "      <td>False</td>\n",
              "      <td></td>\n",
              "      <td>NaN</td>\n",
              "    </tr>\n",
              "    <tr>\n",
              "      <th>14683</th>\n",
              "      <td>14684</td>\n",
              "      <td>JPRN-UMIN000048027</td>\n",
              "      <td>6 July 2022</td>\n",
              "      <td>Clinical Study Report of\\nSARS-CoV-2 Antigen R...</td>\n",
              "      <td>SARS-CoV-2 Antigen Rapid Test \\n(nasopharyngea...</td>\n",
              "      <td>NaN</td>\n",
              "      <td>Hangzhou AllTest Biotech Co., Ltd</td>\n",
              "      <td>10/06/2022</td>\n",
              "      <td>20220610</td>\n",
              "      <td>7/7/2022 10:12:07 AM</td>\n",
              "      <td>...</td>\n",
              "      <td>COVID-19</td>\n",
              "      <td>NaN</td>\n",
              "      <td>1. Comparison with approved antigen quantitati...</td>\n",
              "      <td>NaN</td>\n",
              "      <td>31/08/2022</td>\n",
              "      <td>NaN</td>\n",
              "      <td>No</td>\n",
              "      <td>False</td>\n",
              "      <td></td>\n",
              "      <td>NaN</td>\n",
              "    </tr>\n",
              "    <tr>\n",
              "      <th>14684</th>\n",
              "      <td>14685</td>\n",
              "      <td>JPRN-UMIN000048028</td>\n",
              "      <td>6 July 2022</td>\n",
              "      <td>SARS-CoV-2 Antigen Rapid Test (nasal swab)\\nIN...</td>\n",
              "      <td>SARS-CoV-2 Antigen Rapid Test (nasal swab)\\nIN...</td>\n",
              "      <td>NaN</td>\n",
              "      <td>Hangzhou AllTest Biotech Co., Ltd</td>\n",
              "      <td>10/06/2022</td>\n",
              "      <td>20220610</td>\n",
              "      <td>7/7/2022 10:12:07 AM</td>\n",
              "      <td>...</td>\n",
              "      <td>COVID-19</td>\n",
              "      <td>NaN</td>\n",
              "      <td>1.Comparison with approved antigen quantitatio...</td>\n",
              "      <td>NaN</td>\n",
              "      <td>31/08/2022</td>\n",
              "      <td>NaN</td>\n",
              "      <td>No</td>\n",
              "      <td>False</td>\n",
              "      <td></td>\n",
              "      <td>NaN</td>\n",
              "    </tr>\n",
              "  </tbody>\n",
              "</table>\n",
              "<p>14685 rows × 41 columns</p>\n",
              "</div>\n",
              "      <button class=\"colab-df-convert\" onclick=\"convertToInteractive('df-9a0db2c3-df3e-4312-b1c8-267cafcd3efd')\"\n",
              "              title=\"Convert this dataframe to an interactive table.\"\n",
              "              style=\"display:none;\">\n",
              "        \n",
              "  <svg xmlns=\"http://www.w3.org/2000/svg\" height=\"24px\"viewBox=\"0 0 24 24\"\n",
              "       width=\"24px\">\n",
              "    <path d=\"M0 0h24v24H0V0z\" fill=\"none\"/>\n",
              "    <path d=\"M18.56 5.44l.94 2.06.94-2.06 2.06-.94-2.06-.94-.94-2.06-.94 2.06-2.06.94zm-11 1L8.5 8.5l.94-2.06 2.06-.94-2.06-.94L8.5 2.5l-.94 2.06-2.06.94zm10 10l.94 2.06.94-2.06 2.06-.94-2.06-.94-.94-2.06-.94 2.06-2.06.94z\"/><path d=\"M17.41 7.96l-1.37-1.37c-.4-.4-.92-.59-1.43-.59-.52 0-1.04.2-1.43.59L10.3 9.45l-7.72 7.72c-.78.78-.78 2.05 0 2.83L4 21.41c.39.39.9.59 1.41.59.51 0 1.02-.2 1.41-.59l7.78-7.78 2.81-2.81c.8-.78.8-2.07 0-2.86zM5.41 20L4 18.59l7.72-7.72 1.47 1.35L5.41 20z\"/>\n",
              "  </svg>\n",
              "      </button>\n",
              "      \n",
              "  <style>\n",
              "    .colab-df-container {\n",
              "      display:flex;\n",
              "      flex-wrap:wrap;\n",
              "      gap: 12px;\n",
              "    }\n",
              "\n",
              "    .colab-df-convert {\n",
              "      background-color: #E8F0FE;\n",
              "      border: none;\n",
              "      border-radius: 50%;\n",
              "      cursor: pointer;\n",
              "      display: none;\n",
              "      fill: #1967D2;\n",
              "      height: 32px;\n",
              "      padding: 0 0 0 0;\n",
              "      width: 32px;\n",
              "    }\n",
              "\n",
              "    .colab-df-convert:hover {\n",
              "      background-color: #E2EBFA;\n",
              "      box-shadow: 0px 1px 2px rgba(60, 64, 67, 0.3), 0px 1px 3px 1px rgba(60, 64, 67, 0.15);\n",
              "      fill: #174EA6;\n",
              "    }\n",
              "\n",
              "    [theme=dark] .colab-df-convert {\n",
              "      background-color: #3B4455;\n",
              "      fill: #D2E3FC;\n",
              "    }\n",
              "\n",
              "    [theme=dark] .colab-df-convert:hover {\n",
              "      background-color: #434B5C;\n",
              "      box-shadow: 0px 1px 3px 1px rgba(0, 0, 0, 0.15);\n",
              "      filter: drop-shadow(0px 1px 2px rgba(0, 0, 0, 0.3));\n",
              "      fill: #FFFFFF;\n",
              "    }\n",
              "  </style>\n",
              "\n",
              "      <script>\n",
              "        const buttonEl =\n",
              "          document.querySelector('#df-9a0db2c3-df3e-4312-b1c8-267cafcd3efd button.colab-df-convert');\n",
              "        buttonEl.style.display =\n",
              "          google.colab.kernel.accessAllowed ? 'block' : 'none';\n",
              "\n",
              "        async function convertToInteractive(key) {\n",
              "          const element = document.querySelector('#df-9a0db2c3-df3e-4312-b1c8-267cafcd3efd');\n",
              "          const dataTable =\n",
              "            await google.colab.kernel.invokeFunction('convertToInteractive',\n",
              "                                                     [key], {});\n",
              "          if (!dataTable) return;\n",
              "\n",
              "          const docLinkHtml = 'Like what you see? Visit the ' +\n",
              "            '<a target=\"_blank\" href=https://colab.research.google.com/notebooks/data_table.ipynb>data table notebook</a>'\n",
              "            + ' to learn more about interactive tables.';\n",
              "          element.innerHTML = '';\n",
              "          dataTable['output_type'] = 'display_data';\n",
              "          await google.colab.output.renderOutput(dataTable, element);\n",
              "          const docLink = document.createElement('div');\n",
              "          docLink.innerHTML = docLinkHtml;\n",
              "          element.appendChild(docLink);\n",
              "        }\n",
              "      </script>\n",
              "    </div>\n",
              "  </div>\n",
              "  "
            ]
          },
          "metadata": {},
          "execution_count": 10
        }
      ]
    },
    {
      "cell_type": "markdown",
      "metadata": {
        "id": "qdrs6TO3-YZw"
      },
      "source": [
        "# Countries Exploration"
      ]
    },
    {
      "cell_type": "markdown",
      "source": [
        "Main feature to filter and organize"
      ],
      "metadata": {
        "id": "NWOVTW4qhZOH"
      }
    },
    {
      "cell_type": "markdown",
      "metadata": {
        "id": "t_YmNoDhuNAz"
      },
      "source": [
        "##  Unique Countries Obtention"
      ]
    },
    {
      "cell_type": "markdown",
      "source": [
        "Unique string appearing in the 'COUNTRY' column"
      ],
      "metadata": {
        "id": "2cEVSHmth6gV"
      }
    },
    {
      "cell_type": "code",
      "execution_count": null,
      "metadata": {
        "id": "0n7arsJKxXff"
      },
      "outputs": [],
      "source": [
        "countries = pd.Series(df['COUNTRIES'].unique())"
      ]
    },
    {
      "cell_type": "markdown",
      "source": [
        "Switch to lower case, replace ';' by ',' and split by ',' every string in the  'COUNTRIES' column"
      ],
      "metadata": {
        "id": "uNeuDxWHiDl0"
      }
    },
    {
      "cell_type": "code",
      "execution_count": null,
      "metadata": {
        "id": "OtEzWCpkxcP0"
      },
      "outputs": [],
      "source": [
        "countries_list =  countries.apply(lambda x: str(x).lower().replace(';', ',').split(','))"
      ]
    },
    {
      "cell_type": "code",
      "source": [
        "countries_list"
      ],
      "metadata": {
        "colab": {
          "base_uri": "https://localhost:8080/"
        },
        "id": "RUIQhG5-5lpP",
        "outputId": "02c30423-3963-4b41-ebd1-e18352e69586"
      },
      "execution_count": null,
      "outputs": [
        {
          "output_type": "execute_result",
          "data": {
            "text/plain": [
              "0                                               [taiwan]\n",
              "1                                                [china]\n",
              "2                                        [united states]\n",
              "3                           [iran (islamic republic of)]\n",
              "4                                                  [nan]\n",
              "                             ...                        \n",
              "927    [albania, argentina, bahamas, lebanon, lithuan...\n",
              "928    [canada, ireland, united kingdom, england, nor...\n",
              "929           [england, scotland, wales, united kingdom]\n",
              "930    [australia, austria, belgium, brazil, bulgaria...\n",
              "931    [japan, puerto rico, united states, ukraine, t...\n",
              "Length: 932, dtype: object"
            ]
          },
          "metadata": {},
          "execution_count": 13
        }
      ]
    },
    {
      "cell_type": "markdown",
      "source": [
        "Create a big list of unique strings appearing in the 'COUNTRIES' column"
      ],
      "metadata": {
        "id": "Bp0BE5ouiszk"
      }
    },
    {
      "cell_type": "code",
      "execution_count": null,
      "metadata": {
        "id": "n-sC69AHyA54"
      },
      "outputs": [],
      "source": [
        "countries_unique = []\n",
        "\n",
        "for i in countries_list:\n",
        "  for j in i:\n",
        "    countries_unique.append(j)"
      ]
    },
    {
      "cell_type": "code",
      "execution_count": null,
      "metadata": {
        "id": "em_sp5NjyQo9"
      },
      "outputs": [],
      "source": [
        "countries_unique_sorted = sorted(pd.Series(countries_unique).unique())"
      ]
    },
    {
      "cell_type": "markdown",
      "source": [
        "Strings may have some typos, but they still refer to the same country. This typos must be matched with the right country name without typos."
      ],
      "metadata": {
        "id": "34HGKY1Gi_pu"
      }
    },
    {
      "cell_type": "code",
      "execution_count": null,
      "metadata": {
        "colab": {
          "base_uri": "https://localhost:8080/"
        },
        "id": "10Q8F4b2ynAf",
        "outputId": "35207a3e-dcc3-42fa-c731-e1b62cbff614"
      },
      "outputs": [
        {
          "output_type": "execute_result",
          "data": {
            "text/plain": [
              "['\\n            american samoa\\n        ',\n",
              " '\\n            japan',\n",
              " '\\n            pakistan\\n        ',\n",
              " '\\n            sri lanka\\n        ',\n",
              " ' british',\n",
              " ' democratic republic',\n",
              " ' federated states of',\n",
              " ' islamic republic of',\n",
              " ' north',\n",
              " ' province of china',\n",
              " ' republic of',\n",
              " ' south',\n",
              " ' the democratic republic of the',\n",
              " ' the former yugoslav republic of',\n",
              " ' u.s.',\n",
              " '??',\n",
              " 'afghanistan',\n",
              " 'africa',\n",
              " 'aland islands',\n",
              " 'albania',\n",
              " 'algeria',\n",
              " 'american samoa',\n",
              " 'andorra',\n",
              " 'angola',\n",
              " 'anguilla',\n",
              " 'antarctica',\n",
              " 'antigua and barbuda',\n",
              " 'argentina',\n",
              " 'armenia',\n",
              " 'aruba',\n",
              " 'asia(except japan)',\n",
              " 'australia',\n",
              " 'austria',\n",
              " 'azerbaijan',\n",
              " 'bahamas',\n",
              " 'bahrain',\n",
              " 'bangladesh',\n",
              " 'barbados',\n",
              " 'belarus',\n",
              " 'belgium',\n",
              " 'belize',\n",
              " 'benin',\n",
              " 'bermuda',\n",
              " 'bhutan',\n",
              " 'bolivia',\n",
              " 'bonaire saint eustatius and saba',\n",
              " 'bosnia and herzegovina',\n",
              " 'botswana',\n",
              " 'bouvet island',\n",
              " 'brazil',\n",
              " 'british indian ocean territory',\n",
              " 'brunei',\n",
              " 'brunei darussalam',\n",
              " 'bulgaria',\n",
              " 'burkina faso',\n",
              " 'burundi',\n",
              " 'cambodia',\n",
              " 'cameroon',\n",
              " 'canada',\n",
              " 'cape verde',\n",
              " 'cayman islands',\n",
              " 'central african republic',\n",
              " 'chad',\n",
              " 'chian',\n",
              " 'chile',\n",
              " 'china',\n",
              " 'china?',\n",
              " 'chinese',\n",
              " 'christmas island',\n",
              " 'cocos (keeling) islands',\n",
              " 'colombia',\n",
              " 'columbia',\n",
              " 'comoros',\n",
              " 'congo',\n",
              " 'cook islands',\n",
              " 'costa rica',\n",
              " \"cote d'ivoire\",\n",
              " 'cote divoire',\n",
              " 'croatia',\n",
              " 'cuba',\n",
              " 'cuba ',\n",
              " 'curacao',\n",
              " 'cyprus',\n",
              " 'czech rep',\n",
              " 'czech republic',\n",
              " 'czechia',\n",
              " \"côte d'ivoire\",\n",
              " \"democratic people's republic of korea\",\n",
              " 'democratic republic of the congo',\n",
              " 'denmark',\n",
              " 'djibouti',\n",
              " 'dominica',\n",
              " 'dominican republic',\n",
              " 'ecuador',\n",
              " 'egypt',\n",
              " 'el salvador',\n",
              " 'england',\n",
              " 'equatorial guinea',\n",
              " 'eritrea',\n",
              " 'estonia',\n",
              " 'ethiopia',\n",
              " 'europe',\n",
              " 'european',\n",
              " 'european union',\n",
              " 'falkland islands',\n",
              " 'faroe islands',\n",
              " 'fiji',\n",
              " 'finland',\n",
              " 'france',\n",
              " 'french guiana',\n",
              " 'french polynesia',\n",
              " 'french southern territories',\n",
              " 'gabon',\n",
              " 'gambia',\n",
              " 'georgia',\n",
              " 'germany',\n",
              " 'ghana',\n",
              " 'gibraltar',\n",
              " 'greece',\n",
              " 'greenland',\n",
              " 'grenada',\n",
              " 'guadeloupe',\n",
              " 'guam',\n",
              " 'guatemala',\n",
              " 'guernsey',\n",
              " 'guinea',\n",
              " 'guinea-bissau',\n",
              " 'guyana',\n",
              " 'haiti',\n",
              " 'heard island and mcdonald islands',\n",
              " 'holland',\n",
              " 'holy see (vatican city state)',\n",
              " 'honduras',\n",
              " 'hong kong',\n",
              " 'hungaria',\n",
              " 'hungary',\n",
              " 'iceland',\n",
              " 'india',\n",
              " 'indonesia',\n",
              " 'iran',\n",
              " 'iran ',\n",
              " 'iran (islamic republic of)',\n",
              " 'iraq',\n",
              " 'ireland',\n",
              " 'isle of man',\n",
              " 'israel',\n",
              " 'italy',\n",
              " 'jamaica',\n",
              " 'japan',\n",
              " 'jersey',\n",
              " 'jordan',\n",
              " 'kazakhstan',\n",
              " 'kenya',\n",
              " 'kiribati',\n",
              " 'korea',\n",
              " 'korea south',\n",
              " 'kosovo',\n",
              " 'kuwait',\n",
              " 'kyrgyzstan',\n",
              " \"lao people's democratic republic\",\n",
              " 'laos',\n",
              " 'latvia',\n",
              " 'lebanon',\n",
              " 'lesotho',\n",
              " 'liberia',\n",
              " 'libya',\n",
              " 'libyan arab jamahiriya',\n",
              " 'liechtenstein',\n",
              " 'lithuania',\n",
              " 'luxembourg',\n",
              " 'macao',\n",
              " 'macau',\n",
              " 'macedonia',\n",
              " 'madagascar',\n",
              " 'malawi',\n",
              " 'malaysia',\n",
              " 'maldives',\n",
              " 'mali',\n",
              " 'malta',\n",
              " 'marshall islands',\n",
              " 'martinique',\n",
              " 'mauritania',\n",
              " 'mauritius',\n",
              " 'mayotte',\n",
              " 'mexico',\n",
              " 'micronesia',\n",
              " 'micronesia (federated states of)',\n",
              " 'modalvia',\n",
              " 'moldova',\n",
              " 'monaco',\n",
              " 'mongolia',\n",
              " 'montenegro',\n",
              " 'montserrat',\n",
              " 'morocco',\n",
              " 'mozambique',\n",
              " 'myanmar',\n",
              " 'namibia',\n",
              " 'nan',\n",
              " 'nauru',\n",
              " 'nederland',\n",
              " 'nepal',\n",
              " 'netherlands',\n",
              " 'netherlands antilles',\n",
              " 'new caledonia',\n",
              " 'new zealand',\n",
              " 'nicaragua',\n",
              " 'niger',\n",
              " 'nigeria',\n",
              " 'niue',\n",
              " 'norfolk island',\n",
              " 'north america',\n",
              " 'north macedonia',\n",
              " 'northern ireland',\n",
              " 'northern mariana islands',\n",
              " 'norway',\n",
              " 'oman',\n",
              " 'other',\n",
              " 'pakistan',\n",
              " 'palau',\n",
              " 'palestine',\n",
              " 'palestinian territory',\n",
              " 'panama',\n",
              " 'papua new guinea',\n",
              " 'paraguay',\n",
              " 'peru',\n",
              " 'peru rep',\n",
              " 'philippines',\n",
              " 'pitcairn',\n",
              " 'poland',\n",
              " 'poland rep',\n",
              " 'portugal',\n",
              " 'puerto rico',\n",
              " 'qatar',\n",
              " 'republic of korea',\n",
              " 'republic of moldova',\n",
              " 'republic of singapore',\n",
              " 'reunion',\n",
              " 'romania',\n",
              " 'russia',\n",
              " 'russian federation',\n",
              " 'rwanda',\n",
              " 'réunion',\n",
              " 'saint barthelemy',\n",
              " 'saint helena',\n",
              " 'saint kitts and nevis',\n",
              " 'saint lucia',\n",
              " 'saint martin (french part)',\n",
              " 'saint pierre and miquelon',\n",
              " 'saint vincent and the grenadines',\n",
              " 'samoa',\n",
              " 'san marino',\n",
              " 'sao tome and principe',\n",
              " 'saudi arabia',\n",
              " 'scotland',\n",
              " 'senegal',\n",
              " 'serbia',\n",
              " 'serbia ',\n",
              " 'seychelles',\n",
              " 'sierra leone',\n",
              " 'singapore',\n",
              " 'sint maarten (dutch part)',\n",
              " 'slovakia',\n",
              " 'slovenia',\n",
              " 'socialist republic of vietnam',\n",
              " 'solomon islands',\n",
              " 'somalia',\n",
              " 'south africa',\n",
              " 'south america',\n",
              " 'south georgia and the south sandwich is',\n",
              " 'south sudan',\n",
              " 'spain',\n",
              " 'sri lanka',\n",
              " 'sudan',\n",
              " 'suriname',\n",
              " 'svalbard and jan mayen',\n",
              " 'swaziland',\n",
              " 'sweden',\n",
              " 'switzerland',\n",
              " 'syria',\n",
              " 'syrian arab republic',\n",
              " 'taiwan',\n",
              " 'tajikistan',\n",
              " 'tanzania',\n",
              " 'thailand',\n",
              " 'the arab republic of egypt',\n",
              " 'the former yugoslav republic of macedonia',\n",
              " 'the netherlands',\n",
              " \"the people's republic of china\",\n",
              " 'timor-leste',\n",
              " 'togo',\n",
              " 'tokelau',\n",
              " 'tonga',\n",
              " 'trinidad and tobago',\n",
              " 'tunisia',\n",
              " 'turkey',\n",
              " 'turkmenistan',\n",
              " 'turks and caicos islands',\n",
              " 'tuvalu',\n",
              " 'tã¼rkiye',\n",
              " 'uganda',\n",
              " 'uk',\n",
              " 'ukraine',\n",
              " 'united arab emirates',\n",
              " 'united kindgdom',\n",
              " 'united kingdom',\n",
              " 'united republic of tanzania',\n",
              " 'united states',\n",
              " 'united states\\n        ',\n",
              " 'united states minor outlying islands',\n",
              " 'united states of america',\n",
              " 'uruguay',\n",
              " 'usa',\n",
              " 'uzbekistan',\n",
              " 'vanuatu',\n",
              " 'venezuela',\n",
              " 'venezuela (bolivarian republic of)',\n",
              " 'viet nam',\n",
              " 'vietnam',\n",
              " 'virgin islands',\n",
              " 'wales',\n",
              " 'wallis and futuna',\n",
              " 'western sahara',\n",
              " 'yemen',\n",
              " 'zambia',\n",
              " 'zimbabwe']"
            ]
          },
          "metadata": {},
          "execution_count": 16
        }
      ],
      "source": [
        "countries_unique_sorted"
      ]
    },
    {
      "cell_type": "markdown",
      "metadata": {
        "id": "Tu-13cUUzOBv"
      },
      "source": [
        "## Aliases and Synonyms Filtering\n",
        "\n",
        "In order to use the choropleth map visualization library, countries must have the ISO standard name. \n",
        "\n",
        "Hence, typos and names that appear in the unique list of strings above are mapped to these ISO standard names. \n",
        "\n",
        "\n",
        "\n",
        "\n",
        "obtained from: https://mode.com/example-gallery/world-choropleth-map/\n",
        "\n",
        "obtained from: https://en.wikipedia.org/wiki/ISO_3166-1"
      ]
    },
    {
      "cell_type": "code",
      "execution_count": null,
      "metadata": {
        "id": "e0QKOh-4ytHg"
      },
      "outputs": [],
      "source": [
        "columns_ISO_countries  = ['Country','English_Short_Name', 'Alpha-2_Code', 'Alpha-3_Code', 'Numeric_Code', 'Synonyms']\n",
        "\n",
        "values_ISO_countries = [\n",
        "           ['afghanistan','Afghanistan','AF','AFG','004', ['afghanistan']],\n",
        "           ['africa', 'Central African Republic', 'CF', 'CAF', '140', ['africa', 'central african republic']],\n",
        "           ['aland islands', 'Åland Islands', 'AX','ALA', '248', ['aland islands']],\n",
        "           ['albania', 'Albania','AL', 'ALB','008' ,['albania']],\n",
        "           ['algeria', 'Algeria', 'DZ', 'DZA', '012', ['algeria']],\n",
        "           ['american samoa', 'American Samoa', 'AS', 'ASM', '016', ['american samoa', '\\n            american samoa\\n        ']],\n",
        "           ['andorra', 'Andorra', 'AD', 'AND', '020', ['andorra']],\n",
        "           ['angola', 'Angola', 'AO', 'AGO', '024', ['angola']],\n",
        "           ['anguilla', 'Anguilla', 'AI', 'AIA', '660', ['anguilla']],\n",
        "           ['antarctica', 'Antarctica', 'AQ', 'ATA', '010', ['antarctica']],\n",
        "           ['antigua and barbuda', 'Antigua and Barbuda', 'AG', 'ATG', '028', ['antigua and barbuda']],\n",
        "           ['argentina', 'Argentina', 'AR', 'ARG', '032', ['argentina']],\n",
        "           ['armenia', 'Armenia', 'AM', 'ARM', '051',  ['armenia']],\n",
        "           ['aruba', 'Aruba', 'AW', 'ABW', '533', ['aruba']],\n",
        "           ['australia', 'Australia', 'AU', 'AUS', '036', ['australia']],\n",
        "           ['austria', 'Austria', 'AT', 'AUT', '040', ['austria']],\n",
        "           ['azerbaijan', 'Azerbaijan', 'AZ', 'AZE', '031', ['azerbaijan']],\n",
        "           ['bahamas', 'Bahamas', 'BS', 'BHS', '044' , ['bahamas']],\n",
        "           ['bahrain', 'Bahrain', 'BH', 'BHR', '048', ['bahrain']],\n",
        "           ['bangladesh', 'Bangladesh', 'BD', 'BGD', '050', ['bangladesh']],\n",
        "           ['barbados', 'Barbados', 'BB', 'BRB', '052', ['barbados']],\n",
        "           ['belarus', 'Belarus', 'BY', 'BLR', '112', ['belarus']],\n",
        "           ['belgium', 'Belgium', 'BE', 'BEL', '056', ['belgium']],\n",
        "           ['belize', 'Belize','BZ', 'BLZ', '084',['belize']],\n",
        "           ['benin', 'Benin', 'BJ', 'BEN', '204', ['benin']],\n",
        "           ['bermuda', 'Bermuda', 'BM', 'BMU', '060', ['bermuda']],\n",
        "           ['bhutan', 'Bhutan', 'BT', 'BTN', '064' ,['bhutan']],\n",
        "           ['bolivia', 'Bolivia (Plurinational State of)', 'BO', 'BOL','068',['bolivia']],\n",
        "           ['bonaire saint eustatius and saba','Bonaire, Sint Eustatius and Saba', 'BQ', 'BES', '535',['bonaire saint eustatius and saba']],\n",
        "           ['bosnia and herzegovina','Bosnia and Herzegovina','BA', 'BIH', '070' ,['bosnia and herzegovina']],\n",
        "           ['botswana', 'Botswana', 'BW', 'BWA', '072',['botswana']],\n",
        "           ['bouvet island','Bouvet Island','BV', 'BVT', '074' ,['bouvet island']],\n",
        "           ['brazil','Brazil','BR', 'BRA', '076',['brazil']],\n",
        "           ['british indian ocean territory','British Indian Ocean Territory','IO','IOT','086',['british indian ocean territory']],\n",
        "           ['brunei', 'Brunei Darussalam','BN','BRN','096',['brunei', 'brunei darussalam']],\n",
        "           ['bulgaria','Bulgaria','BG','BGR','100',['bulgaria']],\n",
        "           ['burkina faso','Burkina Faso','BF','BFA','854',['burkina faso']],\n",
        "           ['burundi','Burundi','BI','BDI','108',['burundi']],\n",
        "           ['cambodia','Cambodia','KH','KHM','116',['cambodia']],\n",
        "           ['cameroon','Cameroon','CM','CMR','120',['cameroon']],\n",
        "           ['canada','Canada','CA','CAN','124',['canada']],\n",
        "           ['cape verde','Cabo Verde','CV','CPV','132',['cape verde']],\n",
        "           ['cayman islands','Cayman Islands','KY','CYM','136',['cayman islands']],\n",
        "           ['central african republic','Central African Republic','CF','CAF','140',['central african republic']],\n",
        "           ['chad','Chad','TD','TCD','148',['chad']],\n",
        "           ['china', 'China','CN','CHN','156',[ \"the people's republic of china\",'china','chian','china?','chinese']],\n",
        "           ['chile','Chile','CL','CHL','152',['chile']],\n",
        "           ['christmas island','Christmas Island','CX','CXR','162',[ 'christmas island']],\n",
        "           ['cocos (keeling) islands','Cocos (Keeling) Islands','CC','CCK','166',[ 'cocos (keeling) islands']],\n",
        "           ['colombia', 'Colombia','CO','COL','170',['colombia','columbia']],\n",
        "           ['comoros','Comoros','KM','COM','174',['comoros']],\n",
        "           ['congo','Congo','CG','COG','178',['congo']],\n",
        "           ['democratic republic of the congo','Congo, Democratic Republic of the','CD','COD','180',['democratic republic of the congo']],\n",
        "           ['cook islands','Cook Islands','CK','COK','184',['cook islands']],\n",
        "           ['costa rica','Costa Rica','CR','CRI','188',['costa rica']],\n",
        "           [\"cote d'ivoire\",\"Côte d'Ivoire\",'CI','CIV','384',[\"cote d'ivoire'\",'cote divoire', \"côte d'ivoire\",]],\n",
        "           ['croatia','Croatia','HR','HRV','191',['croatia']],\n",
        "           ['cuba','Cuba','CU','CUB','192',['cuba', 'cuba ',]],\n",
        "           ['curacao', 'Curaçao','CW','CUW','531',['curacao']],\n",
        "           ['cyprus', 'Cyprus','CY','CYP','196',['cyprus']],\n",
        "           ['czech republic','Czechia','CZ','CZE','203',[ 'czech rep', 'czech republic','czechia']],\n",
        "           ['denmark', 'Denmark','DK','DNK','208',['denmark']],\n",
        "           ['djibouti','Djibouti','DJ','DJI','262',['djibouti']],\n",
        "           ['dominica','Dominica','DM','DMA','212',['dominica']],\n",
        "           ['dominican republic','Dominican Republic','DO','DOM','214',['dominican republic']],\n",
        "           ['ecuador','Ecuador','EC','ECU','218',['ecuador']],\n",
        "           ['egypt','Egypt','EG','EGY','818',[ 'the arab republic of egypt','egypt']],\n",
        "           ['el salvador','El Salvador','SV','SLV','222',['el salvador']],\n",
        "           ['equatorial guinea','Equatorial Guinea','GQ','GNQ','226',['equatorial guinea']],\n",
        "           ['eritrea','Eritrea','ER','ERI','232',['eritrea']],\n",
        "           ['estonia','Estonia','EE','EST','233',['estonia']],\n",
        "           ['ethiopia','Ethiopia','ET','ETH','231',['ethiopia']],\n",
        "           ['falkland islands','Falkland Islands (Malvinas)','FK','FLK','238',['falkland islands']],\n",
        "           ['faroe islands','Faroe Islands','FO','FRO','234',['faroe islands']],\n",
        "           ['fiji','Fiji','FJ','FJI','242',['fiji']],\n",
        "           ['finland','Finland','FI','FIN','246',['finland']],\n",
        "           ['france','France','FR','FRA','250',['france']],\n",
        "           ['french guiana','French Guiana','GF','GUF','254',['french guiana']],\n",
        "           ['french polynesia','French Polynesia','PF','PYF','258',['french polynesia']],\n",
        "           ['french southern territories','French Southern Territories','TF','ATF','260',[ 'french southern territories']],\n",
        "           ['gabon','Gabon','GA','GAB','266',['gabon']],\n",
        "           ['gambia','Gambia','GM','GMB','270',['gambia']],\n",
        "           ['georgia','Georgia','GE','GEO','268',['georgia']],\n",
        "           ['germany','Germany','DE','DEU','276',['germany']],\n",
        "           ['ghana','Ghana','GH','GHA','288',['ghana']],\n",
        "           ['gibraltar','Gibraltar','GI','GIB','292',['gibraltar']],\n",
        "           ['greece','Greece','GR','GRC','300',['greece']],\n",
        "           ['greenland','Greenland','GL','GRL','304',['greenland']],\n",
        "           ['grenada','Grenada','GD','GRD','308',['grenada']],\n",
        "           ['guadeloupe','Guadeloupe','GP','GLP','312',['guadeloupe']],\n",
        "           ['guam','Guam','GU','GUM','316',['guam']],\n",
        "           ['guatemala','Guatemala','GT','GTM','320',['guatemala']],\n",
        "           ['guernsey','Guernsey','GG','GGY','831',['guernsey']],\n",
        "           ['guinea','Guinea','GN','GIN','324',['guinea']],\n",
        "           ['guinea-bissau','Guinea-Bissau','GW','GNB','624',['guinea-bissau']],\n",
        "           ['guyana','Guyana','GY','GUY','328',['guyana']],\n",
        "           ['haiti','Haiti','HT','HTI','332',['haiti']],\n",
        "           ['heard island and mcdonald islands','Heard Island and McDonald Islands','HM','HMD','334',[ 'heard island and mcdonald islands']],\n",
        "           ['holy see (vatican city state)','Holy See','VA','VAT','336',[ 'holy see (vatican city state)']],\n",
        "           ['honduras','Honduras','HN','HND','340',['honduras']],\n",
        "           ['hong kong','Hong Kong','HK','HKG','344',['hong kong']],\n",
        "           ['hungary','Hungary','HU','HUN','348',['hungary', 'hungaria']],\n",
        "           ['iceland','Iceland','IS','ISL','352',['iceland']],\n",
        "           ['india','India','IN','IND','356',['india']],\n",
        "           ['indonesia','Indonesia','ID','IDN','360',['indonesia']],\n",
        "           ['iran (islamic republic of)', 'Iran (Islamic Republic of)','IR','IRN','364',['iran', 'iran ', 'iran (islamic republic of)']],\n",
        "           ['iraq','Iraq','IQ','IRQ','368',['iraq']],\n",
        "           ['ireland', 'Ireland','IE','IRL','372',['ireland']],\n",
        "           ['isle of man','Isle of Man','IM','IMN','833',['isle of man']],\n",
        "           ['israel','Israel','IL','ISR','376',['israel']],\n",
        "           ['italy','Italy','IT','ITA','380',['italy']],\n",
        "           ['jamaica','Jamaica','JM','JAM','388',['jamaica']],\n",
        "           ['japan','Japan','JP','JPN','392',[ '\\n            japan','japan']],\n",
        "           ['jersey', 'Jersey','JE','JEY','832',['jersey']],\n",
        "           ['jordan','Jordan','JO','JOR','400',['jordan']],\n",
        "           ['kazakhstan','Kazakhstan','KZ','KAZ','398',['kazakhstan']],\n",
        "           ['kenya','Kenya','KE','KEN','404',['kenya']],\n",
        "           ['kiribati','Kiribati','KI','KIR','296',['kiribati']],\n",
        "           ['korea',\"Korea (Democratic People's Republic of)\",'KP','PRK','408',['korea',\"democratic people's republic of korea\"]],\n",
        "           ['korea south','Korea, Republic of','KR','KOR','410',['korea south', 'republic of korea']],\n",
        "           ['kuwait','Kuwait','KW','KWT','414',['kuwait']],\n",
        "           ['kyrgyzstan','Kyrgyzstan','KG','KGZ','417',['kyrgyzstan']],\n",
        "           [\"lao people's democratic republic\",\"Lao People's Democratic Republic\",'LA','LAO','418',[ \"lao people's democratic republic\",'laos']],\n",
        "           ['latvia','Latvia','LV','LVA','428',['latvia']],\n",
        "           ['lebanon','Lebanon','LB','LBN','422',['lebanon']],\n",
        "           ['lesotho','Lesotho','LS','LSO','426',['lesotho']],\n",
        "           ['liberia','Liberia','LR','LBR','430',['liberia']],\n",
        "           ['libya','Libya','LY','LBY','434',['libya','libyan arab jamahiriya']],\n",
        "           ['liechtenstein', 'Liechtenstein','LI','LIE','438',['liechtenstein']],\n",
        "           ['lithuania','Lithuania','LT','LTU','440',['lithuania']],\n",
        "           ['luxembourg','Luxembourg','LU','LUX','442',['luxembourg']],\n",
        "           ['macao','Macao','MO','MAC','446',['macao']],\n",
        "           ['madagascar','Madagascar','MG','MDG','450',['madagascar']],\n",
        "           ['malawi','Malawi','MW','MWI','454',['malawi']],\n",
        "           ['malaysia','Malaysia','MY','MYS','458',['malaysia']],\n",
        "           ['maldives','Maldives','MV','MDV','462',['maldives']],\n",
        "           ['mali','Mali','ML','MLI','466',['mali']],\n",
        "           ['malta','Malta','MT','MLT','470',['malta']],\n",
        "           ['marshall islands','Marshall Islands','MH','MHL','584',['marshall islands']],\n",
        "           ['martinique','Martinique','MQ','MTQ','474',['martinique']],\n",
        "           ['mauritania','Mauritania','MR','MRT','478',['mauritania']],\n",
        "           ['mauritius','Mauritius','MU','MUS','480',['mauritius']],\n",
        "           ['mayotte','Mayotte','YT','MYT','175',['mayotte']],\n",
        "           ['mexico','Mexico','MX','MEX','484',['mexico']],\n",
        "           ['micronesia (federated states of)','Micronesia (Federated States of)','FM','FSM','583',['micronesia (federated states of)','micronesia']],\n",
        "           ['moldova','Moldova, Republic of','MD','MDA','498',['moldova','modalvia','republic of moldova',]],\n",
        "           ['monaco','Monaco','MC','MCO','492',['monaco']],\n",
        "           ['mongolia','Mongolia','MN','MNG','496',['mongolia']],\n",
        "           ['montenegro','Montenegro','ME','MNE','499',['montenegro']],\n",
        "           ['montserrat','Montserrat','MS','MSR','500',['montserrat']],\n",
        "           ['morocco','Morocco','MA','MAR','504',['morocco']],\n",
        "           ['mozambique', 'Mozambique','MZ','MOZ','508',['mozambique']],\n",
        "           ['myanmar','Myanmar','MM','MMR','104',['myanmar']],\n",
        "           ['namibia','Namibia','NA','NAM','516',['namibia']],\n",
        "           ['nauru','Nauru','NR','NRU','520',['nauru']],\n",
        "           ['nederland','Netherlands','NL','NLD','528',[ 'the netherlands','nederland','netherlands', 'netherlands antilles','holland']],\n",
        "           ['nepal','Nepal','NP','NPL','524',['nepal']],\n",
        "           ['new caledonia','New Caledonia','NC','NCL','540',['new caledonia']],\n",
        "           ['new zealand','New Zealand','NZ','NZL','554',['new zealand']],\n",
        "           ['nicaragua','Nicaragua','NI','NIC','558',['nicaragua']],\n",
        "           ['niger','Niger','NE','NER','562',['niger']],\n",
        "           ['nigeria', 'Nigeria','NG','NGA','566',['nigeria']],\n",
        "           ['niue','Niue','NU','NIU','570',['niue']],\n",
        "           ['norfolk island','Norfolk Island','NF','NFK','574',['norfolk island']],\n",
        "           ['north macedonia', 'North Macedonia','MK','MKD','807',[ 'the former yugoslav republic of macedonia','north macedonia','macedonia']],\n",
        "           ['northern mariana islands','Northern Mariana Islands','MP','MNP','580',['northern mariana islands']],\n",
        "           ['norway','Norway','NO','NOR','578',['norway']],\n",
        "           ['oman','Oman','OM','OMN','512',['oman']],\n",
        "           ['pakistan','Pakistan','PK','PAK','586',[ '\\n            pakistan\\n        ','pakistan']],\n",
        "           ['palau','Palau','PW','PLW','585',['palau']],\n",
        "           ['palestine','Palestine, State of','PS','PSE','275',['palestine', 'palestinian territory']],\n",
        "           ['panama','Panama','PA','PAN','591',['panama']],\n",
        "           ['papua new guinea','Papua New Guinea','PG','PNG','598',['papua new guinea']],\n",
        "           ['paraguay','Paraguay','PY','PRY','600',['paraguay']],\n",
        "           ['peru','Peru','PE','PER','604',['peru','peru rep']],\n",
        "           ['philippines','Philippines','PH','PHL','608',['philippines',]],\n",
        "           ['pitcairn','Pitcairn','PN','PCN','612',['pitcairn']],\n",
        "           ['poland','Poland','PL','POL','616',[ 'poland rep','poland']],\n",
        "           ['portugal','Portugal','PT','PRT','620',['portugal']],\n",
        "           ['puerto rico','Puerto Rico','PR','PRI','630',['puerto rico']],\n",
        "           ['qatar','Qatar','QA','QAT','634',['qatar']],\n",
        "           ['reunion','Réunion','RE','REU','638',['reunion','réunion']],\n",
        "           ['romania','Romania','RO','ROU','642',['romania']],\n",
        "           ['russia','Russian Federation','RU','RUS','643',['russia','russian federation']],\n",
        "           ['rwanda','Rwanda','RW','RWA','646',['rwanda']],\n",
        "           ['saint barthelemy','Saint Barthélemy','BL','BLM','652',['saint barthelemy']],\n",
        "           ['saint helena','Saint Helena, Ascension and Tristan da Cunha','SH','SHN','654',['saint helena']],\n",
        "           ['saint kitts and nevis','Saint Kitts and Nevis','KN','KNA','659',['saint kitts and nevis']],\n",
        "           ['saint lucia','Saint Lucia','LC','LCA','662',['saint lucia']],\n",
        "           ['saint martin (french part)','Saint Martin (French part)','MF','MAF','663',['saint martin (french part)']],\n",
        "           ['saint pierre and miquelon','Saint Pierre and Miquelon','PM','SPM','666',['saint pierre and miquelon']],\n",
        "           ['saint vincent and the grenadines','Saint Vincent and the Grenadines','VC','VCT','670',['saint vincent and the grenadines']],\n",
        "           ['samoa', 'Samoa','WS','WSM','882',['samoa']],\n",
        "           ['san marino','San Marino','SM','SMR','674',['san marino']],\n",
        "           ['sao tome and principe','Sao Tome and Principe','ST','STP','678',[ 'sao tome and principe']],\n",
        "           ['saudi arabia','Saudi Arabia','SA','SAU','682',[ 'saudi arabia']],\n",
        "           ['senegal','Senegal','SN','SEN','686',['senegal']],\n",
        "           ['serbia','Serbia','RS','SRB','688',['serbia ','serbia']],\n",
        "           ['seychelles','Seychelles','SC','SYC','690',['seychelles']],\n",
        "           ['sierra leone','Sierra Leone','SL','SLE','694',['sierra leone']],\n",
        "           ['singapore','Singapore','SG','SGP','702',['singapore','republic of singapore']],\n",
        "           ['sint maarten (dutch part)','Sint Maarten (Dutch part)','SX','SXM','534',['sint maarten (dutch part)']],\n",
        "           ['slovakia','Slovakia','SK','SVK','703',['slovakia']],\n",
        "           ['slovenia','Slovenia','SI','SVN','705',['slovenia']],\n",
        "           ['solomon islands','Solomon Islands','SB','SLB','090',['solomon islands']],\n",
        "           ['somalia','Somalia','SO','SOM','706',['somalia']],\n",
        "           ['south africa','South Africa','ZA','ZAF','710',['south africa']],\n",
        "           ['south georgia and the south sandwich is','South Georgia and the South Sandwich Islands','GS','SGS','239',['south georgia and the south sandwich is']],\n",
        "           ['south sudan','South Sudan','SS','SSD','728',[ 'south sudan']],\n",
        "           ['spain','Spain','ES','ESP','724',['spain']],\n",
        "           ['sri lanka','Sri Lanka','LK','LKA','144',[ '\\n            sri lanka\\n        ','sri lanka']],\n",
        "           ['sudan','Sudan','SD','SDN','729',['sudan']],\n",
        "           ['suriname','Suriname','SR','SUR','740',['suriname']],\n",
        "           ['svalbard and jan mayen', 'Svalbard and Jan Mayen','SJ','SJM','744',[ 'svalbard and jan mayen']],\n",
        "           ['swaziland','Eswatini','SZ','SWZ','748',['swaziland']],\n",
        "           ['sweden', 'Sweden','SE','SWE','752',['sweden']],\n",
        "           ['switzerland','Switzerland','CH','CHE','756',['switzerland']],\n",
        "           ['syria','Syrian Arab Republic','SY','SYR','760',['syria','syrian arab republic']],\n",
        "           ['taiwan','Taiwan (Province of China)','TW','TWN','158',['taiwan']],\n",
        "           ['tajikistan','Tajikistan','TJ','TJK','762',['tajikistan']],\n",
        "           ['tanzania','Tanzania, United Republic of','TZ','TZA','834',['tanzania', 'united republic of tanzania']],\n",
        "           ['thailand','Thailand','TH','THA','764',['thailand']],\n",
        "           ['timor-leste','Timor-Leste','TL','TLS','626',['timor-leste']],\n",
        "           ['togo','Togo','TG','TGO','768',['togo']],\n",
        "           ['tokelau','Tokelau','TK','TKL','772',['tokelau']],\n",
        "           ['tonga','Tonga','TO','TON','776',['tonga']],\n",
        "           ['trinidad and tobago','Trinidad and Tobago','TT','TTO','780',[ 'trinidad and tobago']],\n",
        "           ['tunisia','Tunisia','TN','TUN','788',['tunisia']],\n",
        "           ['turkey','Turkey','TR','TUR','792',['tã¼rkiye','turkey']],\n",
        "           ['turkmenistan','Turkmenistan','TM','TKM','795',['turkmenistan']],\n",
        "           ['turks and caicos islands','Turks and Caicos Islands','TC','TCA','796',[ 'turks and caicos islands']],\n",
        "           ['tuvalu','Tuvalu','TV','TUV','798',['tuvalu']],\n",
        "           ['uganda','Uganda','UG','UGA','800',['uganda']],\n",
        "           ['ukraine','Ukraine','UA','UKR','804',['ukraine']],\n",
        "           ['united arab emirates','United Arab Emirates','AE','ARE','784',[ 'united arab emirates']],\n",
        "           ['united kindgdom','United Kingdom of Great Britain and Northern Ireland','GB','GBR','826',['united kindgdom', 'united kingdom','england','northern ireland','scotland','uk','wales']],\n",
        "           ['united states of america','United States of America','US','USA','840',['usa','united states', 'united states\\n        ','united states of america', ' u.s.','north america']],\n",
        "           ['united states minor outlying islands','United States Minor Outlying Islands','UM','UMI','581',['united states minor outlying islands']],\n",
        "           ['uruguay','Uruguay','UY','URY','858',['uruguay']],\n",
        "           ['uzbekistan','Uzbekistan','UZ','UZB','860',['uzbekistan']],\n",
        "           ['vanuatu','Vanuatu','VU','VUT','548',['vanuatu']],\n",
        "           ['venezuela','Venezuela (Bolivarian Republic of)','VE','VEN','862',['venezuela','venezuela (bolivarian republic of)']],\n",
        "           ['vietnam','Viet Nam','VN','VNM','704',['viet nam','vietnam','socialist republic of vietnam']],\n",
        "           ['virgin islands','Virgin Islands (U.S.)','VI','VIR','850',['virgin islands']],\n",
        "           ['wallis and futuna','Wallis and Futuna','WF','WLF','876',['wallis and futuna']],\n",
        "           ['western sahara','Western Sahara','EH','ESH','732',['western sahara']],\n",
        "           ['yemen','Yemen','YE','YEM','887',['yemen']],\n",
        "           ['zambia','Zambia','ZM','ZMB','894',['zambia']],\n",
        "           ['zimbabwe','Zimbabwe','ZW','ZWE','716',['zimbabwe']],\n",
        "           ['404','404','404','404','404',[ 'nan',  '??', 'other', 'south america','europe','european', 'european union','asia(except japan)']],\n",
        "           ]"
      ]
    },
    {
      "cell_type": "markdown",
      "source": [
        "Creation of a DataFrame for ISO standard country names"
      ],
      "metadata": {
        "id": "xw28aSeolQQN"
      }
    },
    {
      "cell_type": "code",
      "execution_count": null,
      "metadata": {
        "id": "SKcJQBvsr899"
      },
      "outputs": [],
      "source": [
        "countries_ISO_data = pd.DataFrame(values_ISO_countries,columns=columns_ISO_countries)"
      ]
    },
    {
      "cell_type": "code",
      "source": [
        "countries_ISO_data"
      ],
      "metadata": {
        "colab": {
          "base_uri": "https://localhost:8080/",
          "height": 424
        },
        "id": "QxLyRPWaiQfP",
        "outputId": "f02533e6-3611-437d-d03d-839d67b2009e"
      },
      "execution_count": null,
      "outputs": [
        {
          "output_type": "execute_result",
          "data": {
            "text/plain": [
              "            Country        English_Short_Name Alpha-2_Code Alpha-3_Code  \\\n",
              "0       afghanistan               Afghanistan           AF          AFG   \n",
              "1            africa  Central African Republic           CF          CAF   \n",
              "2     aland islands             Åland Islands           AX          ALA   \n",
              "3           albania                   Albania           AL          ALB   \n",
              "4           algeria                   Algeria           DZ          DZA   \n",
              "..              ...                       ...          ...          ...   \n",
              "245  western sahara            Western Sahara           EH          ESH   \n",
              "246           yemen                     Yemen           YE          YEM   \n",
              "247          zambia                    Zambia           ZM          ZMB   \n",
              "248        zimbabwe                  Zimbabwe           ZW          ZWE   \n",
              "249             404                       404          404          404   \n",
              "\n",
              "    Numeric_Code                                           Synonyms  \n",
              "0            004                                      [afghanistan]  \n",
              "1            140                 [africa, central african republic]  \n",
              "2            248                                    [aland islands]  \n",
              "3            008                                          [albania]  \n",
              "4            012                                          [algeria]  \n",
              "..           ...                                                ...  \n",
              "245          732                                   [western sahara]  \n",
              "246          887                                            [yemen]  \n",
              "247          894                                           [zambia]  \n",
              "248          716                                         [zimbabwe]  \n",
              "249          404  [nan, ??, other, south america, europe, europe...  \n",
              "\n",
              "[250 rows x 6 columns]"
            ],
            "text/html": [
              "\n",
              "  <div id=\"df-45fc1f57-a000-400c-917b-28cf97a88ae1\">\n",
              "    <div class=\"colab-df-container\">\n",
              "      <div>\n",
              "<style scoped>\n",
              "    .dataframe tbody tr th:only-of-type {\n",
              "        vertical-align: middle;\n",
              "    }\n",
              "\n",
              "    .dataframe tbody tr th {\n",
              "        vertical-align: top;\n",
              "    }\n",
              "\n",
              "    .dataframe thead th {\n",
              "        text-align: right;\n",
              "    }\n",
              "</style>\n",
              "<table border=\"1\" class=\"dataframe\">\n",
              "  <thead>\n",
              "    <tr style=\"text-align: right;\">\n",
              "      <th></th>\n",
              "      <th>Country</th>\n",
              "      <th>English_Short_Name</th>\n",
              "      <th>Alpha-2_Code</th>\n",
              "      <th>Alpha-3_Code</th>\n",
              "      <th>Numeric_Code</th>\n",
              "      <th>Synonyms</th>\n",
              "    </tr>\n",
              "  </thead>\n",
              "  <tbody>\n",
              "    <tr>\n",
              "      <th>0</th>\n",
              "      <td>afghanistan</td>\n",
              "      <td>Afghanistan</td>\n",
              "      <td>AF</td>\n",
              "      <td>AFG</td>\n",
              "      <td>004</td>\n",
              "      <td>[afghanistan]</td>\n",
              "    </tr>\n",
              "    <tr>\n",
              "      <th>1</th>\n",
              "      <td>africa</td>\n",
              "      <td>Central African Republic</td>\n",
              "      <td>CF</td>\n",
              "      <td>CAF</td>\n",
              "      <td>140</td>\n",
              "      <td>[africa, central african republic]</td>\n",
              "    </tr>\n",
              "    <tr>\n",
              "      <th>2</th>\n",
              "      <td>aland islands</td>\n",
              "      <td>Åland Islands</td>\n",
              "      <td>AX</td>\n",
              "      <td>ALA</td>\n",
              "      <td>248</td>\n",
              "      <td>[aland islands]</td>\n",
              "    </tr>\n",
              "    <tr>\n",
              "      <th>3</th>\n",
              "      <td>albania</td>\n",
              "      <td>Albania</td>\n",
              "      <td>AL</td>\n",
              "      <td>ALB</td>\n",
              "      <td>008</td>\n",
              "      <td>[albania]</td>\n",
              "    </tr>\n",
              "    <tr>\n",
              "      <th>4</th>\n",
              "      <td>algeria</td>\n",
              "      <td>Algeria</td>\n",
              "      <td>DZ</td>\n",
              "      <td>DZA</td>\n",
              "      <td>012</td>\n",
              "      <td>[algeria]</td>\n",
              "    </tr>\n",
              "    <tr>\n",
              "      <th>...</th>\n",
              "      <td>...</td>\n",
              "      <td>...</td>\n",
              "      <td>...</td>\n",
              "      <td>...</td>\n",
              "      <td>...</td>\n",
              "      <td>...</td>\n",
              "    </tr>\n",
              "    <tr>\n",
              "      <th>245</th>\n",
              "      <td>western sahara</td>\n",
              "      <td>Western Sahara</td>\n",
              "      <td>EH</td>\n",
              "      <td>ESH</td>\n",
              "      <td>732</td>\n",
              "      <td>[western sahara]</td>\n",
              "    </tr>\n",
              "    <tr>\n",
              "      <th>246</th>\n",
              "      <td>yemen</td>\n",
              "      <td>Yemen</td>\n",
              "      <td>YE</td>\n",
              "      <td>YEM</td>\n",
              "      <td>887</td>\n",
              "      <td>[yemen]</td>\n",
              "    </tr>\n",
              "    <tr>\n",
              "      <th>247</th>\n",
              "      <td>zambia</td>\n",
              "      <td>Zambia</td>\n",
              "      <td>ZM</td>\n",
              "      <td>ZMB</td>\n",
              "      <td>894</td>\n",
              "      <td>[zambia]</td>\n",
              "    </tr>\n",
              "    <tr>\n",
              "      <th>248</th>\n",
              "      <td>zimbabwe</td>\n",
              "      <td>Zimbabwe</td>\n",
              "      <td>ZW</td>\n",
              "      <td>ZWE</td>\n",
              "      <td>716</td>\n",
              "      <td>[zimbabwe]</td>\n",
              "    </tr>\n",
              "    <tr>\n",
              "      <th>249</th>\n",
              "      <td>404</td>\n",
              "      <td>404</td>\n",
              "      <td>404</td>\n",
              "      <td>404</td>\n",
              "      <td>404</td>\n",
              "      <td>[nan, ??, other, south america, europe, europe...</td>\n",
              "    </tr>\n",
              "  </tbody>\n",
              "</table>\n",
              "<p>250 rows × 6 columns</p>\n",
              "</div>\n",
              "      <button class=\"colab-df-convert\" onclick=\"convertToInteractive('df-45fc1f57-a000-400c-917b-28cf97a88ae1')\"\n",
              "              title=\"Convert this dataframe to an interactive table.\"\n",
              "              style=\"display:none;\">\n",
              "        \n",
              "  <svg xmlns=\"http://www.w3.org/2000/svg\" height=\"24px\"viewBox=\"0 0 24 24\"\n",
              "       width=\"24px\">\n",
              "    <path d=\"M0 0h24v24H0V0z\" fill=\"none\"/>\n",
              "    <path d=\"M18.56 5.44l.94 2.06.94-2.06 2.06-.94-2.06-.94-.94-2.06-.94 2.06-2.06.94zm-11 1L8.5 8.5l.94-2.06 2.06-.94-2.06-.94L8.5 2.5l-.94 2.06-2.06.94zm10 10l.94 2.06.94-2.06 2.06-.94-2.06-.94-.94-2.06-.94 2.06-2.06.94z\"/><path d=\"M17.41 7.96l-1.37-1.37c-.4-.4-.92-.59-1.43-.59-.52 0-1.04.2-1.43.59L10.3 9.45l-7.72 7.72c-.78.78-.78 2.05 0 2.83L4 21.41c.39.39.9.59 1.41.59.51 0 1.02-.2 1.41-.59l7.78-7.78 2.81-2.81c.8-.78.8-2.07 0-2.86zM5.41 20L4 18.59l7.72-7.72 1.47 1.35L5.41 20z\"/>\n",
              "  </svg>\n",
              "      </button>\n",
              "      \n",
              "  <style>\n",
              "    .colab-df-container {\n",
              "      display:flex;\n",
              "      flex-wrap:wrap;\n",
              "      gap: 12px;\n",
              "    }\n",
              "\n",
              "    .colab-df-convert {\n",
              "      background-color: #E8F0FE;\n",
              "      border: none;\n",
              "      border-radius: 50%;\n",
              "      cursor: pointer;\n",
              "      display: none;\n",
              "      fill: #1967D2;\n",
              "      height: 32px;\n",
              "      padding: 0 0 0 0;\n",
              "      width: 32px;\n",
              "    }\n",
              "\n",
              "    .colab-df-convert:hover {\n",
              "      background-color: #E2EBFA;\n",
              "      box-shadow: 0px 1px 2px rgba(60, 64, 67, 0.3), 0px 1px 3px 1px rgba(60, 64, 67, 0.15);\n",
              "      fill: #174EA6;\n",
              "    }\n",
              "\n",
              "    [theme=dark] .colab-df-convert {\n",
              "      background-color: #3B4455;\n",
              "      fill: #D2E3FC;\n",
              "    }\n",
              "\n",
              "    [theme=dark] .colab-df-convert:hover {\n",
              "      background-color: #434B5C;\n",
              "      box-shadow: 0px 1px 3px 1px rgba(0, 0, 0, 0.15);\n",
              "      filter: drop-shadow(0px 1px 2px rgba(0, 0, 0, 0.3));\n",
              "      fill: #FFFFFF;\n",
              "    }\n",
              "  </style>\n",
              "\n",
              "      <script>\n",
              "        const buttonEl =\n",
              "          document.querySelector('#df-45fc1f57-a000-400c-917b-28cf97a88ae1 button.colab-df-convert');\n",
              "        buttonEl.style.display =\n",
              "          google.colab.kernel.accessAllowed ? 'block' : 'none';\n",
              "\n",
              "        async function convertToInteractive(key) {\n",
              "          const element = document.querySelector('#df-45fc1f57-a000-400c-917b-28cf97a88ae1');\n",
              "          const dataTable =\n",
              "            await google.colab.kernel.invokeFunction('convertToInteractive',\n",
              "                                                     [key], {});\n",
              "          if (!dataTable) return;\n",
              "\n",
              "          const docLinkHtml = 'Like what you see? Visit the ' +\n",
              "            '<a target=\"_blank\" href=https://colab.research.google.com/notebooks/data_table.ipynb>data table notebook</a>'\n",
              "            + ' to learn more about interactive tables.';\n",
              "          element.innerHTML = '';\n",
              "          dataTable['output_type'] = 'display_data';\n",
              "          await google.colab.output.renderOutput(dataTable, element);\n",
              "          const docLink = document.createElement('div');\n",
              "          docLink.innerHTML = docLinkHtml;\n",
              "          element.appendChild(docLink);\n",
              "        }\n",
              "      </script>\n",
              "    </div>\n",
              "  </div>\n",
              "  "
            ]
          },
          "metadata": {},
          "execution_count": 19
        }
      ]
    },
    {
      "cell_type": "markdown",
      "source": [
        "DataFrame columns name to upper case, and index creation starting at 1.\n",
        "\n",
        "For easy database manipulation."
      ],
      "metadata": {
        "id": "Us7ZAKwclcyJ"
      }
    },
    {
      "cell_type": "code",
      "execution_count": null,
      "metadata": {
        "id": "m9P35sQzsdTA"
      },
      "outputs": [],
      "source": [
        "countries_ISO_data.sort_values('English_Short_Name', inplace=True)\n",
        "countries_ISO_data.reset_index(inplace=True, drop=True)\n",
        "\n",
        "countries_ISO_data.index =  countries_ISO_data.index + 1\n",
        "countries_ISO_data.reset_index(inplace=True)"
      ]
    },
    {
      "cell_type": "code",
      "source": [
        "countries_ISO_data.columns = countries_ISO_data.columns.str.upper()\n",
        "countries_ISO_data.rename(columns = {'INDEX':'ID','ENGLISH_SHORT_NAME': 'NAME', 'ALPHA-2_CODE':'ALPHA_2_CODE', 'ALPHA-3_CODE':'ALPHA_3_CODE' }, inplace=True)\n",
        "\n",
        "countries_ISO_data.drop('COUNTRY', axis=1, inplace = True)"
      ],
      "metadata": {
        "id": "3TiFvPtkivCg"
      },
      "execution_count": null,
      "outputs": []
    },
    {
      "cell_type": "code",
      "source": [
        "countries_ISO_data"
      ],
      "metadata": {
        "colab": {
          "base_uri": "https://localhost:8080/",
          "height": 424
        },
        "id": "e6RpPT0VhZwO",
        "outputId": "74503099-681f-4d07-e9a1-48f4f7197424"
      },
      "execution_count": null,
      "outputs": [
        {
          "output_type": "execute_result",
          "data": {
            "text/plain": [
              "      ID            NAME ALPHA_2_CODE ALPHA_3_CODE NUMERIC_CODE  \\\n",
              "0      1             404          404          404          404   \n",
              "1      2     Afghanistan           AF          AFG          004   \n",
              "2      3         Albania           AL          ALB          008   \n",
              "3      4         Algeria           DZ          DZA          012   \n",
              "4      5  American Samoa           AS          ASM          016   \n",
              "..   ...             ...          ...          ...          ...   \n",
              "245  246  Western Sahara           EH          ESH          732   \n",
              "246  247           Yemen           YE          YEM          887   \n",
              "247  248          Zambia           ZM          ZMB          894   \n",
              "248  249        Zimbabwe           ZW          ZWE          716   \n",
              "249  250   Åland Islands           AX          ALA          248   \n",
              "\n",
              "                                              SYNONYMS  \n",
              "0    [nan, ??, other, south america, europe, europe...  \n",
              "1                                        [afghanistan]  \n",
              "2                                            [albania]  \n",
              "3                                            [algeria]  \n",
              "4    [american samoa, \\n            american samoa\\...  \n",
              "..                                                 ...  \n",
              "245                                   [western sahara]  \n",
              "246                                            [yemen]  \n",
              "247                                           [zambia]  \n",
              "248                                         [zimbabwe]  \n",
              "249                                    [aland islands]  \n",
              "\n",
              "[250 rows x 6 columns]"
            ],
            "text/html": [
              "\n",
              "  <div id=\"df-c2b3c867-f70e-4abc-84f8-a4a3b06ccce1\">\n",
              "    <div class=\"colab-df-container\">\n",
              "      <div>\n",
              "<style scoped>\n",
              "    .dataframe tbody tr th:only-of-type {\n",
              "        vertical-align: middle;\n",
              "    }\n",
              "\n",
              "    .dataframe tbody tr th {\n",
              "        vertical-align: top;\n",
              "    }\n",
              "\n",
              "    .dataframe thead th {\n",
              "        text-align: right;\n",
              "    }\n",
              "</style>\n",
              "<table border=\"1\" class=\"dataframe\">\n",
              "  <thead>\n",
              "    <tr style=\"text-align: right;\">\n",
              "      <th></th>\n",
              "      <th>ID</th>\n",
              "      <th>NAME</th>\n",
              "      <th>ALPHA_2_CODE</th>\n",
              "      <th>ALPHA_3_CODE</th>\n",
              "      <th>NUMERIC_CODE</th>\n",
              "      <th>SYNONYMS</th>\n",
              "    </tr>\n",
              "  </thead>\n",
              "  <tbody>\n",
              "    <tr>\n",
              "      <th>0</th>\n",
              "      <td>1</td>\n",
              "      <td>404</td>\n",
              "      <td>404</td>\n",
              "      <td>404</td>\n",
              "      <td>404</td>\n",
              "      <td>[nan, ??, other, south america, europe, europe...</td>\n",
              "    </tr>\n",
              "    <tr>\n",
              "      <th>1</th>\n",
              "      <td>2</td>\n",
              "      <td>Afghanistan</td>\n",
              "      <td>AF</td>\n",
              "      <td>AFG</td>\n",
              "      <td>004</td>\n",
              "      <td>[afghanistan]</td>\n",
              "    </tr>\n",
              "    <tr>\n",
              "      <th>2</th>\n",
              "      <td>3</td>\n",
              "      <td>Albania</td>\n",
              "      <td>AL</td>\n",
              "      <td>ALB</td>\n",
              "      <td>008</td>\n",
              "      <td>[albania]</td>\n",
              "    </tr>\n",
              "    <tr>\n",
              "      <th>3</th>\n",
              "      <td>4</td>\n",
              "      <td>Algeria</td>\n",
              "      <td>DZ</td>\n",
              "      <td>DZA</td>\n",
              "      <td>012</td>\n",
              "      <td>[algeria]</td>\n",
              "    </tr>\n",
              "    <tr>\n",
              "      <th>4</th>\n",
              "      <td>5</td>\n",
              "      <td>American Samoa</td>\n",
              "      <td>AS</td>\n",
              "      <td>ASM</td>\n",
              "      <td>016</td>\n",
              "      <td>[american samoa, \\n            american samoa\\...</td>\n",
              "    </tr>\n",
              "    <tr>\n",
              "      <th>...</th>\n",
              "      <td>...</td>\n",
              "      <td>...</td>\n",
              "      <td>...</td>\n",
              "      <td>...</td>\n",
              "      <td>...</td>\n",
              "      <td>...</td>\n",
              "    </tr>\n",
              "    <tr>\n",
              "      <th>245</th>\n",
              "      <td>246</td>\n",
              "      <td>Western Sahara</td>\n",
              "      <td>EH</td>\n",
              "      <td>ESH</td>\n",
              "      <td>732</td>\n",
              "      <td>[western sahara]</td>\n",
              "    </tr>\n",
              "    <tr>\n",
              "      <th>246</th>\n",
              "      <td>247</td>\n",
              "      <td>Yemen</td>\n",
              "      <td>YE</td>\n",
              "      <td>YEM</td>\n",
              "      <td>887</td>\n",
              "      <td>[yemen]</td>\n",
              "    </tr>\n",
              "    <tr>\n",
              "      <th>247</th>\n",
              "      <td>248</td>\n",
              "      <td>Zambia</td>\n",
              "      <td>ZM</td>\n",
              "      <td>ZMB</td>\n",
              "      <td>894</td>\n",
              "      <td>[zambia]</td>\n",
              "    </tr>\n",
              "    <tr>\n",
              "      <th>248</th>\n",
              "      <td>249</td>\n",
              "      <td>Zimbabwe</td>\n",
              "      <td>ZW</td>\n",
              "      <td>ZWE</td>\n",
              "      <td>716</td>\n",
              "      <td>[zimbabwe]</td>\n",
              "    </tr>\n",
              "    <tr>\n",
              "      <th>249</th>\n",
              "      <td>250</td>\n",
              "      <td>Åland Islands</td>\n",
              "      <td>AX</td>\n",
              "      <td>ALA</td>\n",
              "      <td>248</td>\n",
              "      <td>[aland islands]</td>\n",
              "    </tr>\n",
              "  </tbody>\n",
              "</table>\n",
              "<p>250 rows × 6 columns</p>\n",
              "</div>\n",
              "      <button class=\"colab-df-convert\" onclick=\"convertToInteractive('df-c2b3c867-f70e-4abc-84f8-a4a3b06ccce1')\"\n",
              "              title=\"Convert this dataframe to an interactive table.\"\n",
              "              style=\"display:none;\">\n",
              "        \n",
              "  <svg xmlns=\"http://www.w3.org/2000/svg\" height=\"24px\"viewBox=\"0 0 24 24\"\n",
              "       width=\"24px\">\n",
              "    <path d=\"M0 0h24v24H0V0z\" fill=\"none\"/>\n",
              "    <path d=\"M18.56 5.44l.94 2.06.94-2.06 2.06-.94-2.06-.94-.94-2.06-.94 2.06-2.06.94zm-11 1L8.5 8.5l.94-2.06 2.06-.94-2.06-.94L8.5 2.5l-.94 2.06-2.06.94zm10 10l.94 2.06.94-2.06 2.06-.94-2.06-.94-.94-2.06-.94 2.06-2.06.94z\"/><path d=\"M17.41 7.96l-1.37-1.37c-.4-.4-.92-.59-1.43-.59-.52 0-1.04.2-1.43.59L10.3 9.45l-7.72 7.72c-.78.78-.78 2.05 0 2.83L4 21.41c.39.39.9.59 1.41.59.51 0 1.02-.2 1.41-.59l7.78-7.78 2.81-2.81c.8-.78.8-2.07 0-2.86zM5.41 20L4 18.59l7.72-7.72 1.47 1.35L5.41 20z\"/>\n",
              "  </svg>\n",
              "      </button>\n",
              "      \n",
              "  <style>\n",
              "    .colab-df-container {\n",
              "      display:flex;\n",
              "      flex-wrap:wrap;\n",
              "      gap: 12px;\n",
              "    }\n",
              "\n",
              "    .colab-df-convert {\n",
              "      background-color: #E8F0FE;\n",
              "      border: none;\n",
              "      border-radius: 50%;\n",
              "      cursor: pointer;\n",
              "      display: none;\n",
              "      fill: #1967D2;\n",
              "      height: 32px;\n",
              "      padding: 0 0 0 0;\n",
              "      width: 32px;\n",
              "    }\n",
              "\n",
              "    .colab-df-convert:hover {\n",
              "      background-color: #E2EBFA;\n",
              "      box-shadow: 0px 1px 2px rgba(60, 64, 67, 0.3), 0px 1px 3px 1px rgba(60, 64, 67, 0.15);\n",
              "      fill: #174EA6;\n",
              "    }\n",
              "\n",
              "    [theme=dark] .colab-df-convert {\n",
              "      background-color: #3B4455;\n",
              "      fill: #D2E3FC;\n",
              "    }\n",
              "\n",
              "    [theme=dark] .colab-df-convert:hover {\n",
              "      background-color: #434B5C;\n",
              "      box-shadow: 0px 1px 3px 1px rgba(0, 0, 0, 0.15);\n",
              "      filter: drop-shadow(0px 1px 2px rgba(0, 0, 0, 0.3));\n",
              "      fill: #FFFFFF;\n",
              "    }\n",
              "  </style>\n",
              "\n",
              "      <script>\n",
              "        const buttonEl =\n",
              "          document.querySelector('#df-c2b3c867-f70e-4abc-84f8-a4a3b06ccce1 button.colab-df-convert');\n",
              "        buttonEl.style.display =\n",
              "          google.colab.kernel.accessAllowed ? 'block' : 'none';\n",
              "\n",
              "        async function convertToInteractive(key) {\n",
              "          const element = document.querySelector('#df-c2b3c867-f70e-4abc-84f8-a4a3b06ccce1');\n",
              "          const dataTable =\n",
              "            await google.colab.kernel.invokeFunction('convertToInteractive',\n",
              "                                                     [key], {});\n",
              "          if (!dataTable) return;\n",
              "\n",
              "          const docLinkHtml = 'Like what you see? Visit the ' +\n",
              "            '<a target=\"_blank\" href=https://colab.research.google.com/notebooks/data_table.ipynb>data table notebook</a>'\n",
              "            + ' to learn more about interactive tables.';\n",
              "          element.innerHTML = '';\n",
              "          dataTable['output_type'] = 'display_data';\n",
              "          await google.colab.output.renderOutput(dataTable, element);\n",
              "          const docLink = document.createElement('div');\n",
              "          docLink.innerHTML = docLinkHtml;\n",
              "          element.appendChild(docLink);\n",
              "        }\n",
              "      </script>\n",
              "    </div>\n",
              "  </div>\n",
              "  "
            ]
          },
          "metadata": {},
          "execution_count": 22
        }
      ]
    },
    {
      "cell_type": "markdown",
      "source": [
        "Export to CSV for API consumption"
      ],
      "metadata": {
        "id": "iveqMFwTl6GV"
      }
    },
    {
      "cell_type": "code",
      "source": [
        "countries_ISO_data.to_csv('countries_Standard.csv', index=False)"
      ],
      "metadata": {
        "id": "Y1Rlfxn5hWj4"
      },
      "execution_count": null,
      "outputs": []
    },
    {
      "cell_type": "markdown",
      "metadata": {
        "id": "WfsnxqlOvUza"
      },
      "source": [
        "## Countries VS TrialID"
      ]
    },
    {
      "cell_type": "markdown",
      "source": [
        "A DataFrame that correlates the event ID and the ISO Country names for easy API and database manipulation"
      ],
      "metadata": {
        "id": "6qdhGdiBmABK"
      }
    },
    {
      "cell_type": "code",
      "execution_count": null,
      "metadata": {
        "id": "OozBdn7Bvj8c",
        "colab": {
          "base_uri": "https://localhost:8080/"
        },
        "outputId": "1cdbba97-4cee-4230-bf84-ee32a5eb78a7"
      },
      "outputs": [
        {
          "output_type": "stream",
          "name": "stderr",
          "text": [
            "/usr/local/lib/python3.7/dist-packages/ipykernel_launcher.py:2: SettingWithCopyWarning: \n",
            "A value is trying to be set on a copy of a slice from a DataFrame.\n",
            "Try using .loc[row_indexer,col_indexer] = value instead\n",
            "\n",
            "See the caveats in the documentation: https://pandas.pydata.org/pandas-docs/stable/user_guide/indexing.html#returning-a-view-versus-a-copy\n",
            "  \n"
          ]
        }
      ],
      "source": [
        "countries_reference = countries_ISO_data[['ID','SYNONYMS']]\n",
        "countries_reference['ID'] = countries_reference['ID'] - 1 "
      ]
    },
    {
      "cell_type": "markdown",
      "source": [
        "Extract ID and COUNTRIES from the original DataFrame"
      ],
      "metadata": {
        "id": "NQYHTpPfo_f6"
      }
    },
    {
      "cell_type": "code",
      "execution_count": null,
      "metadata": {
        "id": "w1F45hcSxFP2"
      },
      "outputs": [],
      "source": [
        "inspect_countries = df[['ID','COUNTRIES']]"
      ]
    },
    {
      "cell_type": "markdown",
      "source": [
        "Countries are transformed to lower case and ';' is replaced by ','"
      ],
      "metadata": {
        "id": "FV94Js5OpHNU"
      }
    },
    {
      "cell_type": "code",
      "execution_count": null,
      "metadata": {
        "colab": {
          "base_uri": "https://localhost:8080/"
        },
        "id": "lRIYnHQNxu4H",
        "outputId": "78d796de-cbf0-4639-e963-cc7dfba438b4"
      },
      "outputs": [
        {
          "output_type": "stream",
          "name": "stderr",
          "text": [
            "/usr/local/lib/python3.7/dist-packages/ipykernel_launcher.py:1: SettingWithCopyWarning: \n",
            "A value is trying to be set on a copy of a slice from a DataFrame.\n",
            "Try using .loc[row_indexer,col_indexer] = value instead\n",
            "\n",
            "See the caveats in the documentation: https://pandas.pydata.org/pandas-docs/stable/user_guide/indexing.html#returning-a-view-versus-a-copy\n",
            "  \"\"\"Entry point for launching an IPython kernel.\n"
          ]
        }
      ],
      "source": [
        "inspect_countries['COUNTRIES'] = inspect_countries['COUNTRIES'].apply(lambda x: str(x).lower().replace(';', ','))"
      ]
    },
    {
      "cell_type": "markdown",
      "source": [
        "Match countries ID in ISO standard ]\n",
        "with event ID in the original DataFrame"
      ],
      "metadata": {
        "id": "wgq5HzY5pnvS"
      }
    },
    {
      "cell_type": "code",
      "execution_count": null,
      "metadata": {
        "id": "g_1yVqHEv7AZ"
      },
      "outputs": [],
      "source": [
        "# Big list that matches the country with the ID\n",
        "countries_trialsID = []\n",
        "\n",
        "# Go through all the COUNTRY ISO names\n",
        "for index,row_outer in countries_reference.iterrows():\n",
        "  aliases = row_outer['SYNONYMS']\n",
        "\n",
        "  # Temporal storage for ID pair of COUNTRY - TRIAL\n",
        "  trial_id_list = []\n",
        "  \n",
        "  # Go through all the original DataFrame of TRIALID\n",
        "  for index,row_inner in inspect_countries.iterrows():\n",
        "\n",
        "    # If any string of the \"COUNTRIES\" column matches any value of the \"SYNONYMS\" in the ISO STANDARD NAME for countries \n",
        "    if any(word in row_inner['COUNTRIES'] for word in aliases):\n",
        "      # Append the ISO STANDARD NAME ID and the original df ID\n",
        "      trial_id_list = [row_outer['ID'], row_inner['ID']]\n",
        "\n",
        "\n",
        "      # Apendr to the big list for easy DataFrame creation\n",
        "      countries_trialsID.append(trial_id_list)"
      ]
    },
    {
      "cell_type": "code",
      "source": [
        "len(countries_trialsID)"
      ],
      "metadata": {
        "id": "L24DBWJP8P7O",
        "colab": {
          "base_uri": "https://localhost:8080/"
        },
        "outputId": "07d8b649-a5c6-414a-8bb4-c5ca0e89b9d4"
      },
      "execution_count": null,
      "outputs": [
        {
          "output_type": "execute_result",
          "data": {
            "text/plain": [
              "20319"
            ]
          },
          "metadata": {},
          "execution_count": 28
        }
      ]
    },
    {
      "cell_type": "code",
      "execution_count": null,
      "metadata": {
        "id": "1GfEhIO8B_e0"
      },
      "outputs": [],
      "source": [
        "# DataFrame Creation\n",
        "countries_trials_ID = pd.DataFrame(countries_trialsID, columns = ['COUNTRY', 'ID'])"
      ]
    },
    {
      "cell_type": "markdown",
      "source": [
        "A 'pivot table' is created.\n",
        "\n",
        "This table matches the ID of the COUNTRY ISO STANDARD NAME and the Event ID in the original dataset"
      ],
      "metadata": {
        "id": "mKCjtX_0r5xG"
      }
    },
    {
      "cell_type": "code",
      "execution_count": null,
      "metadata": {
        "colab": {
          "base_uri": "https://localhost:8080/",
          "height": 424
        },
        "id": "zBaQcbhmMLDj",
        "outputId": "2275a461-a86e-4b6f-db75-dc827c354f3a"
      },
      "outputs": [
        {
          "output_type": "execute_result",
          "data": {
            "text/plain": [
              "       COUNTRY     ID\n",
              "0            0      6\n",
              "1            0     30\n",
              "2            0    119\n",
              "3            0    182\n",
              "4            0    204\n",
              "...        ...    ...\n",
              "20314      248  14255\n",
              "20315      248  14270\n",
              "20316      248  14634\n",
              "20317      249   1124\n",
              "20318      249   1310\n",
              "\n",
              "[20319 rows x 2 columns]"
            ],
            "text/html": [
              "\n",
              "  <div id=\"df-bca7936e-8a25-4214-8ac2-3bc375036253\">\n",
              "    <div class=\"colab-df-container\">\n",
              "      <div>\n",
              "<style scoped>\n",
              "    .dataframe tbody tr th:only-of-type {\n",
              "        vertical-align: middle;\n",
              "    }\n",
              "\n",
              "    .dataframe tbody tr th {\n",
              "        vertical-align: top;\n",
              "    }\n",
              "\n",
              "    .dataframe thead th {\n",
              "        text-align: right;\n",
              "    }\n",
              "</style>\n",
              "<table border=\"1\" class=\"dataframe\">\n",
              "  <thead>\n",
              "    <tr style=\"text-align: right;\">\n",
              "      <th></th>\n",
              "      <th>COUNTRY</th>\n",
              "      <th>ID</th>\n",
              "    </tr>\n",
              "  </thead>\n",
              "  <tbody>\n",
              "    <tr>\n",
              "      <th>0</th>\n",
              "      <td>0</td>\n",
              "      <td>6</td>\n",
              "    </tr>\n",
              "    <tr>\n",
              "      <th>1</th>\n",
              "      <td>0</td>\n",
              "      <td>30</td>\n",
              "    </tr>\n",
              "    <tr>\n",
              "      <th>2</th>\n",
              "      <td>0</td>\n",
              "      <td>119</td>\n",
              "    </tr>\n",
              "    <tr>\n",
              "      <th>3</th>\n",
              "      <td>0</td>\n",
              "      <td>182</td>\n",
              "    </tr>\n",
              "    <tr>\n",
              "      <th>4</th>\n",
              "      <td>0</td>\n",
              "      <td>204</td>\n",
              "    </tr>\n",
              "    <tr>\n",
              "      <th>...</th>\n",
              "      <td>...</td>\n",
              "      <td>...</td>\n",
              "    </tr>\n",
              "    <tr>\n",
              "      <th>20314</th>\n",
              "      <td>248</td>\n",
              "      <td>14255</td>\n",
              "    </tr>\n",
              "    <tr>\n",
              "      <th>20315</th>\n",
              "      <td>248</td>\n",
              "      <td>14270</td>\n",
              "    </tr>\n",
              "    <tr>\n",
              "      <th>20316</th>\n",
              "      <td>248</td>\n",
              "      <td>14634</td>\n",
              "    </tr>\n",
              "    <tr>\n",
              "      <th>20317</th>\n",
              "      <td>249</td>\n",
              "      <td>1124</td>\n",
              "    </tr>\n",
              "    <tr>\n",
              "      <th>20318</th>\n",
              "      <td>249</td>\n",
              "      <td>1310</td>\n",
              "    </tr>\n",
              "  </tbody>\n",
              "</table>\n",
              "<p>20319 rows × 2 columns</p>\n",
              "</div>\n",
              "      <button class=\"colab-df-convert\" onclick=\"convertToInteractive('df-bca7936e-8a25-4214-8ac2-3bc375036253')\"\n",
              "              title=\"Convert this dataframe to an interactive table.\"\n",
              "              style=\"display:none;\">\n",
              "        \n",
              "  <svg xmlns=\"http://www.w3.org/2000/svg\" height=\"24px\"viewBox=\"0 0 24 24\"\n",
              "       width=\"24px\">\n",
              "    <path d=\"M0 0h24v24H0V0z\" fill=\"none\"/>\n",
              "    <path d=\"M18.56 5.44l.94 2.06.94-2.06 2.06-.94-2.06-.94-.94-2.06-.94 2.06-2.06.94zm-11 1L8.5 8.5l.94-2.06 2.06-.94-2.06-.94L8.5 2.5l-.94 2.06-2.06.94zm10 10l.94 2.06.94-2.06 2.06-.94-2.06-.94-.94-2.06-.94 2.06-2.06.94z\"/><path d=\"M17.41 7.96l-1.37-1.37c-.4-.4-.92-.59-1.43-.59-.52 0-1.04.2-1.43.59L10.3 9.45l-7.72 7.72c-.78.78-.78 2.05 0 2.83L4 21.41c.39.39.9.59 1.41.59.51 0 1.02-.2 1.41-.59l7.78-7.78 2.81-2.81c.8-.78.8-2.07 0-2.86zM5.41 20L4 18.59l7.72-7.72 1.47 1.35L5.41 20z\"/>\n",
              "  </svg>\n",
              "      </button>\n",
              "      \n",
              "  <style>\n",
              "    .colab-df-container {\n",
              "      display:flex;\n",
              "      flex-wrap:wrap;\n",
              "      gap: 12px;\n",
              "    }\n",
              "\n",
              "    .colab-df-convert {\n",
              "      background-color: #E8F0FE;\n",
              "      border: none;\n",
              "      border-radius: 50%;\n",
              "      cursor: pointer;\n",
              "      display: none;\n",
              "      fill: #1967D2;\n",
              "      height: 32px;\n",
              "      padding: 0 0 0 0;\n",
              "      width: 32px;\n",
              "    }\n",
              "\n",
              "    .colab-df-convert:hover {\n",
              "      background-color: #E2EBFA;\n",
              "      box-shadow: 0px 1px 2px rgba(60, 64, 67, 0.3), 0px 1px 3px 1px rgba(60, 64, 67, 0.15);\n",
              "      fill: #174EA6;\n",
              "    }\n",
              "\n",
              "    [theme=dark] .colab-df-convert {\n",
              "      background-color: #3B4455;\n",
              "      fill: #D2E3FC;\n",
              "    }\n",
              "\n",
              "    [theme=dark] .colab-df-convert:hover {\n",
              "      background-color: #434B5C;\n",
              "      box-shadow: 0px 1px 3px 1px rgba(0, 0, 0, 0.15);\n",
              "      filter: drop-shadow(0px 1px 2px rgba(0, 0, 0, 0.3));\n",
              "      fill: #FFFFFF;\n",
              "    }\n",
              "  </style>\n",
              "\n",
              "      <script>\n",
              "        const buttonEl =\n",
              "          document.querySelector('#df-bca7936e-8a25-4214-8ac2-3bc375036253 button.colab-df-convert');\n",
              "        buttonEl.style.display =\n",
              "          google.colab.kernel.accessAllowed ? 'block' : 'none';\n",
              "\n",
              "        async function convertToInteractive(key) {\n",
              "          const element = document.querySelector('#df-bca7936e-8a25-4214-8ac2-3bc375036253');\n",
              "          const dataTable =\n",
              "            await google.colab.kernel.invokeFunction('convertToInteractive',\n",
              "                                                     [key], {});\n",
              "          if (!dataTable) return;\n",
              "\n",
              "          const docLinkHtml = 'Like what you see? Visit the ' +\n",
              "            '<a target=\"_blank\" href=https://colab.research.google.com/notebooks/data_table.ipynb>data table notebook</a>'\n",
              "            + ' to learn more about interactive tables.';\n",
              "          element.innerHTML = '';\n",
              "          dataTable['output_type'] = 'display_data';\n",
              "          await google.colab.output.renderOutput(dataTable, element);\n",
              "          const docLink = document.createElement('div');\n",
              "          docLink.innerHTML = docLinkHtml;\n",
              "          element.appendChild(docLink);\n",
              "        }\n",
              "      </script>\n",
              "    </div>\n",
              "  </div>\n",
              "  "
            ]
          },
          "metadata": {},
          "execution_count": 30
        }
      ],
      "source": [
        "countries_trials_ID"
      ]
    },
    {
      "cell_type": "code",
      "execution_count": null,
      "metadata": {
        "id": "NdXrU714KAFr"
      },
      "outputs": [],
      "source": [
        "# Export Pivot Table\n",
        "countries_trials_ID.to_csv('ID_country.csv', index=False)"
      ]
    },
    {
      "cell_type": "markdown",
      "source": [
        "## Append Clean Countries to Original DataFrame"
      ],
      "metadata": {
        "id": "3Q2XHvWoldG9"
      }
    },
    {
      "cell_type": "markdown",
      "source": [
        "The corrected list of names that appear in the 'COUNTRIES' column without typos is appended to the original DataFrame"
      ],
      "metadata": {
        "id": "KJQdFYfZsOdA"
      }
    },
    {
      "cell_type": "code",
      "source": [
        "# Import pivot table\n",
        "countries_trials_pivot = pd.read_csv('ID_country.csv')"
      ],
      "metadata": {
        "id": "tNLHWLeVljel"
      },
      "execution_count": null,
      "outputs": []
    },
    {
      "cell_type": "code",
      "source": [
        "# Sort by TrialID\n",
        "countries_trials_pivot.sort_values('ID')"
      ],
      "metadata": {
        "colab": {
          "base_uri": "https://localhost:8080/",
          "height": 424
        },
        "id": "gAlz_N1klv8s",
        "outputId": "797d85b9-8693-43cd-d7c2-5c34a70f4b55"
      },
      "execution_count": null,
      "outputs": [
        {
          "output_type": "execute_result",
          "data": {
            "text/plain": [
              "       COUNTRY     ID\n",
              "16426      218      1\n",
              "3246        46      2\n",
              "18233      237      3\n",
              "18234      237      4\n",
              "10147      106      5\n",
              "...        ...    ...\n",
              "12366      113  14681\n",
              "12367      113  14682\n",
              "12368      113  14683\n",
              "12369      113  14684\n",
              "12370      113  14685\n",
              "\n",
              "[20319 rows x 2 columns]"
            ],
            "text/html": [
              "\n",
              "  <div id=\"df-e67f8086-b2a1-4b62-8704-6f631721047d\">\n",
              "    <div class=\"colab-df-container\">\n",
              "      <div>\n",
              "<style scoped>\n",
              "    .dataframe tbody tr th:only-of-type {\n",
              "        vertical-align: middle;\n",
              "    }\n",
              "\n",
              "    .dataframe tbody tr th {\n",
              "        vertical-align: top;\n",
              "    }\n",
              "\n",
              "    .dataframe thead th {\n",
              "        text-align: right;\n",
              "    }\n",
              "</style>\n",
              "<table border=\"1\" class=\"dataframe\">\n",
              "  <thead>\n",
              "    <tr style=\"text-align: right;\">\n",
              "      <th></th>\n",
              "      <th>COUNTRY</th>\n",
              "      <th>ID</th>\n",
              "    </tr>\n",
              "  </thead>\n",
              "  <tbody>\n",
              "    <tr>\n",
              "      <th>16426</th>\n",
              "      <td>218</td>\n",
              "      <td>1</td>\n",
              "    </tr>\n",
              "    <tr>\n",
              "      <th>3246</th>\n",
              "      <td>46</td>\n",
              "      <td>2</td>\n",
              "    </tr>\n",
              "    <tr>\n",
              "      <th>18233</th>\n",
              "      <td>237</td>\n",
              "      <td>3</td>\n",
              "    </tr>\n",
              "    <tr>\n",
              "      <th>18234</th>\n",
              "      <td>237</td>\n",
              "      <td>4</td>\n",
              "    </tr>\n",
              "    <tr>\n",
              "      <th>10147</th>\n",
              "      <td>106</td>\n",
              "      <td>5</td>\n",
              "    </tr>\n",
              "    <tr>\n",
              "      <th>...</th>\n",
              "      <td>...</td>\n",
              "      <td>...</td>\n",
              "    </tr>\n",
              "    <tr>\n",
              "      <th>12366</th>\n",
              "      <td>113</td>\n",
              "      <td>14681</td>\n",
              "    </tr>\n",
              "    <tr>\n",
              "      <th>12367</th>\n",
              "      <td>113</td>\n",
              "      <td>14682</td>\n",
              "    </tr>\n",
              "    <tr>\n",
              "      <th>12368</th>\n",
              "      <td>113</td>\n",
              "      <td>14683</td>\n",
              "    </tr>\n",
              "    <tr>\n",
              "      <th>12369</th>\n",
              "      <td>113</td>\n",
              "      <td>14684</td>\n",
              "    </tr>\n",
              "    <tr>\n",
              "      <th>12370</th>\n",
              "      <td>113</td>\n",
              "      <td>14685</td>\n",
              "    </tr>\n",
              "  </tbody>\n",
              "</table>\n",
              "<p>20319 rows × 2 columns</p>\n",
              "</div>\n",
              "      <button class=\"colab-df-convert\" onclick=\"convertToInteractive('df-e67f8086-b2a1-4b62-8704-6f631721047d')\"\n",
              "              title=\"Convert this dataframe to an interactive table.\"\n",
              "              style=\"display:none;\">\n",
              "        \n",
              "  <svg xmlns=\"http://www.w3.org/2000/svg\" height=\"24px\"viewBox=\"0 0 24 24\"\n",
              "       width=\"24px\">\n",
              "    <path d=\"M0 0h24v24H0V0z\" fill=\"none\"/>\n",
              "    <path d=\"M18.56 5.44l.94 2.06.94-2.06 2.06-.94-2.06-.94-.94-2.06-.94 2.06-2.06.94zm-11 1L8.5 8.5l.94-2.06 2.06-.94-2.06-.94L8.5 2.5l-.94 2.06-2.06.94zm10 10l.94 2.06.94-2.06 2.06-.94-2.06-.94-.94-2.06-.94 2.06-2.06.94z\"/><path d=\"M17.41 7.96l-1.37-1.37c-.4-.4-.92-.59-1.43-.59-.52 0-1.04.2-1.43.59L10.3 9.45l-7.72 7.72c-.78.78-.78 2.05 0 2.83L4 21.41c.39.39.9.59 1.41.59.51 0 1.02-.2 1.41-.59l7.78-7.78 2.81-2.81c.8-.78.8-2.07 0-2.86zM5.41 20L4 18.59l7.72-7.72 1.47 1.35L5.41 20z\"/>\n",
              "  </svg>\n",
              "      </button>\n",
              "      \n",
              "  <style>\n",
              "    .colab-df-container {\n",
              "      display:flex;\n",
              "      flex-wrap:wrap;\n",
              "      gap: 12px;\n",
              "    }\n",
              "\n",
              "    .colab-df-convert {\n",
              "      background-color: #E8F0FE;\n",
              "      border: none;\n",
              "      border-radius: 50%;\n",
              "      cursor: pointer;\n",
              "      display: none;\n",
              "      fill: #1967D2;\n",
              "      height: 32px;\n",
              "      padding: 0 0 0 0;\n",
              "      width: 32px;\n",
              "    }\n",
              "\n",
              "    .colab-df-convert:hover {\n",
              "      background-color: #E2EBFA;\n",
              "      box-shadow: 0px 1px 2px rgba(60, 64, 67, 0.3), 0px 1px 3px 1px rgba(60, 64, 67, 0.15);\n",
              "      fill: #174EA6;\n",
              "    }\n",
              "\n",
              "    [theme=dark] .colab-df-convert {\n",
              "      background-color: #3B4455;\n",
              "      fill: #D2E3FC;\n",
              "    }\n",
              "\n",
              "    [theme=dark] .colab-df-convert:hover {\n",
              "      background-color: #434B5C;\n",
              "      box-shadow: 0px 1px 3px 1px rgba(0, 0, 0, 0.15);\n",
              "      filter: drop-shadow(0px 1px 2px rgba(0, 0, 0, 0.3));\n",
              "      fill: #FFFFFF;\n",
              "    }\n",
              "  </style>\n",
              "\n",
              "      <script>\n",
              "        const buttonEl =\n",
              "          document.querySelector('#df-e67f8086-b2a1-4b62-8704-6f631721047d button.colab-df-convert');\n",
              "        buttonEl.style.display =\n",
              "          google.colab.kernel.accessAllowed ? 'block' : 'none';\n",
              "\n",
              "        async function convertToInteractive(key) {\n",
              "          const element = document.querySelector('#df-e67f8086-b2a1-4b62-8704-6f631721047d');\n",
              "          const dataTable =\n",
              "            await google.colab.kernel.invokeFunction('convertToInteractive',\n",
              "                                                     [key], {});\n",
              "          if (!dataTable) return;\n",
              "\n",
              "          const docLinkHtml = 'Like what you see? Visit the ' +\n",
              "            '<a target=\"_blank\" href=https://colab.research.google.com/notebooks/data_table.ipynb>data table notebook</a>'\n",
              "            + ' to learn more about interactive tables.';\n",
              "          element.innerHTML = '';\n",
              "          dataTable['output_type'] = 'display_data';\n",
              "          await google.colab.output.renderOutput(dataTable, element);\n",
              "          const docLink = document.createElement('div');\n",
              "          docLink.innerHTML = docLinkHtml;\n",
              "          element.appendChild(docLink);\n",
              "        }\n",
              "      </script>\n",
              "    </div>\n",
              "  </div>\n",
              "  "
            ]
          },
          "metadata": {},
          "execution_count": 33
        }
      ]
    },
    {
      "cell_type": "markdown",
      "source": [
        "Group by TRIALID and make a list of the countries that match the same TRIALID"
      ],
      "metadata": {
        "id": "cGMqAWXxsrAA"
      }
    },
    {
      "cell_type": "code",
      "source": [
        "reverse_search = countries_trials_pivot.groupby(['ID'])['COUNTRY'].apply(list)"
      ],
      "metadata": {
        "id": "anvX1slToJEL"
      },
      "execution_count": null,
      "outputs": []
    },
    {
      "cell_type": "markdown",
      "source": [
        "Match ID of the country with the ISO STANDARD NAME"
      ],
      "metadata": {
        "id": "PUO5n5als0_T"
      }
    },
    {
      "cell_type": "code",
      "source": [
        "big_list = []\n",
        "\n",
        "# For every TRIALID\n",
        "for i in reverse_search:\n",
        "\n",
        "    # Match the ID of the list with the ISO STANDARD NAME\n",
        "    a_list = countries_ISO_data[countries_ISO_data['ID'].isin(i)]['NAME']\n",
        "\n",
        "    # Append the values to a big list\n",
        "    big_list.append(list(a_list))\n",
        "    "
      ],
      "metadata": {
        "id": "GiNrIuxdpO_b"
      },
      "execution_count": null,
      "outputs": []
    },
    {
      "cell_type": "code",
      "source": [
        "# Append to the original DataFrame\n",
        "df['COUNTRIES_CLEAN'] = big_list"
      ],
      "metadata": {
        "id": "CyeGsTKHxgfP"
      },
      "execution_count": null,
      "outputs": []
    },
    {
      "cell_type": "markdown",
      "source": [
        "# Gender Exploration"
      ],
      "metadata": {
        "id": "xzqSBr4mp9OX"
      }
    },
    {
      "cell_type": "markdown",
      "source": [
        "Exploration of the 'INCLUSION GENDER' column"
      ],
      "metadata": {
        "id": "2lAj9wYEyW3b"
      }
    },
    {
      "cell_type": "markdown",
      "source": [
        "## Unique Gender Values Obtention"
      ],
      "metadata": {
        "id": "4wTc7w9PpRoO"
      }
    },
    {
      "cell_type": "code",
      "source": [
        "df['INCLUSION GENDER'].unique()"
      ],
      "metadata": {
        "colab": {
          "base_uri": "https://localhost:8080/"
        },
        "id": "V9F2IXJWd9pK",
        "outputId": "3794c59e-b42b-42d8-f579-42bbd0e349b2"
      },
      "execution_count": null,
      "outputs": [
        {
          "output_type": "execute_result",
          "data": {
            "text/plain": [
              "array(['Both', 'All', 'Male', 'Female',\n",
              "       '<br>Female: yes<br>Male: yes<br>', 'Both males and females',\n",
              "       'Females', '<br>Female: no<br>Male: yes<br>', 'Males',\n",
              "       '<br>Female: no<br>Male: no<br>', nan,\n",
              "       '<br>Female: yes<br>Male: no<br>', 'BOTH', 'Not Specified',\n",
              "       'Male and Female', 'Both, male and female', '-', 'M', 'F', 'B',\n",
              "       'Male/Female'], dtype=object)"
            ]
          },
          "metadata": {},
          "execution_count": 37
        }
      ]
    },
    {
      "cell_type": "code",
      "source": [
        "sliced = df['INCLUSION GENDER'].apply(lambda x: str(x).lower().replace('<br>', '').replace(' ', '').replace(':','').replace(',',''))\n",
        "sliced"
      ],
      "metadata": {
        "colab": {
          "base_uri": "https://localhost:8080/"
        },
        "id": "IM7tNlieeV0c",
        "outputId": "4da7b8aa-1c8d-437b-936f-c87855229fd5"
      },
      "execution_count": null,
      "outputs": [
        {
          "output_type": "execute_result",
          "data": {
            "text/plain": [
              "0                 both\n",
              "1                 both\n",
              "2                 both\n",
              "3                 both\n",
              "4                 both\n",
              "             ...      \n",
              "14680    maleandfemale\n",
              "14681    maleandfemale\n",
              "14682    maleandfemale\n",
              "14683    maleandfemale\n",
              "14684    maleandfemale\n",
              "Name: INCLUSION GENDER, Length: 14685, dtype: object"
            ]
          },
          "metadata": {},
          "execution_count": 38
        }
      ]
    },
    {
      "cell_type": "code",
      "source": [
        "sliced.unique()"
      ],
      "metadata": {
        "colab": {
          "base_uri": "https://localhost:8080/"
        },
        "id": "SKPyfRHCe_TJ",
        "outputId": "5d93bb05-e4e5-4a99-b940-5392b70f277a"
      },
      "execution_count": null,
      "outputs": [
        {
          "output_type": "execute_result",
          "data": {
            "text/plain": [
              "array(['both', 'all', 'male', 'female', 'femaleyesmaleyes',\n",
              "       'bothmalesandfemales', 'females', 'femalenomaleyes', 'males',\n",
              "       'femalenomaleno', 'nan', 'femaleyesmaleno', 'notspecified',\n",
              "       'maleandfemale', 'bothmaleandfemale', '-', 'm', 'f', 'b',\n",
              "       'male/female'], dtype=object)"
            ]
          },
          "metadata": {},
          "execution_count": 39
        }
      ]
    },
    {
      "cell_type": "markdown",
      "source": [
        "Replacing Values"
      ],
      "metadata": {
        "id": "ni07iOvzynLh"
      }
    },
    {
      "cell_type": "code",
      "source": [
        "inspect_gender = df[['ID','INCLUSION GENDER']]"
      ],
      "metadata": {
        "id": "mHBdabFNmmqe"
      },
      "execution_count": null,
      "outputs": []
    },
    {
      "cell_type": "code",
      "source": [
        "inspect_gender['INCLUSION GENDER'] = inspect_gender['INCLUSION GENDER'].apply(lambda x: str(x).lower().replace('<br>', '').replace(' ', '').replace(':','').replace(',',''))"
      ],
      "metadata": {
        "colab": {
          "base_uri": "https://localhost:8080/"
        },
        "id": "ESWBpprknVpP",
        "outputId": "759678dd-e926-4c1b-eb99-4294b7c841f5"
      },
      "execution_count": null,
      "outputs": [
        {
          "output_type": "stream",
          "name": "stderr",
          "text": [
            "/usr/local/lib/python3.7/dist-packages/ipykernel_launcher.py:1: SettingWithCopyWarning: \n",
            "A value is trying to be set on a copy of a slice from a DataFrame.\n",
            "Try using .loc[row_indexer,col_indexer] = value instead\n",
            "\n",
            "See the caveats in the documentation: https://pandas.pydata.org/pandas-docs/stable/user_guide/indexing.html#returning-a-view-versus-a-copy\n",
            "  \"\"\"Entry point for launching an IPython kernel.\n"
          ]
        }
      ]
    },
    {
      "cell_type": "code",
      "source": [
        "inspect_gender['INCLUSION GENDER'].unique()"
      ],
      "metadata": {
        "colab": {
          "base_uri": "https://localhost:8080/"
        },
        "id": "OQKmnxv8nlDg",
        "outputId": "a677b74f-6764-4b2e-ef67-1003a2c00fbc"
      },
      "execution_count": null,
      "outputs": [
        {
          "output_type": "execute_result",
          "data": {
            "text/plain": [
              "array(['both', 'all', 'male', 'female', 'femaleyesmaleyes',\n",
              "       'bothmalesandfemales', 'females', 'femalenomaleyes', 'males',\n",
              "       'femalenomaleno', 'nan', 'femaleyesmaleno', 'notspecified',\n",
              "       'maleandfemale', 'bothmaleandfemale', '-', 'm', 'f', 'b',\n",
              "       'male/female'], dtype=object)"
            ]
          },
          "metadata": {},
          "execution_count": 42
        }
      ]
    },
    {
      "cell_type": "code",
      "source": [
        "gender_clean = list(inspect_gender['INCLUSION GENDER'])\n",
        "\n",
        "for i in range(len(gender_clean)):\n",
        "  if re.fullmatch('both',gender_clean[i]) or re.fullmatch('all', gender_clean[i]) or re.fullmatch('femaleyesmaleyes',gender_clean[i]) or re.fullmatch('bothmalesandfemales',gender_clean[i]) or re.fullmatch('maleandfemale',gender_clean[i]) or re.fullmatch('bothmaleandfemale',gender_clean[i]) or re.fullmatch('b',gender_clean[i]) or re.fullmatch('male/female',gender_clean[i]):\n",
        "    gender_clean[i] = 'Both'\n",
        "\n",
        "for i in range(len(gender_clean)):\n",
        "  if re.fullmatch('female',gender_clean[i]) or re.fullmatch('females', gender_clean[i]) or re.fullmatch('femaleyesmaleno',gender_clean[i]) or re.fullmatch('f',gender_clean[i]):\n",
        "    gender_clean[i] = 'Female'\n",
        "\n",
        "for i in range(len(gender_clean)):\n",
        "  if re.fullmatch('male',gender_clean[i]) or re.fullmatch('males', gender_clean[i]) or re.fullmatch('femalenomaleyes',gender_clean[i]) or re.fullmatch('m',gender_clean[i]):\n",
        "    gender_clean[i] = 'Male'\n",
        "\n",
        "for i in range(len(gender_clean)):\n",
        "  if re.fullmatch('not specified',gender_clean[i]) or re.fullmatch('femalenomaleno', gender_clean[i]) or re.fullmatch('nan',gender_clean[i]) or re.fullmatch('notspecified',gender_clean[i]) or re.fullmatch('-',gender_clean[i]):\n",
        "    gender_clean[i] = 'Not Specified'\n",
        "\n",
        "\n",
        "\n",
        "gender_clean = pd.Series(gender_clean)\n",
        "gender_clean.unique()"
      ],
      "metadata": {
        "colab": {
          "base_uri": "https://localhost:8080/"
        },
        "id": "pQ-SbyzfT00f",
        "outputId": "444c8628-4a0e-4f35-dfc0-a066ca7957c5"
      },
      "execution_count": null,
      "outputs": [
        {
          "output_type": "execute_result",
          "data": {
            "text/plain": [
              "array(['Both', 'Male', 'Female', 'Not Specified'], dtype=object)"
            ]
          },
          "metadata": {},
          "execution_count": 43
        }
      ]
    },
    {
      "cell_type": "code",
      "source": [
        "df['GENDER_CLEAN'] = gender_clean"
      ],
      "metadata": {
        "id": "Hj7jqqrF_uOv"
      },
      "execution_count": null,
      "outputs": []
    },
    {
      "cell_type": "markdown",
      "source": [
        "# Study Type Exploration"
      ],
      "metadata": {
        "id": "lzedpzsjH6fD"
      }
    },
    {
      "cell_type": "code",
      "source": [
        "str_study_type =df['STUDY TYPE'].astype(str).apply(lambda x: x.lower().replace(' ', '').replace(',', '').replace('[','').replace(']',''))"
      ],
      "metadata": {
        "id": "xYFM0zXSGht4"
      },
      "execution_count": null,
      "outputs": []
    },
    {
      "cell_type": "markdown",
      "source": [
        "## Unique Values Obtention"
      ],
      "metadata": {
        "id": "vdDf_BAfJ6pf"
      }
    },
    {
      "cell_type": "code",
      "source": [
        "str_study_type.unique()"
      ],
      "metadata": {
        "colab": {
          "base_uri": "https://localhost:8080/"
        },
        "id": "GOfWRXk5GhxX",
        "outputId": "64da6973-7c97-43f5-c09f-a804f1ad86b6"
      },
      "execution_count": null,
      "outputs": [
        {
          "output_type": "execute_result",
          "data": {
            "text/plain": [
              "array(['observational', 'interventional', 'observationalstudy',\n",
              "       'interventionalstudy', 'diagnostictest', 'prevention',\n",
              "       'prognosisstudy', 'basicscience', 'treatmentstudy',\n",
              "       'epidemilogicalresearch', 'healthservicesreaserch', 'screening',\n",
              "       'interventionalclinicaltrialofmedicinalproduct',\n",
              "       'observationalpatientregistry', 'healthservicesresearch',\n",
              "       'expandedaccess', 'pms', 'other', 'othersmeta-analysisetc',\n",
              "       'unknown', 'intervention'], dtype=object)"
            ]
          },
          "metadata": {},
          "execution_count": 46
        }
      ]
    },
    {
      "cell_type": "code",
      "source": [
        "observational = ['observational', 'observationalstudy', 'observationalpatientregistry']\n",
        "interventional = ['interventional', 'interventionalstudy','interventionalclinicaltrialofmedicinalproduct', 'intervention']\n",
        "diagnostic = ['diagnostictest']\n",
        "prevention = ['prevention']\n",
        "prognosis = ['prognosisstudy']\n",
        "treatment = ['treatmentstudy']\n",
        "epidemiological = ['epidemilogicalresearch']\n",
        "health_service = ['healthservicesreaserch', 'healthservicesresearch']\n",
        "screening = ['screening']\n",
        "expanded = ['expandedaccess']\n",
        "pms = ['pms']\n",
        "basic_science = ['basicscience']\n",
        "not_specified = ['nan', 'other', 'othersmeta-analysisetc', 'unknown']"
      ],
      "metadata": {
        "id": "jUY08u6hGh0K"
      },
      "execution_count": null,
      "outputs": []
    },
    {
      "cell_type": "code",
      "source": [
        "str_study_type = list(str_study_type)"
      ],
      "metadata": {
        "id": "dj86RH-nGh3D"
      },
      "execution_count": null,
      "outputs": []
    },
    {
      "cell_type": "code",
      "source": [
        "for i in range(len(str_study_type)):\n",
        "  if re.fullmatch('observational',str_study_type[i]) or re.fullmatch('observationalstudy', str_study_type[i]) or re.fullmatch('observationalpatientregistry',str_study_type[i]):\n",
        "    str_study_type[i] = 'Observational Study'\n",
        "\n",
        "for i in range(len(str_study_type)):\n",
        "  if re.fullmatch('interventional',str_study_type[i]) or re.fullmatch('interventionalstudy', str_study_type[i]) or re.fullmatch('interventionalclinicaltrialofmedicinalproduct',str_study_type[i]) or re.fullmatch('intervention',str_study_type[i]):\n",
        "    str_study_type[i] = 'Interventional Study'\n",
        "\n",
        "for i in range(len(str_study_type)):\n",
        "  if re.fullmatch('diagnostictest',str_study_type[i]):\n",
        "    str_study_type[i] = 'Diagnostic Study'\n",
        "\n",
        "for i in range(len(str_study_type)):\n",
        "  if re.fullmatch('prevention',str_study_type[i]):\n",
        "    str_study_type[i] = 'Prevention Study'\n",
        "\n",
        "for i in range(len(str_study_type)):\n",
        "  if re.fullmatch('prognosisstudy',str_study_type[i]):\n",
        "    str_study_type[i] = 'Prognosis Study'\n",
        "\n",
        "for i in range(len(str_study_type)):\n",
        "  if re.fullmatch('treatmentstudy',str_study_type[i]):\n",
        "    str_study_type[i] = 'Treatment Study'\n",
        "\n",
        "for i in range(len(str_study_type)):\n",
        "  if re.fullmatch('epidemilogicalresearch',str_study_type[i]):\n",
        "    str_study_type[i] = 'Epidemiological Research'\n",
        "\n",
        "for i in range(len(str_study_type)):\n",
        "  if re.fullmatch('healthservicesreaserch',str_study_type[i]) or re.fullmatch('healthservicesresearch',str_study_type[i]):\n",
        "    str_study_type[i] = 'Health Services Research'\n",
        "\n",
        "for i in range(len(str_study_type)):\n",
        "  if re.fullmatch('screening',str_study_type[i]):\n",
        "    str_study_type[i] = 'Screening Research'\n",
        "\n",
        "for i in range(len(str_study_type)):\n",
        "  if re.fullmatch('expandedaccess',str_study_type[i]):\n",
        "    str_study_type[i] = 'Expanded Accces Study'\n",
        "\n",
        "for i in range(len(str_study_type)):\n",
        "  if re.fullmatch('pms',str_study_type[i]):\n",
        "    str_study_type[i] = 'PMS Research'\n",
        "\n",
        "for i in range(len(str_study_type)):\n",
        "  if re.fullmatch('basicscience',str_study_type[i]):\n",
        "    str_study_type[i] = 'Basic Science Research'\n",
        "\n",
        "for i in range(len(str_study_type)):\n",
        "  if re.fullmatch('nan',str_study_type[i]) or re.fullmatch('other',str_study_type[i]) or re.fullmatch('othersmeta-analysisetc',str_study_type[i]) or re.fullmatch('unknown',str_study_type[i]):\n",
        "    str_study_type[i] = 'Not Specified'"
      ],
      "metadata": {
        "id": "rNKB7IC9Gh5y"
      },
      "execution_count": null,
      "outputs": []
    },
    {
      "cell_type": "code",
      "source": [
        "df['STUDY_TYPE_CLEAN'] = str_study_type"
      ],
      "metadata": {
        "id": "wUTwH9QsGiA3"
      },
      "execution_count": null,
      "outputs": []
    },
    {
      "cell_type": "code",
      "source": [
        "df"
      ],
      "metadata": {
        "colab": {
          "base_uri": "https://localhost:8080/",
          "height": 1000
        },
        "id": "jsYzbmdtGiDM",
        "outputId": "70d1c0fc-2003-410f-a25c-7e066076f405"
      },
      "execution_count": null,
      "outputs": [
        {
          "output_type": "execute_result",
          "data": {
            "text/plain": [
              "          ID               TRIALID LAST REFRESHED ON  \\\n",
              "0          1           NCT00173563  19 February 2015   \n",
              "1          2           NCT00523276  19 February 2015   \n",
              "2          3           NCT00533741  19 February 2015   \n",
              "3          4           NCT01376765  19 February 2015   \n",
              "4          5  IRCT20180223038837N1   14 January 2019   \n",
              "...      ...                   ...               ...   \n",
              "14680  14681    JPRN-UMIN000047920       6 July 2022   \n",
              "14681  14682    JPRN-UMIN000047947       6 July 2022   \n",
              "14682  14683    JPRN-UMIN000047978       6 July 2022   \n",
              "14683  14684    JPRN-UMIN000048027       6 July 2022   \n",
              "14684  14685    JPRN-UMIN000048028       6 July 2022   \n",
              "\n",
              "                                            PUBLIC TITLE  \\\n",
              "0      Induction of Cytokines in Human Monocytes by S...   \n",
              "1                              SARS Survivor Evaluations   \n",
              "2                    SARS Coronavirus Vaccine (SARS-CoV)   \n",
              "3      Phase I Dose Escalation SARS-CoV Recombinant S...   \n",
              "4      Comparative study of radiofrequency ablation &...   \n",
              "...                                                  ...   \n",
              "14680  Immune persistence and safety survey (cohort s...   \n",
              "14681  Leading to a satisfying delivery experience fo...   \n",
              "14682  Study of COVID-19-related thromboembolism and ...   \n",
              "14683  Clinical Study Report of\\nSARS-CoV-2 Antigen R...   \n",
              "14684  SARS-CoV-2 Antigen Rapid Test (nasal swab)\\nIN...   \n",
              "\n",
              "                                        SCIENTIFIC TITLE ACRONYM  \\\n",
              "0      Induction of Cytokines in Human Monocytes by S...     NaN   \n",
              "1      Immune Responses, Transmission and Nucleotide ...     NaN   \n",
              "2      Phase I, Double-Blinded, Placebo-Controlled Do...     NaN   \n",
              "3      Phase I, Double-Blinded, Placebo-Controlled, D...     NaN   \n",
              "4      Comparative study of radiofrequency ablation &...     NaN   \n",
              "...                                                  ...     ...   \n",
              "14680  Immune persistence and safety survey (cohort s...     NaN   \n",
              "14681  Leading to a satisfying delivery experience fo...     NaN   \n",
              "14682  Study of COVID-19-related thromboembolism and ...     NaN   \n",
              "14683  SARS-CoV-2 Antigen Rapid Test \\n(nasopharyngea...     NaN   \n",
              "14684  SARS-CoV-2 Antigen Rapid Test (nasal swab)\\nIN...     NaN   \n",
              "\n",
              "                                         PRIMARY SPONSOR DATE REGISTRATION  \\\n",
              "0                    National Taiwan University Hospital        12/09/2005   \n",
              "1      National Institute of Allergy and Infectious D...        30/08/2007   \n",
              "2      National Institute of Allergy and Infectious D...        20/09/2007   \n",
              "3      National Institute of Allergy and Infectious D...        16/06/2011   \n",
              "4              Kermanshah University of Medical Sciences        2018-12-08   \n",
              "...                                                  ...               ...   \n",
              "14680            Juntendo University, School of Medicine        01/06/2022   \n",
              "14681  Osaka Medical and Pharmaceutical University\\nT...        04/06/2022   \n",
              "14682  Nihon University Itabashi  Hospital\\nDepartmen...        07/06/2022   \n",
              "14683                  Hangzhou AllTest Biotech Co., Ltd        10/06/2022   \n",
              "14684                  Hangzhou AllTest Biotech Co., Ltd        10/06/2022   \n",
              "\n",
              "       DATE REGISTRATION3           EXPORT DATE  ... RESULTS DATE POSTED  \\\n",
              "0                20050912  7/7/2022 10:12:07 AM  ...                 NaN   \n",
              "1                20070830  7/7/2022 10:12:07 AM  ...                 NaN   \n",
              "2                20070920  7/7/2022 10:12:07 AM  ...                 NaN   \n",
              "3                20110616  7/7/2022 10:12:07 AM  ...                 NaN   \n",
              "4                20181208  7/7/2022 10:12:07 AM  ...                 NaN   \n",
              "...                   ...                   ...  ...                 ...   \n",
              "14680            20220601  7/7/2022 10:12:07 AM  ...                 NaN   \n",
              "14681            20220604  7/7/2022 10:12:07 AM  ...                 NaN   \n",
              "14682            20220607  7/7/2022 10:12:07 AM  ...                 NaN   \n",
              "14683            20220610  7/7/2022 10:12:07 AM  ...                 NaN   \n",
              "14684            20220610  7/7/2022 10:12:07 AM  ...                 NaN   \n",
              "\n",
              "      RESULTS DATE COMPLETED RESULTS URL LINK RETROSPECTIVE FLAG  \\\n",
              "0                        NaN              NaN                Yes   \n",
              "1                        NaN              NaN                 No   \n",
              "2                        NaN              NaN                Yes   \n",
              "3                        NaN              NaN                Yes   \n",
              "4                        NaN              NaN                 No   \n",
              "...                      ...              ...                ...   \n",
              "14680             30/09/2023              NaN                 No   \n",
              "14681             31/03/2024              NaN                Yes   \n",
              "14682             01/03/2023              NaN                 No   \n",
              "14683             31/08/2022              NaN                 No   \n",
              "14684             31/08/2022              NaN                 No   \n",
              "\n",
              "      BRIDGING FLAG TRUEFALSE BRIDGED TYPE RESULTS YES NO  \\\n",
              "0                       False                         NaN   \n",
              "1                       False                         NaN   \n",
              "2                       False                         NaN   \n",
              "3                       False                         NaN   \n",
              "4                       False                         NaN   \n",
              "...                       ...          ...            ...   \n",
              "14680                   False                         NaN   \n",
              "14681                   False                         NaN   \n",
              "14682                   False                         NaN   \n",
              "14683                   False                         NaN   \n",
              "14684                   False                         NaN   \n",
              "\n",
              "                              COUNTRIES_CLEAN GENDER_CLEAN  \\\n",
              "0                      [Syrian Arab Republic]         Both   \n",
              "1                                     [Chile]         Both   \n",
              "2      [United States Minor Outlying Islands]         Both   \n",
              "3      [United States Minor Outlying Islands]         Both   \n",
              "4                                 [Indonesia]         Both   \n",
              "...                                       ...          ...   \n",
              "14680                               [Jamaica]         Both   \n",
              "14681                               [Jamaica]         Both   \n",
              "14682                               [Jamaica]         Both   \n",
              "14683                               [Jamaica]         Both   \n",
              "14684                               [Jamaica]         Both   \n",
              "\n",
              "           STUDY_TYPE_CLEAN  \n",
              "0       Observational Study  \n",
              "1       Observational Study  \n",
              "2      Interventional Study  \n",
              "3      Interventional Study  \n",
              "4      Interventional Study  \n",
              "...                     ...  \n",
              "14680   Observational Study  \n",
              "14681  Interventional Study  \n",
              "14682   Observational Study  \n",
              "14683   Observational Study  \n",
              "14684   Observational Study  \n",
              "\n",
              "[14685 rows x 44 columns]"
            ],
            "text/html": [
              "\n",
              "  <div id=\"df-6d00a60f-16f7-4c6e-84ff-47554df81129\">\n",
              "    <div class=\"colab-df-container\">\n",
              "      <div>\n",
              "<style scoped>\n",
              "    .dataframe tbody tr th:only-of-type {\n",
              "        vertical-align: middle;\n",
              "    }\n",
              "\n",
              "    .dataframe tbody tr th {\n",
              "        vertical-align: top;\n",
              "    }\n",
              "\n",
              "    .dataframe thead th {\n",
              "        text-align: right;\n",
              "    }\n",
              "</style>\n",
              "<table border=\"1\" class=\"dataframe\">\n",
              "  <thead>\n",
              "    <tr style=\"text-align: right;\">\n",
              "      <th></th>\n",
              "      <th>ID</th>\n",
              "      <th>TRIALID</th>\n",
              "      <th>LAST REFRESHED ON</th>\n",
              "      <th>PUBLIC TITLE</th>\n",
              "      <th>SCIENTIFIC TITLE</th>\n",
              "      <th>ACRONYM</th>\n",
              "      <th>PRIMARY SPONSOR</th>\n",
              "      <th>DATE REGISTRATION</th>\n",
              "      <th>DATE REGISTRATION3</th>\n",
              "      <th>EXPORT DATE</th>\n",
              "      <th>...</th>\n",
              "      <th>RESULTS DATE POSTED</th>\n",
              "      <th>RESULTS DATE COMPLETED</th>\n",
              "      <th>RESULTS URL LINK</th>\n",
              "      <th>RETROSPECTIVE FLAG</th>\n",
              "      <th>BRIDGING FLAG TRUEFALSE</th>\n",
              "      <th>BRIDGED TYPE</th>\n",
              "      <th>RESULTS YES NO</th>\n",
              "      <th>COUNTRIES_CLEAN</th>\n",
              "      <th>GENDER_CLEAN</th>\n",
              "      <th>STUDY_TYPE_CLEAN</th>\n",
              "    </tr>\n",
              "  </thead>\n",
              "  <tbody>\n",
              "    <tr>\n",
              "      <th>0</th>\n",
              "      <td>1</td>\n",
              "      <td>NCT00173563</td>\n",
              "      <td>19 February 2015</td>\n",
              "      <td>Induction of Cytokines in Human Monocytes by S...</td>\n",
              "      <td>Induction of Cytokines in Human Monocytes by S...</td>\n",
              "      <td>NaN</td>\n",
              "      <td>National Taiwan University Hospital</td>\n",
              "      <td>12/09/2005</td>\n",
              "      <td>20050912</td>\n",
              "      <td>7/7/2022 10:12:07 AM</td>\n",
              "      <td>...</td>\n",
              "      <td>NaN</td>\n",
              "      <td>NaN</td>\n",
              "      <td>NaN</td>\n",
              "      <td>Yes</td>\n",
              "      <td>False</td>\n",
              "      <td></td>\n",
              "      <td>NaN</td>\n",
              "      <td>[Syrian Arab Republic]</td>\n",
              "      <td>Both</td>\n",
              "      <td>Observational Study</td>\n",
              "    </tr>\n",
              "    <tr>\n",
              "      <th>1</th>\n",
              "      <td>2</td>\n",
              "      <td>NCT00523276</td>\n",
              "      <td>19 February 2015</td>\n",
              "      <td>SARS Survivor Evaluations</td>\n",
              "      <td>Immune Responses, Transmission and Nucleotide ...</td>\n",
              "      <td>NaN</td>\n",
              "      <td>National Institute of Allergy and Infectious D...</td>\n",
              "      <td>30/08/2007</td>\n",
              "      <td>20070830</td>\n",
              "      <td>7/7/2022 10:12:07 AM</td>\n",
              "      <td>...</td>\n",
              "      <td>NaN</td>\n",
              "      <td>NaN</td>\n",
              "      <td>NaN</td>\n",
              "      <td>No</td>\n",
              "      <td>False</td>\n",
              "      <td></td>\n",
              "      <td>NaN</td>\n",
              "      <td>[Chile]</td>\n",
              "      <td>Both</td>\n",
              "      <td>Observational Study</td>\n",
              "    </tr>\n",
              "    <tr>\n",
              "      <th>2</th>\n",
              "      <td>3</td>\n",
              "      <td>NCT00533741</td>\n",
              "      <td>19 February 2015</td>\n",
              "      <td>SARS Coronavirus Vaccine (SARS-CoV)</td>\n",
              "      <td>Phase I, Double-Blinded, Placebo-Controlled Do...</td>\n",
              "      <td>NaN</td>\n",
              "      <td>National Institute of Allergy and Infectious D...</td>\n",
              "      <td>20/09/2007</td>\n",
              "      <td>20070920</td>\n",
              "      <td>7/7/2022 10:12:07 AM</td>\n",
              "      <td>...</td>\n",
              "      <td>NaN</td>\n",
              "      <td>NaN</td>\n",
              "      <td>NaN</td>\n",
              "      <td>Yes</td>\n",
              "      <td>False</td>\n",
              "      <td></td>\n",
              "      <td>NaN</td>\n",
              "      <td>[United States Minor Outlying Islands]</td>\n",
              "      <td>Both</td>\n",
              "      <td>Interventional Study</td>\n",
              "    </tr>\n",
              "    <tr>\n",
              "      <th>3</th>\n",
              "      <td>4</td>\n",
              "      <td>NCT01376765</td>\n",
              "      <td>19 February 2015</td>\n",
              "      <td>Phase I Dose Escalation SARS-CoV Recombinant S...</td>\n",
              "      <td>Phase I, Double-Blinded, Placebo-Controlled, D...</td>\n",
              "      <td>NaN</td>\n",
              "      <td>National Institute of Allergy and Infectious D...</td>\n",
              "      <td>16/06/2011</td>\n",
              "      <td>20110616</td>\n",
              "      <td>7/7/2022 10:12:07 AM</td>\n",
              "      <td>...</td>\n",
              "      <td>NaN</td>\n",
              "      <td>NaN</td>\n",
              "      <td>NaN</td>\n",
              "      <td>Yes</td>\n",
              "      <td>False</td>\n",
              "      <td></td>\n",
              "      <td>NaN</td>\n",
              "      <td>[United States Minor Outlying Islands]</td>\n",
              "      <td>Both</td>\n",
              "      <td>Interventional Study</td>\n",
              "    </tr>\n",
              "    <tr>\n",
              "      <th>4</th>\n",
              "      <td>5</td>\n",
              "      <td>IRCT20180223038837N1</td>\n",
              "      <td>14 January 2019</td>\n",
              "      <td>Comparative study of radiofrequency ablation &amp;...</td>\n",
              "      <td>Comparative study of radiofrequency ablation &amp;...</td>\n",
              "      <td>NaN</td>\n",
              "      <td>Kermanshah University of Medical Sciences</td>\n",
              "      <td>2018-12-08</td>\n",
              "      <td>20181208</td>\n",
              "      <td>7/7/2022 10:12:07 AM</td>\n",
              "      <td>...</td>\n",
              "      <td>NaN</td>\n",
              "      <td>NaN</td>\n",
              "      <td>NaN</td>\n",
              "      <td>No</td>\n",
              "      <td>False</td>\n",
              "      <td></td>\n",
              "      <td>NaN</td>\n",
              "      <td>[Indonesia]</td>\n",
              "      <td>Both</td>\n",
              "      <td>Interventional Study</td>\n",
              "    </tr>\n",
              "    <tr>\n",
              "      <th>...</th>\n",
              "      <td>...</td>\n",
              "      <td>...</td>\n",
              "      <td>...</td>\n",
              "      <td>...</td>\n",
              "      <td>...</td>\n",
              "      <td>...</td>\n",
              "      <td>...</td>\n",
              "      <td>...</td>\n",
              "      <td>...</td>\n",
              "      <td>...</td>\n",
              "      <td>...</td>\n",
              "      <td>...</td>\n",
              "      <td>...</td>\n",
              "      <td>...</td>\n",
              "      <td>...</td>\n",
              "      <td>...</td>\n",
              "      <td>...</td>\n",
              "      <td>...</td>\n",
              "      <td>...</td>\n",
              "      <td>...</td>\n",
              "      <td>...</td>\n",
              "    </tr>\n",
              "    <tr>\n",
              "      <th>14680</th>\n",
              "      <td>14681</td>\n",
              "      <td>JPRN-UMIN000047920</td>\n",
              "      <td>6 July 2022</td>\n",
              "      <td>Immune persistence and safety survey (cohort s...</td>\n",
              "      <td>Immune persistence and safety survey (cohort s...</td>\n",
              "      <td>NaN</td>\n",
              "      <td>Juntendo University, School of Medicine</td>\n",
              "      <td>01/06/2022</td>\n",
              "      <td>20220601</td>\n",
              "      <td>7/7/2022 10:12:07 AM</td>\n",
              "      <td>...</td>\n",
              "      <td>NaN</td>\n",
              "      <td>30/09/2023</td>\n",
              "      <td>NaN</td>\n",
              "      <td>No</td>\n",
              "      <td>False</td>\n",
              "      <td></td>\n",
              "      <td>NaN</td>\n",
              "      <td>[Jamaica]</td>\n",
              "      <td>Both</td>\n",
              "      <td>Observational Study</td>\n",
              "    </tr>\n",
              "    <tr>\n",
              "      <th>14681</th>\n",
              "      <td>14682</td>\n",
              "      <td>JPRN-UMIN000047947</td>\n",
              "      <td>6 July 2022</td>\n",
              "      <td>Leading to a satisfying delivery experience fo...</td>\n",
              "      <td>Leading to a satisfying delivery experience fo...</td>\n",
              "      <td>NaN</td>\n",
              "      <td>Osaka Medical and Pharmaceutical University\\nT...</td>\n",
              "      <td>04/06/2022</td>\n",
              "      <td>20220604</td>\n",
              "      <td>7/7/2022 10:12:07 AM</td>\n",
              "      <td>...</td>\n",
              "      <td>NaN</td>\n",
              "      <td>31/03/2024</td>\n",
              "      <td>NaN</td>\n",
              "      <td>Yes</td>\n",
              "      <td>False</td>\n",
              "      <td></td>\n",
              "      <td>NaN</td>\n",
              "      <td>[Jamaica]</td>\n",
              "      <td>Both</td>\n",
              "      <td>Interventional Study</td>\n",
              "    </tr>\n",
              "    <tr>\n",
              "      <th>14682</th>\n",
              "      <td>14683</td>\n",
              "      <td>JPRN-UMIN000047978</td>\n",
              "      <td>6 July 2022</td>\n",
              "      <td>Study of COVID-19-related thromboembolism and ...</td>\n",
              "      <td>Study of COVID-19-related thromboembolism and ...</td>\n",
              "      <td>NaN</td>\n",
              "      <td>Nihon University Itabashi  Hospital\\nDepartmen...</td>\n",
              "      <td>07/06/2022</td>\n",
              "      <td>20220607</td>\n",
              "      <td>7/7/2022 10:12:07 AM</td>\n",
              "      <td>...</td>\n",
              "      <td>NaN</td>\n",
              "      <td>01/03/2023</td>\n",
              "      <td>NaN</td>\n",
              "      <td>No</td>\n",
              "      <td>False</td>\n",
              "      <td></td>\n",
              "      <td>NaN</td>\n",
              "      <td>[Jamaica]</td>\n",
              "      <td>Both</td>\n",
              "      <td>Observational Study</td>\n",
              "    </tr>\n",
              "    <tr>\n",
              "      <th>14683</th>\n",
              "      <td>14684</td>\n",
              "      <td>JPRN-UMIN000048027</td>\n",
              "      <td>6 July 2022</td>\n",
              "      <td>Clinical Study Report of\\nSARS-CoV-2 Antigen R...</td>\n",
              "      <td>SARS-CoV-2 Antigen Rapid Test \\n(nasopharyngea...</td>\n",
              "      <td>NaN</td>\n",
              "      <td>Hangzhou AllTest Biotech Co., Ltd</td>\n",
              "      <td>10/06/2022</td>\n",
              "      <td>20220610</td>\n",
              "      <td>7/7/2022 10:12:07 AM</td>\n",
              "      <td>...</td>\n",
              "      <td>NaN</td>\n",
              "      <td>31/08/2022</td>\n",
              "      <td>NaN</td>\n",
              "      <td>No</td>\n",
              "      <td>False</td>\n",
              "      <td></td>\n",
              "      <td>NaN</td>\n",
              "      <td>[Jamaica]</td>\n",
              "      <td>Both</td>\n",
              "      <td>Observational Study</td>\n",
              "    </tr>\n",
              "    <tr>\n",
              "      <th>14684</th>\n",
              "      <td>14685</td>\n",
              "      <td>JPRN-UMIN000048028</td>\n",
              "      <td>6 July 2022</td>\n",
              "      <td>SARS-CoV-2 Antigen Rapid Test (nasal swab)\\nIN...</td>\n",
              "      <td>SARS-CoV-2 Antigen Rapid Test (nasal swab)\\nIN...</td>\n",
              "      <td>NaN</td>\n",
              "      <td>Hangzhou AllTest Biotech Co., Ltd</td>\n",
              "      <td>10/06/2022</td>\n",
              "      <td>20220610</td>\n",
              "      <td>7/7/2022 10:12:07 AM</td>\n",
              "      <td>...</td>\n",
              "      <td>NaN</td>\n",
              "      <td>31/08/2022</td>\n",
              "      <td>NaN</td>\n",
              "      <td>No</td>\n",
              "      <td>False</td>\n",
              "      <td></td>\n",
              "      <td>NaN</td>\n",
              "      <td>[Jamaica]</td>\n",
              "      <td>Both</td>\n",
              "      <td>Observational Study</td>\n",
              "    </tr>\n",
              "  </tbody>\n",
              "</table>\n",
              "<p>14685 rows × 44 columns</p>\n",
              "</div>\n",
              "      <button class=\"colab-df-convert\" onclick=\"convertToInteractive('df-6d00a60f-16f7-4c6e-84ff-47554df81129')\"\n",
              "              title=\"Convert this dataframe to an interactive table.\"\n",
              "              style=\"display:none;\">\n",
              "        \n",
              "  <svg xmlns=\"http://www.w3.org/2000/svg\" height=\"24px\"viewBox=\"0 0 24 24\"\n",
              "       width=\"24px\">\n",
              "    <path d=\"M0 0h24v24H0V0z\" fill=\"none\"/>\n",
              "    <path d=\"M18.56 5.44l.94 2.06.94-2.06 2.06-.94-2.06-.94-.94-2.06-.94 2.06-2.06.94zm-11 1L8.5 8.5l.94-2.06 2.06-.94-2.06-.94L8.5 2.5l-.94 2.06-2.06.94zm10 10l.94 2.06.94-2.06 2.06-.94-2.06-.94-.94-2.06-.94 2.06-2.06.94z\"/><path d=\"M17.41 7.96l-1.37-1.37c-.4-.4-.92-.59-1.43-.59-.52 0-1.04.2-1.43.59L10.3 9.45l-7.72 7.72c-.78.78-.78 2.05 0 2.83L4 21.41c.39.39.9.59 1.41.59.51 0 1.02-.2 1.41-.59l7.78-7.78 2.81-2.81c.8-.78.8-2.07 0-2.86zM5.41 20L4 18.59l7.72-7.72 1.47 1.35L5.41 20z\"/>\n",
              "  </svg>\n",
              "      </button>\n",
              "      \n",
              "  <style>\n",
              "    .colab-df-container {\n",
              "      display:flex;\n",
              "      flex-wrap:wrap;\n",
              "      gap: 12px;\n",
              "    }\n",
              "\n",
              "    .colab-df-convert {\n",
              "      background-color: #E8F0FE;\n",
              "      border: none;\n",
              "      border-radius: 50%;\n",
              "      cursor: pointer;\n",
              "      display: none;\n",
              "      fill: #1967D2;\n",
              "      height: 32px;\n",
              "      padding: 0 0 0 0;\n",
              "      width: 32px;\n",
              "    }\n",
              "\n",
              "    .colab-df-convert:hover {\n",
              "      background-color: #E2EBFA;\n",
              "      box-shadow: 0px 1px 2px rgba(60, 64, 67, 0.3), 0px 1px 3px 1px rgba(60, 64, 67, 0.15);\n",
              "      fill: #174EA6;\n",
              "    }\n",
              "\n",
              "    [theme=dark] .colab-df-convert {\n",
              "      background-color: #3B4455;\n",
              "      fill: #D2E3FC;\n",
              "    }\n",
              "\n",
              "    [theme=dark] .colab-df-convert:hover {\n",
              "      background-color: #434B5C;\n",
              "      box-shadow: 0px 1px 3px 1px rgba(0, 0, 0, 0.15);\n",
              "      filter: drop-shadow(0px 1px 2px rgba(0, 0, 0, 0.3));\n",
              "      fill: #FFFFFF;\n",
              "    }\n",
              "  </style>\n",
              "\n",
              "      <script>\n",
              "        const buttonEl =\n",
              "          document.querySelector('#df-6d00a60f-16f7-4c6e-84ff-47554df81129 button.colab-df-convert');\n",
              "        buttonEl.style.display =\n",
              "          google.colab.kernel.accessAllowed ? 'block' : 'none';\n",
              "\n",
              "        async function convertToInteractive(key) {\n",
              "          const element = document.querySelector('#df-6d00a60f-16f7-4c6e-84ff-47554df81129');\n",
              "          const dataTable =\n",
              "            await google.colab.kernel.invokeFunction('convertToInteractive',\n",
              "                                                     [key], {});\n",
              "          if (!dataTable) return;\n",
              "\n",
              "          const docLinkHtml = 'Like what you see? Visit the ' +\n",
              "            '<a target=\"_blank\" href=https://colab.research.google.com/notebooks/data_table.ipynb>data table notebook</a>'\n",
              "            + ' to learn more about interactive tables.';\n",
              "          element.innerHTML = '';\n",
              "          dataTable['output_type'] = 'display_data';\n",
              "          await google.colab.output.renderOutput(dataTable, element);\n",
              "          const docLink = document.createElement('div');\n",
              "          docLink.innerHTML = docLinkHtml;\n",
              "          element.appendChild(docLink);\n",
              "        }\n",
              "      </script>\n",
              "    </div>\n",
              "  </div>\n",
              "  "
            ]
          },
          "metadata": {},
          "execution_count": 51
        }
      ]
    },
    {
      "cell_type": "markdown",
      "source": [
        "# Inlcusion Age Exploration"
      ],
      "metadata": {
        "id": "sIwVuwrPJ0kD"
      }
    },
    {
      "cell_type": "code",
      "source": [
        "def searchnum(x):\n",
        "  x = str(x)\n",
        "  y = re.search(r'\\d+', x)\n",
        "  if y == None:\n",
        "    y = NaN\n",
        "  else:\n",
        "    y = y.group()\n",
        "  return y"
      ],
      "metadata": {
        "id": "gri_sojHKCvQ"
      },
      "execution_count": null,
      "outputs": []
    },
    {
      "cell_type": "code",
      "source": [
        "def searchunit(x):\n",
        "  x = str(x).lower().replace(\" \",\"\")\n",
        "  x = x.replace(\"-\",\"\")\n",
        "  x = x.replace(\"(\",\"\")\n",
        "  x = x.replace(\")\",\"\")\n",
        "  x = x.replace(\"?\",\"\")\n",
        "  if (\"years\" in x) or (\"year\" in x) or (\"y\" in x) or (\"ageold\" in x) or (len(x) <= 2):\n",
        "    x = \"years\"\n",
        "  elif (\"months\" in x) or (\"month\" in x) or (\"m\" in x):\n",
        "    x = \"months\"\n",
        "  elif (\"days\" in x) or (\"day\" in x):\n",
        "    x = \"days\"\n",
        "  elif (\"weeks\" in x) or (\"week\" in x):\n",
        "    x = \"weeks\"\n",
        "  else:\n",
        "    x = \"not specified\"\n",
        "  return x"
      ],
      "metadata": {
        "id": "38gkbwvfKCxi"
      },
      "execution_count": null,
      "outputs": []
    },
    {
      "cell_type": "markdown",
      "source": [
        "## Unique Values Obtention"
      ],
      "metadata": {
        "id": "CiWF6lt-uwl-"
      }
    },
    {
      "cell_type": "code",
      "source": [
        "df['INCLUSION_AGEMIN_NUMBER'] = df['INCLUSION AGEMIN'].apply(lambda x: searchnum(x))\n",
        "df['INCLUSION_AGEMAX_NUMBER'] = df['INCLUSION AGEMAX'].apply(lambda x: searchnum(x))\n",
        "df['INCLUSION_AGEMIN_UNIT'] =  df['INCLUSION AGEMIN'].apply(lambda x: searchunit(x))\n",
        "df['INCLUSION_AGEMAX_UNIT'] =  df['INCLUSION AGEMAX'].apply(lambda x: searchunit(x))"
      ],
      "metadata": {
        "id": "f7E6haY6nXWd"
      },
      "execution_count": null,
      "outputs": []
    },
    {
      "cell_type": "markdown",
      "source": [
        "# Target Size Exploration"
      ],
      "metadata": {
        "id": "M3lsEYfRLz1X"
      }
    },
    {
      "cell_type": "code",
      "source": [
        "def sumnum(x):\n",
        "  mynumlist = [i for i in x if i.isdigit()]\n",
        "  mynumlist = list(map(int, mynumlist))\n",
        "  return sum(mynumlist)"
      ],
      "metadata": {
        "id": "1POv9pMHKC1n"
      },
      "execution_count": null,
      "outputs": []
    },
    {
      "cell_type": "markdown",
      "source": [
        "## Unique Values Obtention"
      ],
      "metadata": {
        "id": "NmxK6CWCMgG2"
      }
    },
    {
      "cell_type": "code",
      "source": [
        "df['TARGET_SIZE_CLEAN'] = df['TARGET SIZE'].astype(str).apply(lambda x: x.replace(\":\",\";\")).apply(lambda x: x.split(sep=\";\"))\n",
        "df['TARGET_SIZE_CLEAN'] = df['TARGET_SIZE_CLEAN'].apply(lambda x: sumnum(x))"
      ],
      "metadata": {
        "id": "PJRNAO7RwdGt"
      },
      "execution_count": null,
      "outputs": []
    },
    {
      "cell_type": "markdown",
      "source": [
        "# Recruitment Status Exploration"
      ],
      "metadata": {
        "id": "SzY3jxnZ-13R"
      }
    },
    {
      "cell_type": "code",
      "source": [
        "str_recruitment_status = df['RECRUITMENT STATUS'].apply(lambda x: str(x).lower().replace('<br>', '').replace(' ', '').replace(':','').replace(',',''))\n",
        "str_recruitment_status"
      ],
      "metadata": {
        "colab": {
          "base_uri": "https://localhost:8080/"
        },
        "id": "ORIOBSsOAUWg",
        "outputId": "6646d162-1735-4ecf-83ae-c0e2eb4ef44c"
      },
      "execution_count": null,
      "outputs": [
        {
          "output_type": "execute_result",
          "data": {
            "text/plain": [
              "0           recruiting\n",
              "1        notrecruiting\n",
              "2        notrecruiting\n",
              "3        notrecruiting\n",
              "4           recruiting\n",
              "             ...      \n",
              "14680       recruiting\n",
              "14681    notrecruiting\n",
              "14682       recruiting\n",
              "14683       recruiting\n",
              "14684       recruiting\n",
              "Name: RECRUITMENT STATUS, Length: 14685, dtype: object"
            ]
          },
          "metadata": {},
          "execution_count": 57
        }
      ]
    },
    {
      "cell_type": "code",
      "source": [
        "recruiting = ['recruiting', 'authorised']\n",
        "not_recruiting = ['notrecruiting']\n",
        "not_specified = ['nan', 'notavailable'] #'Not Specified'"
      ],
      "metadata": {
        "id": "qud7EynQBFC-"
      },
      "execution_count": null,
      "outputs": []
    },
    {
      "cell_type": "code",
      "source": [
        "str_recruitment_status = list(str_recruitment_status)"
      ],
      "metadata": {
        "id": "4UawT3Hw_23D"
      },
      "execution_count": null,
      "outputs": []
    },
    {
      "cell_type": "code",
      "source": [
        "for i in range(len(str_recruitment_status)):\n",
        "  if re.fullmatch('recruiting',str_recruitment_status[i]) or re.fullmatch('authorised', str_recruitment_status[i]):\n",
        "    str_recruitment_status[i] = 'Recruiting'\n",
        "\n",
        "for i in range(len(str_recruitment_status)):\n",
        "  if re.fullmatch('notrecruiting',str_recruitment_status[i]):\n",
        "    str_recruitment_status[i] = 'Not Recruiting'\n",
        "\n",
        "for i in range(len(str_recruitment_status)):\n",
        "  if re.fullmatch('nan',str_recruitment_status[i]) or re.fullmatch('notavailable',str_recruitment_status[i]):\n",
        "    str_recruitment_status[i] = 'Not Specified'"
      ],
      "metadata": {
        "id": "wLp3x0vy_r-T"
      },
      "execution_count": null,
      "outputs": []
    },
    {
      "cell_type": "code",
      "source": [
        "df['RECRUITMENT STATUS'] = str_recruitment_status"
      ],
      "metadata": {
        "id": "7_9dyKc7CfAK"
      },
      "execution_count": null,
      "outputs": []
    },
    {
      "cell_type": "code",
      "source": [
        "df['RECRUITMENT STATUS'].unique()"
      ],
      "metadata": {
        "colab": {
          "base_uri": "https://localhost:8080/"
        },
        "id": "1sgDJPUcCrWC",
        "outputId": "5e7de781-cef4-41f3-d673-beab32273049"
      },
      "execution_count": null,
      "outputs": [
        {
          "output_type": "execute_result",
          "data": {
            "text/plain": [
              "array(['Recruiting', 'Not Recruiting', 'Not Specified'], dtype=object)"
            ]
          },
          "metadata": {},
          "execution_count": 62
        }
      ]
    },
    {
      "cell_type": "markdown",
      "source": [
        "# Bridged Type Exploration"
      ],
      "metadata": {
        "id": "VBPAbHfk-2xq"
      }
    },
    {
      "cell_type": "code",
      "source": [
        "str_bridged_status = df['BRIDGED TYPE'].apply(lambda x: str(x).lower().replace('<br>', '').replace(' ', '').replace(':','').replace(',',''))"
      ],
      "metadata": {
        "id": "uPj8kKNpCx9W"
      },
      "execution_count": null,
      "outputs": []
    },
    {
      "cell_type": "code",
      "source": [
        "str_bridged_status.unique()"
      ],
      "metadata": {
        "colab": {
          "base_uri": "https://localhost:8080/"
        },
        "id": "4AKnyoQgDT3k",
        "outputId": "b2431370-07b1-492c-9dfe-fe5c5b7c8d69"
      },
      "execution_count": null,
      "outputs": [
        {
          "output_type": "execute_result",
          "data": {
            "text/plain": [
              "array(['', 'parent', 'child'], dtype=object)"
            ]
          },
          "metadata": {},
          "execution_count": 64
        }
      ]
    },
    {
      "cell_type": "markdown",
      "source": [
        "## Obtaining Unique Values"
      ],
      "metadata": {
        "id": "rpW_Y2cJfTos"
      }
    },
    {
      "cell_type": "code",
      "source": [
        "for i in range(len(str_bridged_status)):\n",
        "  if re.fullmatch('',str_bridged_status[i]):\n",
        "    str_bridged_status[i] = 'Not Specified'\n",
        "\n",
        "for i in range(len(str_bridged_status)):\n",
        "  if re.fullmatch('parent',str_bridged_status[i]):\n",
        "    str_bridged_status[i] = 'Parent'\n",
        "\n",
        "for i in range(len(str_bridged_status)):\n",
        "  if re.fullmatch('child',str_bridged_status[i]):\n",
        "    str_bridged_status[i] = 'Child'"
      ],
      "metadata": {
        "id": "7LvPMABvC3Vt"
      },
      "execution_count": null,
      "outputs": []
    },
    {
      "cell_type": "code",
      "source": [
        "df['BRIDGED TYPE'] = str_bridged_status"
      ],
      "metadata": {
        "id": "r6TcXiEVbMzV"
      },
      "execution_count": null,
      "outputs": []
    },
    {
      "cell_type": "markdown",
      "source": [
        "# Results Yes No Exploration"
      ],
      "metadata": {
        "id": "gD_MaKYu_K3W"
      }
    },
    {
      "cell_type": "markdown",
      "source": [
        "## Obtaininig Unique Values"
      ],
      "metadata": {
        "id": "pFjDwNWkfagP"
      }
    },
    {
      "cell_type": "code",
      "source": [
        "df['RESULTS YES NO'] = df['RESULTS YES NO'].fillna('No')"
      ],
      "metadata": {
        "id": "ON2dh2hPHtDI"
      },
      "execution_count": null,
      "outputs": []
    },
    {
      "cell_type": "markdown",
      "source": [
        "# Phase Exploration"
      ],
      "metadata": {
        "id": "BSJQCplgHopc"
      }
    },
    {
      "cell_type": "markdown",
      "source": [
        "## Obtaining Unique Values"
      ],
      "metadata": {
        "id": "0F8imestffNn"
      }
    },
    {
      "cell_type": "code",
      "source": [
        "df['PHASE'].unique()"
      ],
      "metadata": {
        "colab": {
          "base_uri": "https://localhost:8080/"
        },
        "id": "dLnsd--oHB6n",
        "outputId": "a413d8bb-301e-45fc-d16a-722f2a336250"
      },
      "execution_count": null,
      "outputs": [
        {
          "output_type": "execute_result",
          "data": {
            "text/plain": [
              "array([nan, 'Phase 1', 'Phase 4', 'Retrospective study', '0', '4', '3',\n",
              "       'New Treatment Measure Clinical Study', '2', '1-2', '1', '2-3',\n",
              "       'Human pharmacology (Phase I): no\\nTherapeutic exploratory (Phase II): no\\nTherapeutic confirmatory - (Phase III): yes\\nTherapeutic use (Phase IV): no\\n',\n",
              "       'Human pharmacology (Phase I): no\\nTherapeutic exploratory (Phase II): yes\\nTherapeutic confirmatory - (Phase III): no\\nTherapeutic use (Phase IV): no\\n',\n",
              "       'Not Applicable',\n",
              "       'Human pharmacology (Phase I): no\\nTherapeutic exploratory (Phase II): no\\nTherapeutic confirmatory - (Phase III): no\\nTherapeutic use (Phase IV): yes\\n',\n",
              "       'Phase 2', 'Diagnostic New Technique Clincal Study',\n",
              "       'Human pharmacology (Phase I): yes\\nTherapeutic exploratory (Phase II): yes\\nTherapeutic confirmatory - (Phase III): no\\nTherapeutic use (Phase IV): no\\n',\n",
              "       'Phase2/Phase3', 'Phase2', 'Phase II/III', 'Phase 1 / Phase 2',\n",
              "       'Phase II',\n",
              "       'Human pharmacology (Phase I): no\\nTherapeutic exploratory (Phase II): yes\\nTherapeutic confirmatory - (Phase III): yes\\nTherapeutic use (Phase IV): no\\n',\n",
              "       'Not Specified', 'Phase III/IV', '0 (exploratory trials)',\n",
              "       'Phase 3', 'Not applicable', 'Phase I', 'Phase 2/Phase 3',\n",
              "       'Phase 1/Phase 2', 'Early Phase 1', 'Phase 2 / Phase 3',\n",
              "       'Phase IV', 'Phase III',\n",
              "       'Human pharmacology (Phase I): no\\nTherapeutic exploratory (Phase II): no\\nTherapeutic confirmatory - (Phase III): yes\\nTherapeutic use (Phase IV): yes\\n',\n",
              "       'Phase I/II',\n",
              "       'Human pharmacology (Phase I): \\nTherapeutic exploratory (Phase II): yes\\nTherapeutic confirmatory - (Phase III): \\nTherapeutic use (Phase IV): no\\n',\n",
              "       'Human pharmacology (Phase I): yes\\nTherapeutic exploratory (Phase II): no\\nTherapeutic confirmatory - (Phase III): no\\nTherapeutic use (Phase IV): yes\\n',\n",
              "       'Phase 0', 'Phase3', 'Phase1/Phase2', 'Bioequivalence',\n",
              "       'Phase 1/ Phase 2', 'Post Marketing Surveillance',\n",
              "       'Phase 2/ Phase 3', 'Phase 3/ Phase 4', 'Phase1',\n",
              "       'Human pharmacology (Phase I): yes\\nTherapeutic exploratory (Phase II): no\\nTherapeutic confirmatory - (Phase III): no\\nTherapeutic use (Phase IV): no\\n',\n",
              "       'Not selected', 'Phase II,III', 'IIb', 'I', 'III', 'IV', 'II-III',\n",
              "       'II', 'I-II', 'Phase 2-3', 'Phase 1-2', 'Phase-3', 'Phase-2',\n",
              "       'Phase-1'], dtype=object)"
            ]
          },
          "metadata": {},
          "execution_count": 68
        }
      ]
    },
    {
      "cell_type": "markdown",
      "source": [
        "# General Text-Date-Number Data Scrubbing"
      ],
      "metadata": {
        "id": "nTf1x40lu6Ki"
      }
    },
    {
      "cell_type": "code",
      "source": [
        "df.columns"
      ],
      "metadata": {
        "colab": {
          "base_uri": "https://localhost:8080/"
        },
        "id": "I5hLZmVux5Nm",
        "outputId": "96041d19-3d39-4966-cfcb-4cc277d32a18"
      },
      "execution_count": null,
      "outputs": [
        {
          "output_type": "execute_result",
          "data": {
            "text/plain": [
              "Index(['ID', 'TRIALID', 'LAST REFRESHED ON', 'PUBLIC TITLE',\n",
              "       'SCIENTIFIC TITLE', 'ACRONYM', 'PRIMARY SPONSOR', 'DATE REGISTRATION',\n",
              "       'DATE REGISTRATION3', 'EXPORT DATE', 'SOURCE REGISTER', 'WEB ADDRESS',\n",
              "       'RECRUITMENT STATUS', 'OTHER RECORDS', 'INCLUSION AGEMIN',\n",
              "       'INCLUSION AGEMAX', 'INCLUSION GENDER', 'DATE ENROLLEMENT',\n",
              "       'TARGET SIZE', 'STUDY TYPE', 'STUDY DESIGN', 'PHASE', 'COUNTRIES',\n",
              "       'CONTACT FIRSTNAME', 'CONTACT LASTNAME', 'CONTACT ADDRESS',\n",
              "       'CONTACT EMAIL', 'CONTACT TEL', 'CONTACT AFFILIATION',\n",
              "       'INCLUSION CRITERIA', 'EXCLUSION CRITERIA', 'CONDITION', 'INTERVENTION',\n",
              "       'PRIMARY OUTCOME', 'RESULTS DATE POSTED', 'RESULTS DATE COMPLETED',\n",
              "       'RESULTS URL LINK', 'RETROSPECTIVE FLAG', 'BRIDGING FLAG TRUEFALSE',\n",
              "       'BRIDGED TYPE', 'RESULTS YES NO', 'COUNTRIES_CLEAN', 'GENDER_CLEAN',\n",
              "       'STUDY_TYPE_CLEAN', 'INCLUSION_AGEMIN_NUMBER',\n",
              "       'INCLUSION_AGEMAX_NUMBER', 'INCLUSION_AGEMIN_UNIT',\n",
              "       'INCLUSION_AGEMAX_UNIT', 'TARGET_SIZE_CLEAN'],\n",
              "      dtype='object')"
            ]
          },
          "metadata": {},
          "execution_count": 69
        }
      ]
    },
    {
      "cell_type": "code",
      "source": [
        "df.drop(['ACRONYM', 'EXPORT DATE','DATE REGISTRATION3','OTHER RECORDS', 'RETROSPECTIVE FLAG', 'COUNTRIES'], axis=1, inplace=True)"
      ],
      "metadata": {
        "id": "_TrkkM0rx7I7"
      },
      "execution_count": null,
      "outputs": []
    },
    {
      "cell_type": "markdown",
      "source": [
        "Dates:\n",
        "- LAST REFRESHED ON\n",
        "- DATE REGISTRATION\n",
        "- RESULTS DATE POSTED\n",
        "- RESULTS DATE COMPLETED\n",
        "\n",
        "Text:\n",
        "- TRIALID\n",
        "- PUBLIC TITLE\n",
        "- SCIENTIFIC TITLE\n",
        "- PRIMARY SPONSOR\n",
        "- SOURCE REGISTER *\n",
        "- WEB ADDRESS\n",
        "- RECRUITMENT STATUS *\n",
        "- STUDY TYPE\n",
        "- STUDY DESIGN\n",
        "- PHASE*\n",
        "- CONTACT FIRSTNAME\n",
        "- CONTACT LASTNAME\n",
        "- CONTACT ADDRESS\n",
        "- CONTACT EMAIL\n",
        "- CONTACT TEL\n",
        "- CONTACT AFFILIATION\n",
        "- INCLUSION CRITERIA +\n",
        "- EXCLUSION CRITERIA +\n",
        "- INTERVENTION + \n",
        "- PRIMARY OUTCOME +\n",
        "- BRIDGED TYPE *\n",
        "- RESULTS YES NO*\n",
        "\n",
        "Number:\n",
        "- INCLUSION_AGEMIN_NUMBER\n",
        "- INCLUSION_AGEMAX_NUMBER\n",
        "\n",
        "\n",
        "\n",
        "'*' means catalog, few data\n",
        "\n",
        "'+' search engine possible usage"
      ],
      "metadata": {
        "id": "5m-GL55Wu_v7"
      }
    },
    {
      "cell_type": "markdown",
      "source": [
        "## Data to STR"
      ],
      "metadata": {
        "id": "2Y69ogbUBEj5"
      }
    },
    {
      "cell_type": "code",
      "source": [
        "def txt_parsing(x):\n",
        "  if (x is None) or (x is np.nan) or (x == ';') or (x==' '):\n",
        "    x = 'Not Specified'\n",
        "  \n",
        "  x = str(x)\n",
        "  x = x.replace('<br>        ', '.').replace('<br>          -  ', '.').replace('<br>          -  ', '.').replace('<br><br>','.').replace('<br>', '.').replace('\\t', '.').replace('\\n','.').replace('\\r', '.')\n",
        "  \n",
        "  return x"
      ],
      "metadata": {
        "id": "ttC8rrW52Wn9"
      },
      "execution_count": null,
      "outputs": []
    },
    {
      "cell_type": "code",
      "source": [
        "df['TRIALID'] = df['TRIALID'].apply(txt_parsing)\n",
        "df['CONDITION'] = df['CONDITION'].apply(txt_parsing)\n",
        "df['PUBLIC TITLE'] = df['PUBLIC TITLE'].apply(txt_parsing)\n",
        "df['SCIENTIFIC TITLE'] = df['SCIENTIFIC TITLE'].apply(txt_parsing)\n",
        "df['PRIMARY SPONSOR'] = df['PRIMARY SPONSOR'].apply(txt_parsing)\n",
        "df['SOURCE REGISTER'] = df['SOURCE REGISTER'].apply(txt_parsing)\n",
        "df['STUDY TYPE'] = df['STUDY TYPE'].apply(txt_parsing)\n",
        "df['STUDY DESIGN'] = df['STUDY DESIGN'].apply(txt_parsing)\n",
        "df['CONTACT FIRSTNAME'] = df['CONTACT FIRSTNAME'].apply(txt_parsing)\n",
        "df['CONTACT LASTNAME'] = df['CONTACT LASTNAME'].apply(txt_parsing)\n",
        "df['CONTACT ADDRESS'] = df['CONTACT ADDRESS'].apply(txt_parsing)\n",
        "df['CONTACT EMAIL'] = df['CONTACT EMAIL'].apply(txt_parsing)\n",
        "df['CONTACT TEL'] = df['CONTACT TEL'].apply(txt_parsing)\n",
        "df['CONTACT AFFILIATION'] = df['CONTACT AFFILIATION'].apply(txt_parsing)\n",
        "df['INCLUSION CRITERIA'] = df['INCLUSION CRITERIA'].apply(txt_parsing)\n",
        "df['EXCLUSION CRITERIA'] = df['EXCLUSION CRITERIA'].apply(txt_parsing)\n",
        "df['INTERVENTION'] = df['INTERVENTION'].apply(txt_parsing)\n",
        "df['PRIMARY OUTCOME'] = df['PRIMARY OUTCOME'].apply(txt_parsing)"
      ],
      "metadata": {
        "id": "8RseqMW2xltv"
      },
      "execution_count": null,
      "outputs": []
    },
    {
      "cell_type": "code",
      "source": [
        "df['INCLUSION_AGEMAX_NUMBER'] = pd.to_numeric(df['INCLUSION_AGEMAX_NUMBER'], errors='coerce')\n",
        "df['INCLUSION_AGEMIN_NUMBER'] = pd.to_numeric(df['INCLUSION_AGEMIN_NUMBER'], errors='coerce')"
      ],
      "metadata": {
        "id": "uPzL1QohSNpd"
      },
      "execution_count": null,
      "outputs": []
    },
    {
      "cell_type": "markdown",
      "source": [
        "## Inlcusion Age Adjustment"
      ],
      "metadata": {
        "id": "M16-n5TzBLCj"
      }
    },
    {
      "cell_type": "code",
      "source": [
        "for index, row in df.iterrows():\n",
        "  if row['INCLUSION_AGEMAX_UNIT'] == 'months':\n",
        "    df.loc[index, 'INCLUSION_AGEMAX_UNIT'] = 'years'\n",
        "    if str(row['INCLUSION_AGEMAX_NUMBER']) != 'nan':\n",
        "      df.loc[index, 'INCLUSION_AGEMAX_NUMBER'] = int(round(row['INCLUSION_AGEMAX_NUMBER']/12))\n",
        "  elif row['INCLUSION_AGEMAX_UNIT'] == 'weeks':\n",
        "    df.loc[index, 'INCLUSION_AGEMAX_UNIT'] = 'years'\n",
        "    if str(row['INCLUSION_AGEMAX_NUMBER']) != 'nan':\n",
        "      df.loc[index, 'INCLUSION_AGEMAX_NUMBER'] = int(round(row['INCLUSION_AGEMAX_NUMBER']/52))"
      ],
      "metadata": {
        "id": "VAO_SoCdbiCj"
      },
      "execution_count": null,
      "outputs": []
    },
    {
      "cell_type": "code",
      "source": [
        "for index, row in df.iterrows():\n",
        "  if row['INCLUSION_AGEMIN_UNIT'] == 'months':\n",
        "    df.loc[index, 'INCLUSION_AGEMIN_UNIT'] = 'years'\n",
        "    if str(row['INCLUSION_AGEMIN_NUMBER']) != 'nan':\n",
        "      df.loc[index, 'INCLUSION_AGEMIN_NUMBER'] = round(row['INCLUSION_AGEMIN_NUMBER']/12)\n",
        "  elif row['INCLUSION_AGEMIN_UNIT'] == 'weeks':\n",
        "    df.loc[index, 'INCLUSION_AGEMIN_UNIT'] = 'years'\n",
        "    if str(row['INCLUSION_AGEMIN_NUMBER']) != 'nan':\n",
        "      df.loc[index, 'INCLUSION_AGEMIN_NUMBER'] = round(row['INCLUSION_AGEMIN_NUMBER']/52)"
      ],
      "metadata": {
        "id": "gLCcoG4yBcUT"
      },
      "execution_count": null,
      "outputs": []
    },
    {
      "cell_type": "markdown",
      "source": [
        "## Unziping Countries intro String"
      ],
      "metadata": {
        "id": "TYxw65gAfnLP"
      }
    },
    {
      "cell_type": "code",
      "source": [
        "unzip_function = lambda x: (',').join(x)"
      ],
      "metadata": {
        "id": "hipCs9FEfqvO"
      },
      "execution_count": null,
      "outputs": []
    },
    {
      "cell_type": "code",
      "source": [
        "df['COUNTRIES_CLEAN'] = df['COUNTRIES_CLEAN'].apply(unzip_function)"
      ],
      "metadata": {
        "id": "3-S3CMDzgWUL"
      },
      "execution_count": null,
      "outputs": []
    },
    {
      "cell_type": "code",
      "source": [
        "df['COUNTRIES_CLEAN']"
      ],
      "metadata": {
        "colab": {
          "base_uri": "https://localhost:8080/"
        },
        "id": "f-94uiQqhvkY",
        "outputId": "87db16f2-f7ca-4b3c-848d-ef01ba260b60"
      },
      "execution_count": null,
      "outputs": [
        {
          "output_type": "execute_result",
          "data": {
            "text/plain": [
              "0                        Syrian Arab Republic\n",
              "1                                       Chile\n",
              "2        United States Minor Outlying Islands\n",
              "3        United States Minor Outlying Islands\n",
              "4                                   Indonesia\n",
              "                         ...                 \n",
              "14680                                 Jamaica\n",
              "14681                                 Jamaica\n",
              "14682                                 Jamaica\n",
              "14683                                 Jamaica\n",
              "14684                                 Jamaica\n",
              "Name: COUNTRIES_CLEAN, Length: 14685, dtype: object"
            ]
          },
          "metadata": {},
          "execution_count": 78
        }
      ]
    },
    {
      "cell_type": "markdown",
      "source": [
        "## Unziping Synonyms to String"
      ],
      "metadata": {
        "id": "xZBondjsiUDe"
      }
    },
    {
      "cell_type": "code",
      "source": [
        "countries_ISO_data['SYNONYMS'] = countries_ISO_data['SYNONYMS'].apply(unzip_function)"
      ],
      "metadata": {
        "id": "p3ZL5ML1iWOP"
      },
      "execution_count": null,
      "outputs": []
    },
    {
      "cell_type": "code",
      "source": [
        "countries_ISO_data.to_csv('countries_Standard.csv', index=False)"
      ],
      "metadata": {
        "id": "DBWgxR13in-_"
      },
      "execution_count": null,
      "outputs": []
    },
    {
      "cell_type": "markdown",
      "source": [
        "## Data to Datetime"
      ],
      "metadata": {
        "id": "h5KhFXv1kaNc"
      }
    },
    {
      "cell_type": "code",
      "source": [
        "df['LAST REFRESHED ON'] = df['LAST REFRESHED ON'].apply(lambda x: pd.to_datetime(x, infer_datetime_format=True, errors='coerce', dayfirst=True).date()) \n",
        "df['DATE REGISTRATION'] = df['DATE REGISTRATION'].apply(lambda x: pd.to_datetime(x, infer_datetime_format=True, errors='coerce', dayfirst=True).date()) \n",
        "df['RESULTS DATE POSTED'] = df['RESULTS DATE POSTED'].apply(lambda x: pd.to_datetime(x, infer_datetime_format=True, errors='coerce', dayfirst=True).date())\n",
        "df['RESULTS DATE COMPLETED'] = df['RESULTS DATE COMPLETED'].apply(lambda x: pd.to_datetime(x, infer_datetime_format=True, errors='coerce', dayfirst=True).date())\n",
        "df['DATE ENROLLEMENT'] = df['DATE ENROLLEMENT'].apply(lambda x: pd.to_datetime(x, infer_datetime_format=True, errors='coerce', dayfirst=True).date())"
      ],
      "metadata": {
        "id": "T8raXHvskeeO"
      },
      "execution_count": null,
      "outputs": []
    },
    {
      "cell_type": "code",
      "source": [
        "df['DATE ENROLLEMENT']"
      ],
      "metadata": {
        "colab": {
          "base_uri": "https://localhost:8080/"
        },
        "id": "qH7L6ll0zyRp",
        "outputId": "6c7e81f9-3bb5-4be4-f704-ad8ed62ea2c4"
      },
      "execution_count": null,
      "outputs": [
        {
          "output_type": "execute_result",
          "data": {
            "text/plain": [
              "0        2005-01-01\n",
              "1        1996-01-01\n",
              "2        2007-09-01\n",
              "3        2011-04-01\n",
              "4        2018-10-23\n",
              "            ...    \n",
              "14680    2022-05-27\n",
              "14681    2022-04-06\n",
              "14682    2021-01-04\n",
              "14683    2022-01-06\n",
              "14684    2022-01-06\n",
              "Name: DATE ENROLLEMENT, Length: 14685, dtype: object"
            ]
          },
          "metadata": {},
          "execution_count": 82
        }
      ]
    },
    {
      "cell_type": "markdown",
      "source": [
        "# Gender Catalog Table"
      ],
      "metadata": {
        "id": "IYbsQZQvcmxJ"
      }
    },
    {
      "cell_type": "code",
      "source": [
        "gender = df['GENDER_CLEAN']"
      ],
      "metadata": {
        "id": "gM6o62LDDmZO"
      },
      "execution_count": null,
      "outputs": []
    },
    {
      "cell_type": "code",
      "source": [
        "gender_Standard = pd.DataFrame(gender.unique(), columns=['NAME'])\n",
        "gender_Standard.index = gender_Standard.index + 1"
      ],
      "metadata": {
        "id": "FxYcDtbIMkOs"
      },
      "execution_count": null,
      "outputs": []
    },
    {
      "cell_type": "code",
      "source": [
        "gender_Standard = gender_Standard.reset_index()\n",
        "gender_Standard = gender_Standard.rename(columns = {'index':'ID'})"
      ],
      "metadata": {
        "id": "qat3gN_NcE5p"
      },
      "execution_count": null,
      "outputs": []
    },
    {
      "cell_type": "code",
      "source": [
        "gender_Standard"
      ],
      "metadata": {
        "colab": {
          "base_uri": "https://localhost:8080/",
          "height": 175
        },
        "id": "e6POQ-I_c7ul",
        "outputId": "85572fe5-74bc-4154-f8a9-553de5ecade4"
      },
      "execution_count": null,
      "outputs": [
        {
          "output_type": "execute_result",
          "data": {
            "text/plain": [
              "   ID           NAME\n",
              "0   1           Both\n",
              "1   2           Male\n",
              "2   3         Female\n",
              "3   4  Not Specified"
            ],
            "text/html": [
              "\n",
              "  <div id=\"df-06631753-4dca-445e-b63d-7df423cd96f0\">\n",
              "    <div class=\"colab-df-container\">\n",
              "      <div>\n",
              "<style scoped>\n",
              "    .dataframe tbody tr th:only-of-type {\n",
              "        vertical-align: middle;\n",
              "    }\n",
              "\n",
              "    .dataframe tbody tr th {\n",
              "        vertical-align: top;\n",
              "    }\n",
              "\n",
              "    .dataframe thead th {\n",
              "        text-align: right;\n",
              "    }\n",
              "</style>\n",
              "<table border=\"1\" class=\"dataframe\">\n",
              "  <thead>\n",
              "    <tr style=\"text-align: right;\">\n",
              "      <th></th>\n",
              "      <th>ID</th>\n",
              "      <th>NAME</th>\n",
              "    </tr>\n",
              "  </thead>\n",
              "  <tbody>\n",
              "    <tr>\n",
              "      <th>0</th>\n",
              "      <td>1</td>\n",
              "      <td>Both</td>\n",
              "    </tr>\n",
              "    <tr>\n",
              "      <th>1</th>\n",
              "      <td>2</td>\n",
              "      <td>Male</td>\n",
              "    </tr>\n",
              "    <tr>\n",
              "      <th>2</th>\n",
              "      <td>3</td>\n",
              "      <td>Female</td>\n",
              "    </tr>\n",
              "    <tr>\n",
              "      <th>3</th>\n",
              "      <td>4</td>\n",
              "      <td>Not Specified</td>\n",
              "    </tr>\n",
              "  </tbody>\n",
              "</table>\n",
              "</div>\n",
              "      <button class=\"colab-df-convert\" onclick=\"convertToInteractive('df-06631753-4dca-445e-b63d-7df423cd96f0')\"\n",
              "              title=\"Convert this dataframe to an interactive table.\"\n",
              "              style=\"display:none;\">\n",
              "        \n",
              "  <svg xmlns=\"http://www.w3.org/2000/svg\" height=\"24px\"viewBox=\"0 0 24 24\"\n",
              "       width=\"24px\">\n",
              "    <path d=\"M0 0h24v24H0V0z\" fill=\"none\"/>\n",
              "    <path d=\"M18.56 5.44l.94 2.06.94-2.06 2.06-.94-2.06-.94-.94-2.06-.94 2.06-2.06.94zm-11 1L8.5 8.5l.94-2.06 2.06-.94-2.06-.94L8.5 2.5l-.94 2.06-2.06.94zm10 10l.94 2.06.94-2.06 2.06-.94-2.06-.94-.94-2.06-.94 2.06-2.06.94z\"/><path d=\"M17.41 7.96l-1.37-1.37c-.4-.4-.92-.59-1.43-.59-.52 0-1.04.2-1.43.59L10.3 9.45l-7.72 7.72c-.78.78-.78 2.05 0 2.83L4 21.41c.39.39.9.59 1.41.59.51 0 1.02-.2 1.41-.59l7.78-7.78 2.81-2.81c.8-.78.8-2.07 0-2.86zM5.41 20L4 18.59l7.72-7.72 1.47 1.35L5.41 20z\"/>\n",
              "  </svg>\n",
              "      </button>\n",
              "      \n",
              "  <style>\n",
              "    .colab-df-container {\n",
              "      display:flex;\n",
              "      flex-wrap:wrap;\n",
              "      gap: 12px;\n",
              "    }\n",
              "\n",
              "    .colab-df-convert {\n",
              "      background-color: #E8F0FE;\n",
              "      border: none;\n",
              "      border-radius: 50%;\n",
              "      cursor: pointer;\n",
              "      display: none;\n",
              "      fill: #1967D2;\n",
              "      height: 32px;\n",
              "      padding: 0 0 0 0;\n",
              "      width: 32px;\n",
              "    }\n",
              "\n",
              "    .colab-df-convert:hover {\n",
              "      background-color: #E2EBFA;\n",
              "      box-shadow: 0px 1px 2px rgba(60, 64, 67, 0.3), 0px 1px 3px 1px rgba(60, 64, 67, 0.15);\n",
              "      fill: #174EA6;\n",
              "    }\n",
              "\n",
              "    [theme=dark] .colab-df-convert {\n",
              "      background-color: #3B4455;\n",
              "      fill: #D2E3FC;\n",
              "    }\n",
              "\n",
              "    [theme=dark] .colab-df-convert:hover {\n",
              "      background-color: #434B5C;\n",
              "      box-shadow: 0px 1px 3px 1px rgba(0, 0, 0, 0.15);\n",
              "      filter: drop-shadow(0px 1px 2px rgba(0, 0, 0, 0.3));\n",
              "      fill: #FFFFFF;\n",
              "    }\n",
              "  </style>\n",
              "\n",
              "      <script>\n",
              "        const buttonEl =\n",
              "          document.querySelector('#df-06631753-4dca-445e-b63d-7df423cd96f0 button.colab-df-convert');\n",
              "        buttonEl.style.display =\n",
              "          google.colab.kernel.accessAllowed ? 'block' : 'none';\n",
              "\n",
              "        async function convertToInteractive(key) {\n",
              "          const element = document.querySelector('#df-06631753-4dca-445e-b63d-7df423cd96f0');\n",
              "          const dataTable =\n",
              "            await google.colab.kernel.invokeFunction('convertToInteractive',\n",
              "                                                     [key], {});\n",
              "          if (!dataTable) return;\n",
              "\n",
              "          const docLinkHtml = 'Like what you see? Visit the ' +\n",
              "            '<a target=\"_blank\" href=https://colab.research.google.com/notebooks/data_table.ipynb>data table notebook</a>'\n",
              "            + ' to learn more about interactive tables.';\n",
              "          element.innerHTML = '';\n",
              "          dataTable['output_type'] = 'display_data';\n",
              "          await google.colab.output.renderOutput(dataTable, element);\n",
              "          const docLink = document.createElement('div');\n",
              "          docLink.innerHTML = docLinkHtml;\n",
              "          element.appendChild(docLink);\n",
              "        }\n",
              "      </script>\n",
              "    </div>\n",
              "  </div>\n",
              "  "
            ]
          },
          "metadata": {},
          "execution_count": 86
        }
      ]
    },
    {
      "cell_type": "code",
      "source": [
        "gender_Standard.to_csv('gender_Standard.csv', index=False)"
      ],
      "metadata": {
        "id": "4N49jaf1c6Eq"
      },
      "execution_count": null,
      "outputs": []
    },
    {
      "cell_type": "markdown",
      "source": [
        "## Gender Pivot Table"
      ],
      "metadata": {
        "id": "-rUYLX5Zcjd4"
      }
    },
    {
      "cell_type": "code",
      "source": [
        "inspect_gender = df[['ID', 'GENDER_CLEAN']]"
      ],
      "metadata": {
        "id": "BG-DPWz9eVnl"
      },
      "execution_count": null,
      "outputs": []
    },
    {
      "cell_type": "code",
      "source": [
        "ID_gender = []\n",
        "\n",
        "for index,row_outer in gender_Standard.iterrows():\n",
        "  aliases = row_outer['NAME']\n",
        "\n",
        "  trial_id_list = []\n",
        "  \n",
        "  for index,row_inner in inspect_gender.iterrows():\n",
        "    if row_inner['GENDER_CLEAN'] == aliases:\n",
        "      trial_id_list = [row_outer['ID'], row_inner['ID']]\n",
        "\n",
        "      ID_gender.append(trial_id_list)"
      ],
      "metadata": {
        "id": "OCFG-HJWcimo"
      },
      "execution_count": null,
      "outputs": []
    },
    {
      "cell_type": "code",
      "source": [
        "ID_gender = pd.DataFrame(ID_gender, columns = ['GENDER', 'ID'])"
      ],
      "metadata": {
        "id": "EscEvhqEey13"
      },
      "execution_count": null,
      "outputs": []
    },
    {
      "cell_type": "code",
      "source": [
        "ID_gender"
      ],
      "metadata": {
        "colab": {
          "base_uri": "https://localhost:8080/",
          "height": 424
        },
        "id": "qVHxQBXCfcl-",
        "outputId": "ff8b89b3-51c1-44c5-846b-f333184c5aa8"
      },
      "execution_count": null,
      "outputs": [
        {
          "output_type": "execute_result",
          "data": {
            "text/plain": [
              "       GENDER     ID\n",
              "0           1      1\n",
              "1           1      2\n",
              "2           1      3\n",
              "3           1      4\n",
              "4           1      5\n",
              "...       ...    ...\n",
              "14680       4  14312\n",
              "14681       4  14313\n",
              "14682       4  14314\n",
              "14683       4  14642\n",
              "14684       4  14654\n",
              "\n",
              "[14685 rows x 2 columns]"
            ],
            "text/html": [
              "\n",
              "  <div id=\"df-9b87483b-85b9-446e-b81c-86d0837d3671\">\n",
              "    <div class=\"colab-df-container\">\n",
              "      <div>\n",
              "<style scoped>\n",
              "    .dataframe tbody tr th:only-of-type {\n",
              "        vertical-align: middle;\n",
              "    }\n",
              "\n",
              "    .dataframe tbody tr th {\n",
              "        vertical-align: top;\n",
              "    }\n",
              "\n",
              "    .dataframe thead th {\n",
              "        text-align: right;\n",
              "    }\n",
              "</style>\n",
              "<table border=\"1\" class=\"dataframe\">\n",
              "  <thead>\n",
              "    <tr style=\"text-align: right;\">\n",
              "      <th></th>\n",
              "      <th>GENDER</th>\n",
              "      <th>ID</th>\n",
              "    </tr>\n",
              "  </thead>\n",
              "  <tbody>\n",
              "    <tr>\n",
              "      <th>0</th>\n",
              "      <td>1</td>\n",
              "      <td>1</td>\n",
              "    </tr>\n",
              "    <tr>\n",
              "      <th>1</th>\n",
              "      <td>1</td>\n",
              "      <td>2</td>\n",
              "    </tr>\n",
              "    <tr>\n",
              "      <th>2</th>\n",
              "      <td>1</td>\n",
              "      <td>3</td>\n",
              "    </tr>\n",
              "    <tr>\n",
              "      <th>3</th>\n",
              "      <td>1</td>\n",
              "      <td>4</td>\n",
              "    </tr>\n",
              "    <tr>\n",
              "      <th>4</th>\n",
              "      <td>1</td>\n",
              "      <td>5</td>\n",
              "    </tr>\n",
              "    <tr>\n",
              "      <th>...</th>\n",
              "      <td>...</td>\n",
              "      <td>...</td>\n",
              "    </tr>\n",
              "    <tr>\n",
              "      <th>14680</th>\n",
              "      <td>4</td>\n",
              "      <td>14312</td>\n",
              "    </tr>\n",
              "    <tr>\n",
              "      <th>14681</th>\n",
              "      <td>4</td>\n",
              "      <td>14313</td>\n",
              "    </tr>\n",
              "    <tr>\n",
              "      <th>14682</th>\n",
              "      <td>4</td>\n",
              "      <td>14314</td>\n",
              "    </tr>\n",
              "    <tr>\n",
              "      <th>14683</th>\n",
              "      <td>4</td>\n",
              "      <td>14642</td>\n",
              "    </tr>\n",
              "    <tr>\n",
              "      <th>14684</th>\n",
              "      <td>4</td>\n",
              "      <td>14654</td>\n",
              "    </tr>\n",
              "  </tbody>\n",
              "</table>\n",
              "<p>14685 rows × 2 columns</p>\n",
              "</div>\n",
              "      <button class=\"colab-df-convert\" onclick=\"convertToInteractive('df-9b87483b-85b9-446e-b81c-86d0837d3671')\"\n",
              "              title=\"Convert this dataframe to an interactive table.\"\n",
              "              style=\"display:none;\">\n",
              "        \n",
              "  <svg xmlns=\"http://www.w3.org/2000/svg\" height=\"24px\"viewBox=\"0 0 24 24\"\n",
              "       width=\"24px\">\n",
              "    <path d=\"M0 0h24v24H0V0z\" fill=\"none\"/>\n",
              "    <path d=\"M18.56 5.44l.94 2.06.94-2.06 2.06-.94-2.06-.94-.94-2.06-.94 2.06-2.06.94zm-11 1L8.5 8.5l.94-2.06 2.06-.94-2.06-.94L8.5 2.5l-.94 2.06-2.06.94zm10 10l.94 2.06.94-2.06 2.06-.94-2.06-.94-.94-2.06-.94 2.06-2.06.94z\"/><path d=\"M17.41 7.96l-1.37-1.37c-.4-.4-.92-.59-1.43-.59-.52 0-1.04.2-1.43.59L10.3 9.45l-7.72 7.72c-.78.78-.78 2.05 0 2.83L4 21.41c.39.39.9.59 1.41.59.51 0 1.02-.2 1.41-.59l7.78-7.78 2.81-2.81c.8-.78.8-2.07 0-2.86zM5.41 20L4 18.59l7.72-7.72 1.47 1.35L5.41 20z\"/>\n",
              "  </svg>\n",
              "      </button>\n",
              "      \n",
              "  <style>\n",
              "    .colab-df-container {\n",
              "      display:flex;\n",
              "      flex-wrap:wrap;\n",
              "      gap: 12px;\n",
              "    }\n",
              "\n",
              "    .colab-df-convert {\n",
              "      background-color: #E8F0FE;\n",
              "      border: none;\n",
              "      border-radius: 50%;\n",
              "      cursor: pointer;\n",
              "      display: none;\n",
              "      fill: #1967D2;\n",
              "      height: 32px;\n",
              "      padding: 0 0 0 0;\n",
              "      width: 32px;\n",
              "    }\n",
              "\n",
              "    .colab-df-convert:hover {\n",
              "      background-color: #E2EBFA;\n",
              "      box-shadow: 0px 1px 2px rgba(60, 64, 67, 0.3), 0px 1px 3px 1px rgba(60, 64, 67, 0.15);\n",
              "      fill: #174EA6;\n",
              "    }\n",
              "\n",
              "    [theme=dark] .colab-df-convert {\n",
              "      background-color: #3B4455;\n",
              "      fill: #D2E3FC;\n",
              "    }\n",
              "\n",
              "    [theme=dark] .colab-df-convert:hover {\n",
              "      background-color: #434B5C;\n",
              "      box-shadow: 0px 1px 3px 1px rgba(0, 0, 0, 0.15);\n",
              "      filter: drop-shadow(0px 1px 2px rgba(0, 0, 0, 0.3));\n",
              "      fill: #FFFFFF;\n",
              "    }\n",
              "  </style>\n",
              "\n",
              "      <script>\n",
              "        const buttonEl =\n",
              "          document.querySelector('#df-9b87483b-85b9-446e-b81c-86d0837d3671 button.colab-df-convert');\n",
              "        buttonEl.style.display =\n",
              "          google.colab.kernel.accessAllowed ? 'block' : 'none';\n",
              "\n",
              "        async function convertToInteractive(key) {\n",
              "          const element = document.querySelector('#df-9b87483b-85b9-446e-b81c-86d0837d3671');\n",
              "          const dataTable =\n",
              "            await google.colab.kernel.invokeFunction('convertToInteractive',\n",
              "                                                     [key], {});\n",
              "          if (!dataTable) return;\n",
              "\n",
              "          const docLinkHtml = 'Like what you see? Visit the ' +\n",
              "            '<a target=\"_blank\" href=https://colab.research.google.com/notebooks/data_table.ipynb>data table notebook</a>'\n",
              "            + ' to learn more about interactive tables.';\n",
              "          element.innerHTML = '';\n",
              "          dataTable['output_type'] = 'display_data';\n",
              "          await google.colab.output.renderOutput(dataTable, element);\n",
              "          const docLink = document.createElement('div');\n",
              "          docLink.innerHTML = docLinkHtml;\n",
              "          element.appendChild(docLink);\n",
              "        }\n",
              "      </script>\n",
              "    </div>\n",
              "  </div>\n",
              "  "
            ]
          },
          "metadata": {},
          "execution_count": 91
        }
      ]
    },
    {
      "cell_type": "code",
      "source": [
        "ID_gender.to_csv('ID_gender.csv', index=False)"
      ],
      "metadata": {
        "id": "pWRwDjHkfcuo"
      },
      "execution_count": null,
      "outputs": []
    },
    {
      "cell_type": "markdown",
      "source": [
        "# Study Type Catalog Table"
      ],
      "metadata": {
        "id": "jaUSQ63Sfmst"
      }
    },
    {
      "cell_type": "code",
      "source": [
        "study_type = df['STUDY_TYPE_CLEAN']"
      ],
      "metadata": {
        "id": "m9xKnm6rfljg"
      },
      "execution_count": null,
      "outputs": []
    },
    {
      "cell_type": "code",
      "source": [
        "study_type_standard = pd.DataFrame(study_type.unique(), columns=['NAME'])\n",
        "study_type_standard.index = study_type_standard.index + 1"
      ],
      "metadata": {
        "id": "GH2IKfjEgH72"
      },
      "execution_count": null,
      "outputs": []
    },
    {
      "cell_type": "code",
      "source": [
        "study_type_standard = study_type_standard.reset_index()\n",
        "study_type_standard = study_type_standard.rename(columns = {'index':'ID'})"
      ],
      "metadata": {
        "id": "Dr62V3v0gVNI"
      },
      "execution_count": null,
      "outputs": []
    },
    {
      "cell_type": "code",
      "source": [
        "study_type_standard"
      ],
      "metadata": {
        "colab": {
          "base_uri": "https://localhost:8080/",
          "height": 457
        },
        "id": "g9vdhaUygq2s",
        "outputId": "75ce520e-dd35-4df5-c29e-697163197e31"
      },
      "execution_count": null,
      "outputs": [
        {
          "output_type": "execute_result",
          "data": {
            "text/plain": [
              "    ID                      NAME\n",
              "0    1       Observational Study\n",
              "1    2      Interventional Study\n",
              "2    3          Diagnostic Study\n",
              "3    4          Prevention Study\n",
              "4    5           Prognosis Study\n",
              "5    6    Basic Science Research\n",
              "6    7           Treatment Study\n",
              "7    8  Epidemiological Research\n",
              "8    9  Health Services Research\n",
              "9   10        Screening Research\n",
              "10  11     Expanded Accces Study\n",
              "11  12              PMS Research\n",
              "12  13             Not Specified"
            ],
            "text/html": [
              "\n",
              "  <div id=\"df-e9135f67-859e-4a64-9bba-cb5f86d3be48\">\n",
              "    <div class=\"colab-df-container\">\n",
              "      <div>\n",
              "<style scoped>\n",
              "    .dataframe tbody tr th:only-of-type {\n",
              "        vertical-align: middle;\n",
              "    }\n",
              "\n",
              "    .dataframe tbody tr th {\n",
              "        vertical-align: top;\n",
              "    }\n",
              "\n",
              "    .dataframe thead th {\n",
              "        text-align: right;\n",
              "    }\n",
              "</style>\n",
              "<table border=\"1\" class=\"dataframe\">\n",
              "  <thead>\n",
              "    <tr style=\"text-align: right;\">\n",
              "      <th></th>\n",
              "      <th>ID</th>\n",
              "      <th>NAME</th>\n",
              "    </tr>\n",
              "  </thead>\n",
              "  <tbody>\n",
              "    <tr>\n",
              "      <th>0</th>\n",
              "      <td>1</td>\n",
              "      <td>Observational Study</td>\n",
              "    </tr>\n",
              "    <tr>\n",
              "      <th>1</th>\n",
              "      <td>2</td>\n",
              "      <td>Interventional Study</td>\n",
              "    </tr>\n",
              "    <tr>\n",
              "      <th>2</th>\n",
              "      <td>3</td>\n",
              "      <td>Diagnostic Study</td>\n",
              "    </tr>\n",
              "    <tr>\n",
              "      <th>3</th>\n",
              "      <td>4</td>\n",
              "      <td>Prevention Study</td>\n",
              "    </tr>\n",
              "    <tr>\n",
              "      <th>4</th>\n",
              "      <td>5</td>\n",
              "      <td>Prognosis Study</td>\n",
              "    </tr>\n",
              "    <tr>\n",
              "      <th>5</th>\n",
              "      <td>6</td>\n",
              "      <td>Basic Science Research</td>\n",
              "    </tr>\n",
              "    <tr>\n",
              "      <th>6</th>\n",
              "      <td>7</td>\n",
              "      <td>Treatment Study</td>\n",
              "    </tr>\n",
              "    <tr>\n",
              "      <th>7</th>\n",
              "      <td>8</td>\n",
              "      <td>Epidemiological Research</td>\n",
              "    </tr>\n",
              "    <tr>\n",
              "      <th>8</th>\n",
              "      <td>9</td>\n",
              "      <td>Health Services Research</td>\n",
              "    </tr>\n",
              "    <tr>\n",
              "      <th>9</th>\n",
              "      <td>10</td>\n",
              "      <td>Screening Research</td>\n",
              "    </tr>\n",
              "    <tr>\n",
              "      <th>10</th>\n",
              "      <td>11</td>\n",
              "      <td>Expanded Accces Study</td>\n",
              "    </tr>\n",
              "    <tr>\n",
              "      <th>11</th>\n",
              "      <td>12</td>\n",
              "      <td>PMS Research</td>\n",
              "    </tr>\n",
              "    <tr>\n",
              "      <th>12</th>\n",
              "      <td>13</td>\n",
              "      <td>Not Specified</td>\n",
              "    </tr>\n",
              "  </tbody>\n",
              "</table>\n",
              "</div>\n",
              "      <button class=\"colab-df-convert\" onclick=\"convertToInteractive('df-e9135f67-859e-4a64-9bba-cb5f86d3be48')\"\n",
              "              title=\"Convert this dataframe to an interactive table.\"\n",
              "              style=\"display:none;\">\n",
              "        \n",
              "  <svg xmlns=\"http://www.w3.org/2000/svg\" height=\"24px\"viewBox=\"0 0 24 24\"\n",
              "       width=\"24px\">\n",
              "    <path d=\"M0 0h24v24H0V0z\" fill=\"none\"/>\n",
              "    <path d=\"M18.56 5.44l.94 2.06.94-2.06 2.06-.94-2.06-.94-.94-2.06-.94 2.06-2.06.94zm-11 1L8.5 8.5l.94-2.06 2.06-.94-2.06-.94L8.5 2.5l-.94 2.06-2.06.94zm10 10l.94 2.06.94-2.06 2.06-.94-2.06-.94-.94-2.06-.94 2.06-2.06.94z\"/><path d=\"M17.41 7.96l-1.37-1.37c-.4-.4-.92-.59-1.43-.59-.52 0-1.04.2-1.43.59L10.3 9.45l-7.72 7.72c-.78.78-.78 2.05 0 2.83L4 21.41c.39.39.9.59 1.41.59.51 0 1.02-.2 1.41-.59l7.78-7.78 2.81-2.81c.8-.78.8-2.07 0-2.86zM5.41 20L4 18.59l7.72-7.72 1.47 1.35L5.41 20z\"/>\n",
              "  </svg>\n",
              "      </button>\n",
              "      \n",
              "  <style>\n",
              "    .colab-df-container {\n",
              "      display:flex;\n",
              "      flex-wrap:wrap;\n",
              "      gap: 12px;\n",
              "    }\n",
              "\n",
              "    .colab-df-convert {\n",
              "      background-color: #E8F0FE;\n",
              "      border: none;\n",
              "      border-radius: 50%;\n",
              "      cursor: pointer;\n",
              "      display: none;\n",
              "      fill: #1967D2;\n",
              "      height: 32px;\n",
              "      padding: 0 0 0 0;\n",
              "      width: 32px;\n",
              "    }\n",
              "\n",
              "    .colab-df-convert:hover {\n",
              "      background-color: #E2EBFA;\n",
              "      box-shadow: 0px 1px 2px rgba(60, 64, 67, 0.3), 0px 1px 3px 1px rgba(60, 64, 67, 0.15);\n",
              "      fill: #174EA6;\n",
              "    }\n",
              "\n",
              "    [theme=dark] .colab-df-convert {\n",
              "      background-color: #3B4455;\n",
              "      fill: #D2E3FC;\n",
              "    }\n",
              "\n",
              "    [theme=dark] .colab-df-convert:hover {\n",
              "      background-color: #434B5C;\n",
              "      box-shadow: 0px 1px 3px 1px rgba(0, 0, 0, 0.15);\n",
              "      filter: drop-shadow(0px 1px 2px rgba(0, 0, 0, 0.3));\n",
              "      fill: #FFFFFF;\n",
              "    }\n",
              "  </style>\n",
              "\n",
              "      <script>\n",
              "        const buttonEl =\n",
              "          document.querySelector('#df-e9135f67-859e-4a64-9bba-cb5f86d3be48 button.colab-df-convert');\n",
              "        buttonEl.style.display =\n",
              "          google.colab.kernel.accessAllowed ? 'block' : 'none';\n",
              "\n",
              "        async function convertToInteractive(key) {\n",
              "          const element = document.querySelector('#df-e9135f67-859e-4a64-9bba-cb5f86d3be48');\n",
              "          const dataTable =\n",
              "            await google.colab.kernel.invokeFunction('convertToInteractive',\n",
              "                                                     [key], {});\n",
              "          if (!dataTable) return;\n",
              "\n",
              "          const docLinkHtml = 'Like what you see? Visit the ' +\n",
              "            '<a target=\"_blank\" href=https://colab.research.google.com/notebooks/data_table.ipynb>data table notebook</a>'\n",
              "            + ' to learn more about interactive tables.';\n",
              "          element.innerHTML = '';\n",
              "          dataTable['output_type'] = 'display_data';\n",
              "          await google.colab.output.renderOutput(dataTable, element);\n",
              "          const docLink = document.createElement('div');\n",
              "          docLink.innerHTML = docLinkHtml;\n",
              "          element.appendChild(docLink);\n",
              "        }\n",
              "      </script>\n",
              "    </div>\n",
              "  </div>\n",
              "  "
            ]
          },
          "metadata": {},
          "execution_count": 96
        }
      ]
    },
    {
      "cell_type": "code",
      "source": [
        "study_type_standard.to_csv('study_type_Standard.csv', index=False)"
      ],
      "metadata": {
        "id": "ASE47qXYgrVz"
      },
      "execution_count": null,
      "outputs": []
    },
    {
      "cell_type": "markdown",
      "source": [
        "## Study Type Pivot Table"
      ],
      "metadata": {
        "id": "Te84JF_LiAyP"
      }
    },
    {
      "cell_type": "code",
      "source": [
        "inspect_study_type = df[['ID', 'STUDY_TYPE_CLEAN']]"
      ],
      "metadata": {
        "id": "00FepMDTiJGw"
      },
      "execution_count": null,
      "outputs": []
    },
    {
      "cell_type": "code",
      "source": [
        "ID_study_type = []\n",
        "\n",
        "for index,row_outer in study_type_standard.iterrows():\n",
        "  aliases = row_outer['NAME']\n",
        "\n",
        "  trial_id_list = []\n",
        "  \n",
        "  for index,row_inner in inspect_study_type.iterrows():\n",
        "\n",
        "    if  row_inner['STUDY_TYPE_CLEAN'] == aliases:\n",
        "      trial_id_list = [row_outer['ID'], row_inner['ID']]\n",
        "\n",
        "      ID_study_type.append(trial_id_list)"
      ],
      "metadata": {
        "id": "QOm_mHvkiEFJ"
      },
      "execution_count": null,
      "outputs": []
    },
    {
      "cell_type": "code",
      "source": [
        "ID_study_type = pd.DataFrame(ID_study_type, columns=['STUDY_TYPE','ID'])"
      ],
      "metadata": {
        "id": "RSTlS5SNZHby"
      },
      "execution_count": null,
      "outputs": []
    },
    {
      "cell_type": "code",
      "source": [
        "ID_study_type"
      ],
      "metadata": {
        "colab": {
          "base_uri": "https://localhost:8080/",
          "height": 424
        },
        "id": "p2JfhKtlZqSp",
        "outputId": "a0775fdf-8ec7-45ab-dded-ebafa147623b"
      },
      "execution_count": null,
      "outputs": [
        {
          "output_type": "execute_result",
          "data": {
            "text/plain": [
              "       STUDY_TYPE     ID\n",
              "0               1      1\n",
              "1               1      2\n",
              "2               1      7\n",
              "3               1      8\n",
              "4               1     13\n",
              "...           ...    ...\n",
              "14680          13  11248\n",
              "14681          13  11892\n",
              "14682          13  12515\n",
              "14683          13  14339\n",
              "14684          13  14628\n",
              "\n",
              "[14685 rows x 2 columns]"
            ],
            "text/html": [
              "\n",
              "  <div id=\"df-ed26dc2d-7ce0-4a1d-9c41-bc8c3058bbfa\">\n",
              "    <div class=\"colab-df-container\">\n",
              "      <div>\n",
              "<style scoped>\n",
              "    .dataframe tbody tr th:only-of-type {\n",
              "        vertical-align: middle;\n",
              "    }\n",
              "\n",
              "    .dataframe tbody tr th {\n",
              "        vertical-align: top;\n",
              "    }\n",
              "\n",
              "    .dataframe thead th {\n",
              "        text-align: right;\n",
              "    }\n",
              "</style>\n",
              "<table border=\"1\" class=\"dataframe\">\n",
              "  <thead>\n",
              "    <tr style=\"text-align: right;\">\n",
              "      <th></th>\n",
              "      <th>STUDY_TYPE</th>\n",
              "      <th>ID</th>\n",
              "    </tr>\n",
              "  </thead>\n",
              "  <tbody>\n",
              "    <tr>\n",
              "      <th>0</th>\n",
              "      <td>1</td>\n",
              "      <td>1</td>\n",
              "    </tr>\n",
              "    <tr>\n",
              "      <th>1</th>\n",
              "      <td>1</td>\n",
              "      <td>2</td>\n",
              "    </tr>\n",
              "    <tr>\n",
              "      <th>2</th>\n",
              "      <td>1</td>\n",
              "      <td>7</td>\n",
              "    </tr>\n",
              "    <tr>\n",
              "      <th>3</th>\n",
              "      <td>1</td>\n",
              "      <td>8</td>\n",
              "    </tr>\n",
              "    <tr>\n",
              "      <th>4</th>\n",
              "      <td>1</td>\n",
              "      <td>13</td>\n",
              "    </tr>\n",
              "    <tr>\n",
              "      <th>...</th>\n",
              "      <td>...</td>\n",
              "      <td>...</td>\n",
              "    </tr>\n",
              "    <tr>\n",
              "      <th>14680</th>\n",
              "      <td>13</td>\n",
              "      <td>11248</td>\n",
              "    </tr>\n",
              "    <tr>\n",
              "      <th>14681</th>\n",
              "      <td>13</td>\n",
              "      <td>11892</td>\n",
              "    </tr>\n",
              "    <tr>\n",
              "      <th>14682</th>\n",
              "      <td>13</td>\n",
              "      <td>12515</td>\n",
              "    </tr>\n",
              "    <tr>\n",
              "      <th>14683</th>\n",
              "      <td>13</td>\n",
              "      <td>14339</td>\n",
              "    </tr>\n",
              "    <tr>\n",
              "      <th>14684</th>\n",
              "      <td>13</td>\n",
              "      <td>14628</td>\n",
              "    </tr>\n",
              "  </tbody>\n",
              "</table>\n",
              "<p>14685 rows × 2 columns</p>\n",
              "</div>\n",
              "      <button class=\"colab-df-convert\" onclick=\"convertToInteractive('df-ed26dc2d-7ce0-4a1d-9c41-bc8c3058bbfa')\"\n",
              "              title=\"Convert this dataframe to an interactive table.\"\n",
              "              style=\"display:none;\">\n",
              "        \n",
              "  <svg xmlns=\"http://www.w3.org/2000/svg\" height=\"24px\"viewBox=\"0 0 24 24\"\n",
              "       width=\"24px\">\n",
              "    <path d=\"M0 0h24v24H0V0z\" fill=\"none\"/>\n",
              "    <path d=\"M18.56 5.44l.94 2.06.94-2.06 2.06-.94-2.06-.94-.94-2.06-.94 2.06-2.06.94zm-11 1L8.5 8.5l.94-2.06 2.06-.94-2.06-.94L8.5 2.5l-.94 2.06-2.06.94zm10 10l.94 2.06.94-2.06 2.06-.94-2.06-.94-.94-2.06-.94 2.06-2.06.94z\"/><path d=\"M17.41 7.96l-1.37-1.37c-.4-.4-.92-.59-1.43-.59-.52 0-1.04.2-1.43.59L10.3 9.45l-7.72 7.72c-.78.78-.78 2.05 0 2.83L4 21.41c.39.39.9.59 1.41.59.51 0 1.02-.2 1.41-.59l7.78-7.78 2.81-2.81c.8-.78.8-2.07 0-2.86zM5.41 20L4 18.59l7.72-7.72 1.47 1.35L5.41 20z\"/>\n",
              "  </svg>\n",
              "      </button>\n",
              "      \n",
              "  <style>\n",
              "    .colab-df-container {\n",
              "      display:flex;\n",
              "      flex-wrap:wrap;\n",
              "      gap: 12px;\n",
              "    }\n",
              "\n",
              "    .colab-df-convert {\n",
              "      background-color: #E8F0FE;\n",
              "      border: none;\n",
              "      border-radius: 50%;\n",
              "      cursor: pointer;\n",
              "      display: none;\n",
              "      fill: #1967D2;\n",
              "      height: 32px;\n",
              "      padding: 0 0 0 0;\n",
              "      width: 32px;\n",
              "    }\n",
              "\n",
              "    .colab-df-convert:hover {\n",
              "      background-color: #E2EBFA;\n",
              "      box-shadow: 0px 1px 2px rgba(60, 64, 67, 0.3), 0px 1px 3px 1px rgba(60, 64, 67, 0.15);\n",
              "      fill: #174EA6;\n",
              "    }\n",
              "\n",
              "    [theme=dark] .colab-df-convert {\n",
              "      background-color: #3B4455;\n",
              "      fill: #D2E3FC;\n",
              "    }\n",
              "\n",
              "    [theme=dark] .colab-df-convert:hover {\n",
              "      background-color: #434B5C;\n",
              "      box-shadow: 0px 1px 3px 1px rgba(0, 0, 0, 0.15);\n",
              "      filter: drop-shadow(0px 1px 2px rgba(0, 0, 0, 0.3));\n",
              "      fill: #FFFFFF;\n",
              "    }\n",
              "  </style>\n",
              "\n",
              "      <script>\n",
              "        const buttonEl =\n",
              "          document.querySelector('#df-ed26dc2d-7ce0-4a1d-9c41-bc8c3058bbfa button.colab-df-convert');\n",
              "        buttonEl.style.display =\n",
              "          google.colab.kernel.accessAllowed ? 'block' : 'none';\n",
              "\n",
              "        async function convertToInteractive(key) {\n",
              "          const element = document.querySelector('#df-ed26dc2d-7ce0-4a1d-9c41-bc8c3058bbfa');\n",
              "          const dataTable =\n",
              "            await google.colab.kernel.invokeFunction('convertToInteractive',\n",
              "                                                     [key], {});\n",
              "          if (!dataTable) return;\n",
              "\n",
              "          const docLinkHtml = 'Like what you see? Visit the ' +\n",
              "            '<a target=\"_blank\" href=https://colab.research.google.com/notebooks/data_table.ipynb>data table notebook</a>'\n",
              "            + ' to learn more about interactive tables.';\n",
              "          element.innerHTML = '';\n",
              "          dataTable['output_type'] = 'display_data';\n",
              "          await google.colab.output.renderOutput(dataTable, element);\n",
              "          const docLink = document.createElement('div');\n",
              "          docLink.innerHTML = docLinkHtml;\n",
              "          element.appendChild(docLink);\n",
              "        }\n",
              "      </script>\n",
              "    </div>\n",
              "  </div>\n",
              "  "
            ]
          },
          "metadata": {},
          "execution_count": 101
        }
      ]
    },
    {
      "cell_type": "code",
      "source": [
        "ID_study_type.to_csv('ID_study_type.csv', index=False)"
      ],
      "metadata": {
        "id": "_0l7SD6_jIRS"
      },
      "execution_count": null,
      "outputs": []
    },
    {
      "cell_type": "markdown",
      "source": [
        "## Adjusting Index for DataBase Consumption"
      ],
      "metadata": {
        "id": "wLpiQdreFgga"
      }
    },
    {
      "cell_type": "code",
      "source": [
        "ID_study_type = pd.read_csv('ID_study_type.csv')\n",
        "ID_study_type['STUDY_TYPE'] = ID_study_type['STUDY_TYPE'] - 1\n",
        "\n",
        "ID_Country = pd.read_csv('ID_country.csv')\n",
        "ID_Country['COUNTRY'] = ID_Country['COUNTRY'] - 1\n",
        "\n",
        "ID_gender = pd.read_csv('ID_gender.csv')\n",
        "ID_gender['GENDER'] = ID_gender['GENDER'] - 1"
      ],
      "metadata": {
        "id": "0-YD2s8VFqNv"
      },
      "execution_count": null,
      "outputs": []
    },
    {
      "cell_type": "code",
      "source": [
        "ID_study_type.to_csv('ID_Country.csv', index=False)\n",
        "ID_Country.to_csv('ID_Country.csv', index=False)\n",
        "ID_gender.to_csv('ID_gender.csv', index=False)"
      ],
      "metadata": {
        "id": "FAjHIg1JIkg8"
      },
      "execution_count": null,
      "outputs": []
    },
    {
      "cell_type": "markdown",
      "source": [
        "# Clean DataFrame"
      ],
      "metadata": {
        "id": "LUisaZdNmn6D"
      }
    },
    {
      "cell_type": "code",
      "source": [
        "df.columns"
      ],
      "metadata": {
        "colab": {
          "base_uri": "https://localhost:8080/"
        },
        "id": "817TMGB1miDO",
        "outputId": "574c31ed-7ea9-44d5-dcc2-91634ff04638"
      },
      "execution_count": null,
      "outputs": [
        {
          "output_type": "execute_result",
          "data": {
            "text/plain": [
              "Index(['ID', 'TRIALID', 'LAST REFRESHED ON', 'PUBLIC TITLE',\n",
              "       'SCIENTIFIC TITLE', 'PRIMARY SPONSOR', 'DATE REGISTRATION',\n",
              "       'SOURCE REGISTER', 'WEB ADDRESS', 'RECRUITMENT STATUS',\n",
              "       'INCLUSION AGEMIN', 'INCLUSION AGEMAX', 'INCLUSION GENDER',\n",
              "       'DATE ENROLLEMENT', 'TARGET SIZE', 'STUDY TYPE', 'STUDY DESIGN',\n",
              "       'PHASE', 'CONTACT FIRSTNAME', 'CONTACT LASTNAME', 'CONTACT ADDRESS',\n",
              "       'CONTACT EMAIL', 'CONTACT TEL', 'CONTACT AFFILIATION',\n",
              "       'INCLUSION CRITERIA', 'EXCLUSION CRITERIA', 'CONDITION', 'INTERVENTION',\n",
              "       'PRIMARY OUTCOME', 'RESULTS DATE POSTED', 'RESULTS DATE COMPLETED',\n",
              "       'RESULTS URL LINK', 'BRIDGING FLAG TRUEFALSE', 'BRIDGED TYPE',\n",
              "       'RESULTS YES NO', 'COUNTRIES_CLEAN', 'GENDER_CLEAN', 'STUDY_TYPE_CLEAN',\n",
              "       'INCLUSION_AGEMIN_NUMBER', 'INCLUSION_AGEMAX_NUMBER',\n",
              "       'INCLUSION_AGEMIN_UNIT', 'INCLUSION_AGEMAX_UNIT', 'TARGET_SIZE_CLEAN'],\n",
              "      dtype='object')"
            ]
          },
          "metadata": {},
          "execution_count": 105
        }
      ]
    },
    {
      "cell_type": "code",
      "source": [
        "df.drop(['INCLUSION GENDER', 'STUDY TYPE', 'INCLUSION AGEMIN', 'INCLUSION AGEMAX', 'TARGET SIZE'], axis=1, inplace=True)"
      ],
      "metadata": {
        "id": "CjmVeWi6mjAy"
      },
      "execution_count": null,
      "outputs": []
    },
    {
      "cell_type": "code",
      "source": [
        "df.columns"
      ],
      "metadata": {
        "colab": {
          "base_uri": "https://localhost:8080/"
        },
        "id": "RLC8t2xCnEPQ",
        "outputId": "e2a71300-4747-4815-a5f0-8c4d370cccda"
      },
      "execution_count": null,
      "outputs": [
        {
          "output_type": "execute_result",
          "data": {
            "text/plain": [
              "Index(['ID', 'TRIALID', 'LAST REFRESHED ON', 'PUBLIC TITLE',\n",
              "       'SCIENTIFIC TITLE', 'PRIMARY SPONSOR', 'DATE REGISTRATION',\n",
              "       'SOURCE REGISTER', 'WEB ADDRESS', 'RECRUITMENT STATUS',\n",
              "       'DATE ENROLLEMENT', 'STUDY DESIGN', 'PHASE', 'CONTACT FIRSTNAME',\n",
              "       'CONTACT LASTNAME', 'CONTACT ADDRESS', 'CONTACT EMAIL', 'CONTACT TEL',\n",
              "       'CONTACT AFFILIATION', 'INCLUSION CRITERIA', 'EXCLUSION CRITERIA',\n",
              "       'CONDITION', 'INTERVENTION', 'PRIMARY OUTCOME', 'RESULTS DATE POSTED',\n",
              "       'RESULTS DATE COMPLETED', 'RESULTS URL LINK', 'BRIDGING FLAG TRUEFALSE',\n",
              "       'BRIDGED TYPE', 'RESULTS YES NO', 'COUNTRIES_CLEAN', 'GENDER_CLEAN',\n",
              "       'STUDY_TYPE_CLEAN', 'INCLUSION_AGEMIN_NUMBER',\n",
              "       'INCLUSION_AGEMAX_NUMBER', 'INCLUSION_AGEMIN_UNIT',\n",
              "       'INCLUSION_AGEMAX_UNIT', 'TARGET_SIZE_CLEAN'],\n",
              "      dtype='object')"
            ]
          },
          "metadata": {},
          "execution_count": 107
        }
      ]
    },
    {
      "cell_type": "code",
      "source": [
        "len(df['STUDY DESIGN'].unique())"
      ],
      "metadata": {
        "colab": {
          "base_uri": "https://localhost:8080/"
        },
        "id": "1rC--ITJnMm3",
        "outputId": "a8e43d68-e6fd-4179-9502-258734caf87e"
      },
      "execution_count": null,
      "outputs": [
        {
          "output_type": "execute_result",
          "data": {
            "text/plain": [
              "2642"
            ]
          },
          "metadata": {},
          "execution_count": 108
        }
      ]
    },
    {
      "cell_type": "markdown",
      "source": [
        "## Switch Text for IDs"
      ],
      "metadata": {
        "id": "SF9YwXlWN89E"
      }
    },
    {
      "cell_type": "code",
      "source": [
        "gender_Standard['ID'] = gender_Standard['ID'] - 1\n",
        "study_type_standard['ID'] = study_type_standard['ID'] -1"
      ],
      "metadata": {
        "id": "JQ9PTVDROCJp"
      },
      "execution_count": null,
      "outputs": []
    },
    {
      "cell_type": "code",
      "source": [
        "df['STUDY_TYPE_CLEAN'] = ID_study_type.sort_values(by='ID')['STUDY_TYPE']\n",
        "df['GENDER_CLEAN'] = ID_gender.sort_values(by='ID')['GENDER']"
      ],
      "metadata": {
        "id": "dRIqU9oFdEQj"
      },
      "execution_count": null,
      "outputs": []
    },
    {
      "cell_type": "markdown",
      "source": [
        "\n",
        "## Binary Data Switch"
      ],
      "metadata": {
        "id": "TeEJPKfflQUb"
      }
    },
    {
      "cell_type": "code",
      "source": [
        "df.columns"
      ],
      "metadata": {
        "colab": {
          "base_uri": "https://localhost:8080/"
        },
        "id": "wZhSi07alPqt",
        "outputId": "c6f0690d-475d-477a-b81b-deab02d7e910"
      },
      "execution_count": null,
      "outputs": [
        {
          "output_type": "execute_result",
          "data": {
            "text/plain": [
              "Index(['ID', 'TRIALID', 'LAST REFRESHED ON', 'PUBLIC TITLE',\n",
              "       'SCIENTIFIC TITLE', 'PRIMARY SPONSOR', 'DATE REGISTRATION',\n",
              "       'SOURCE REGISTER', 'WEB ADDRESS', 'RECRUITMENT STATUS',\n",
              "       'DATE ENROLLEMENT', 'STUDY DESIGN', 'PHASE', 'CONTACT FIRSTNAME',\n",
              "       'CONTACT LASTNAME', 'CONTACT ADDRESS', 'CONTACT EMAIL', 'CONTACT TEL',\n",
              "       'CONTACT AFFILIATION', 'INCLUSION CRITERIA', 'EXCLUSION CRITERIA',\n",
              "       'CONDITION', 'INTERVENTION', 'PRIMARY OUTCOME', 'RESULTS DATE POSTED',\n",
              "       'RESULTS DATE COMPLETED', 'RESULTS URL LINK', 'BRIDGING FLAG TRUEFALSE',\n",
              "       'BRIDGED TYPE', 'RESULTS YES NO', 'COUNTRIES_CLEAN', 'GENDER_CLEAN',\n",
              "       'STUDY_TYPE_CLEAN', 'INCLUSION_AGEMIN_NUMBER',\n",
              "       'INCLUSION_AGEMAX_NUMBER', 'INCLUSION_AGEMIN_UNIT',\n",
              "       'INCLUSION_AGEMAX_UNIT', 'TARGET_SIZE_CLEAN'],\n",
              "      dtype='object')"
            ]
          },
          "metadata": {},
          "execution_count": 111
        }
      ]
    },
    {
      "cell_type": "code",
      "source": [
        "for index,row in df.iterrows():\n",
        "  if row['BRIDGING FLAG TRUEFALSE'] == 'True ':\n",
        "    df['BRIDGING FLAG TRUEFALSE'][index] = 1\n",
        "  else:\n",
        "    df['BRIDGING FLAG TRUEFALSE'][index] = 0"
      ],
      "metadata": {
        "colab": {
          "base_uri": "https://localhost:8080/"
        },
        "id": "-9rbvc2KmUni",
        "outputId": "e0fa936d-d697-46dd-8c94-1330c580b740"
      },
      "execution_count": null,
      "outputs": [
        {
          "output_type": "stream",
          "name": "stderr",
          "text": [
            "/usr/local/lib/python3.7/dist-packages/ipykernel_launcher.py:5: SettingWithCopyWarning: \n",
            "A value is trying to be set on a copy of a slice from a DataFrame\n",
            "\n",
            "See the caveats in the documentation: https://pandas.pydata.org/pandas-docs/stable/user_guide/indexing.html#returning-a-view-versus-a-copy\n",
            "  \"\"\"\n",
            "/usr/local/lib/python3.7/dist-packages/ipykernel_launcher.py:3: SettingWithCopyWarning: \n",
            "A value is trying to be set on a copy of a slice from a DataFrame\n",
            "\n",
            "See the caveats in the documentation: https://pandas.pydata.org/pandas-docs/stable/user_guide/indexing.html#returning-a-view-versus-a-copy\n",
            "  This is separate from the ipykernel package so we can avoid doing imports until\n"
          ]
        }
      ]
    },
    {
      "cell_type": "code",
      "source": [
        "for index,row in df.iterrows():\n",
        "  if row['RESULTS YES NO'] == 'Yes':\n",
        "    df['RESULTS YES NO'][index] = 1\n",
        "  else:\n",
        "    df['RESULTS YES NO'][index] = 0"
      ],
      "metadata": {
        "colab": {
          "base_uri": "https://localhost:8080/"
        },
        "id": "QwXQrMGFnm7z",
        "outputId": "0255a2ea-5228-46fa-b41a-78925945be71"
      },
      "execution_count": null,
      "outputs": [
        {
          "output_type": "stream",
          "name": "stderr",
          "text": [
            "/usr/local/lib/python3.7/dist-packages/ipykernel_launcher.py:5: SettingWithCopyWarning: \n",
            "A value is trying to be set on a copy of a slice from a DataFrame\n",
            "\n",
            "See the caveats in the documentation: https://pandas.pydata.org/pandas-docs/stable/user_guide/indexing.html#returning-a-view-versus-a-copy\n",
            "  \"\"\"\n",
            "/usr/local/lib/python3.7/dist-packages/ipykernel_launcher.py:3: SettingWithCopyWarning: \n",
            "A value is trying to be set on a copy of a slice from a DataFrame\n",
            "\n",
            "See the caveats in the documentation: https://pandas.pydata.org/pandas-docs/stable/user_guide/indexing.html#returning-a-view-versus-a-copy\n",
            "  This is separate from the ipykernel package so we can avoid doing imports until\n"
          ]
        }
      ]
    },
    {
      "cell_type": "code",
      "source": [
        "len(df)"
      ],
      "metadata": {
        "colab": {
          "base_uri": "https://localhost:8080/"
        },
        "id": "xfamxluek38X",
        "outputId": "4601f047-a186-4da6-b246-e7cc6deb120f"
      },
      "execution_count": null,
      "outputs": [
        {
          "output_type": "execute_result",
          "data": {
            "text/plain": [
              "14685"
            ]
          },
          "metadata": {},
          "execution_count": 114
        }
      ]
    },
    {
      "cell_type": "code",
      "source": [
        "df.to_csv('COVID19_web_CLEAN_before_quotes.csv', index=False, encoding='utf-8')"
      ],
      "metadata": {
        "id": "t075JGfJsBZS"
      },
      "execution_count": null,
      "outputs": []
    },
    {
      "cell_type": "markdown",
      "source": [
        "## Quotes Replacement"
      ],
      "metadata": {
        "id": "cvJkLCEBZRe4"
      }
    },
    {
      "cell_type": "code",
      "source": [
        "df['CONTACT FIRSTNAME'] = df['CONTACT FIRSTNAME'].str.replace(\";\", \"\")\n",
        "df['CONTACT FIRSTNAME'] = df['CONTACT FIRSTNAME'].str.lower()\n",
        "df['CONTACT FIRSTNAME'] = df['CONTACT FIRSTNAME'].str.title()"
      ],
      "metadata": {
        "id": "ivvvk4U4ZXLP"
      },
      "execution_count": null,
      "outputs": []
    },
    {
      "cell_type": "code",
      "source": [
        "df['SCIENTIFIC TITLE']=df['SCIENTIFIC TITLE'].str.replace('\"', \"\")\n",
        "#df['SCIENTIFIC TITLE']=df['SCIENTIFIC TITLE'].str.replace('\"', \"'\")\n",
        "\n",
        "#df['SCIENTIFIC TITLE']=df['SCIENTIFIC TITLE'].str.sub('\"', \"'\")\n",
        "#df['SCIENTIFIC TITLE']=df['SCIENTIFIC TITLE'].str.sub('\"', \"\")"
      ],
      "metadata": {
        "id": "8tGk50EDZdAG"
      },
      "execution_count": null,
      "outputs": []
    },
    {
      "cell_type": "code",
      "source": [
        "# Export clean DataFrame\n",
        "df.to_csv('COVID19_web_CLEAN_after_quotes.csv', index=False, encoding='utf-8')\n",
        "# df.to_csv('COVID19_web_CLEAN.csv', index=False, encoding='utf-8', quotechar=\"'\")"
      ],
      "metadata": {
        "id": "ADVfzRKQnYfc"
      },
      "execution_count": null,
      "outputs": []
    },
    {
      "cell_type": "code",
      "source": [
        "len(df)"
      ],
      "metadata": {
        "colab": {
          "base_uri": "https://localhost:8080/"
        },
        "id": "YlYsoy-Zk0EI",
        "outputId": "7eb36b67-39ae-4571-a18f-f914538b089f"
      },
      "execution_count": null,
      "outputs": [
        {
          "output_type": "execute_result",
          "data": {
            "text/plain": [
              "14685"
            ]
          },
          "metadata": {},
          "execution_count": 119
        }
      ]
    }
  ],
  "metadata": {
    "colab": {
      "collapsed_sections": [],
      "name": "Talent_Hackathon_Aztra-Zeneca-PartI.ipynb",
      "provenance": []
    },
    "kernelspec": {
      "display_name": "Python 3",
      "name": "python3"
    },
    "language_info": {
      "name": "python"
    }
  },
  "nbformat": 4,
  "nbformat_minor": 0
}