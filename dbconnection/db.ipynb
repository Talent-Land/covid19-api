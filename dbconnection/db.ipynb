{
 "cells": [
  {
   "cell_type": "code",
   "execution_count": 2,
   "metadata": {},
   "outputs": [],
   "source": [
    "import pyodbc\n",
    "import pandas as pd"
   ]
  },
  {
   "cell_type": "code",
   "execution_count": 3,
   "metadata": {},
   "outputs": [],
   "source": [
    "server = 'sarumantl.database.windows.net'\n",
    "database = 'covid_vaccines_research'\n",
    "username = 'sarumancovidvaccines'\n",
    "password = 'weareanawesometeam2022#'\n",
    "# driver= '{SQL Server}'\n",
    "driver= '{ODBC Driver 17 for SQL Server}'\n",
    "\n",
    "cnxn = pyodbc.connect('DRIVER='+driver+';SERVER=tcp:'+server+';PORT=1433;DATABASE='+database+';UID='+username+';PWD='+ password)\n",
    "cursor = cnxn.cursor()"
   ]
  },
  {
   "cell_type": "code",
   "execution_count": 4,
   "metadata": {},
   "outputs": [],
   "source": [
    "sql = \"SELECT * FROM clinical_research\"\n",
    "# sql = \"SELECT table_name FROM information_schema.tables WHERE table_type = 'base table'\"\n",
    "\n",
    "cursor.execute(sql)\n",
    "data = cursor.fetchall()"
   ]
  },
  {
   "cell_type": "code",
   "execution_count": 5,
   "metadata": {},
   "outputs": [
    {
     "data": {
      "text/plain": [
       "[('study_type', ),\n",
       " ('country', ),\n",
       " ('gender', ),\n",
       " ('clinical_research', ),\n",
       " ('country_clinical_research', )]"
      ]
     },
     "execution_count": 5,
     "metadata": {},
     "output_type": "execute_result"
    }
   ],
   "source": [
    "data"
   ]
  },
  {
   "cell_type": "code",
   "execution_count": 5,
   "metadata": {},
   "outputs": [
    {
     "name": "stderr",
     "output_type": "stream",
     "text": [
      "c:\\Users\\Q542463\\AppData\\Local\\Programs\\Python\\Python310\\lib\\site-packages\\pandas\\io\\sql.py:761: UserWarning: pandas only support SQLAlchemy connectable(engine/connection) ordatabase string URI or sqlite3 DBAPI2 connectionother DBAPI2 objects are not tested, please consider using SQLAlchemy\n",
      "  warnings.warn(\n"
     ]
    }
   ],
   "source": [
    "data = pd.read_sql(sql, cnxn)"
   ]
  },
  {
   "cell_type": "code",
   "execution_count": 6,
   "metadata": {},
   "outputs": [
    {
     "data": {
      "text/plain": [
       "Index(['id', 'trial_ID', 'last_refreshed_date', 'public_title',\n",
       "       'scientific_title', 'primary_sponsor', 'registration_date',\n",
       "       'source_register', 'web_address', 'recruitment_status',\n",
       "       'enrollment_date', 'study_design', 'phase', 'contact_firstname',\n",
       "       'contact_lastname', 'contact_address', 'contact_email', 'contact_tel',\n",
       "       'contact_affiliation', 'inclusion_criteria', 'exclusion_criteria',\n",
       "       'condition', 'intervention', 'primary_outcome', 'results_posted_date',\n",
       "       'results_completed_date', 'results_url_link', 'bridging_flag',\n",
       "       'bridged_type', 'results', 'countries', 'id_gender', 'id_study_type',\n",
       "       'inclusion_age_min', 'inclusion_age_max', 'inclusion_age_min_unit',\n",
       "       'inclusion_age_max_unit', 'target_size'],\n",
       "      dtype='object')"
      ]
     },
     "execution_count": 6,
     "metadata": {},
     "output_type": "execute_result"
    }
   ],
   "source": [
    "data.columns"
   ]
  },
  {
   "cell_type": "code",
   "execution_count": null,
   "metadata": {},
   "outputs": [],
   "source": [
    "cursor.close()\n",
    "cnxn.close()"
   ]
  }
 ],
 "metadata": {
  "kernelspec": {
   "display_name": "Python 3.10.5 64-bit",
   "language": "python",
   "name": "python3"
  },
  "language_info": {
   "codemirror_mode": {
    "name": "ipython",
    "version": 3
   },
   "file_extension": ".py",
   "mimetype": "text/x-python",
   "name": "python",
   "nbconvert_exporter": "python",
   "pygments_lexer": "ipython3",
   "version": "3.10.5"
  },
  "orig_nbformat": 4,
  "vscode": {
   "interpreter": {
    "hash": "5eaa6ce6845a8f540bcc9d8a3edd45263bb56d0f41eb3a9e2693821b6b3747e7"
   }
  }
 },
 "nbformat": 4,
 "nbformat_minor": 2
}
